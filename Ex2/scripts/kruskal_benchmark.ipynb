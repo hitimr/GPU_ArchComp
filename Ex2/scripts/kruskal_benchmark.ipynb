{
 "cells": [
  {
   "cell_type": "code",
   "execution_count": 1,
   "metadata": {},
   "outputs": [],
   "source": [
    "import numpy as np\n",
    "import igraph as ig\n",
    "import pandas as pd\n",
    "import matplotlib.pyplot as plt\n",
    "\n",
    "from time import time\n",
    "\n",
    "from common import *\n",
    "from generate import *\n",
    "from filter_kruskal import *"
   ]
  },
  {
   "cell_type": "code",
   "execution_count": 2,
   "metadata": {},
   "outputs": [
    {
     "name": "stdout",
     "output_type": "stream",
     "text": [
      "Allowed options:\n",
      "  -h [ --help ]                      produce help message\n",
      "  -m [ --mst-kernel ] arg (=1)       Kernel used calculating MST. 0 = regular \n",
      "                                     kruskal, 1 = filter-kruskal\n",
      "  -s [ --sort-kernel ] arg (=1)      Kernel used for sort() [int]\n",
      "  -p [ --partition-kernel ] arg (=1) Kernel used for partition() [int]\n",
      "  --pinned-memory                    use pinned memory (OFF by default)\n",
      "  -f [ --filter-kernel ] arg (=0)    Kernel used for filter() [int]\n",
      "  -c [ --compress-kernel ] arg (=1)  Kernel used for compress() [int]\n",
      "  -r [ --recusion-depth ] arg (=32)  Kernel used for compress() [int]\n",
      "  -n [ --repetitions ] arg (=1)      Number of times the MST calculation is \n",
      "                                     repeated [int]\n",
      "  -i [ --inputfile ] arg             input file containing graph data. Filepath\n",
      "                                     must be relative to Ex2/\n",
      "  -t [ --ouputfile_timings ] arg     Output file for timings. Filepath must be \n",
      "                                     relative to Ex2/\n",
      "\n"
     ]
    }
   ],
   "source": [
    "#common.run(args=\"--help\")\n",
    "run(args=\"--help\")"
   ]
  },
  {
   "cell_type": "code",
   "execution_count": 18,
   "metadata": {},
   "outputs": [
    {
     "name": "stdout",
     "output_type": "stream",
     "text": [
      "Running benchmark with ./home/student1/workspace/simon/GPU_ArchComp/Ex2/build/src/ex2 --ouputfile_timings /home/student1/workspace/simon/GPU_ArchComp/Ex2/out/timing_results.csv --inputfile benchmark_data/barabasi_800_50pct.csv --mst-kernel 1 -s 1 -n 1\n",
      "159705 Edges loaded\n",
      "\n",
      "Benchmark results:\n",
      "Initialize\tµ=1.26787s\tsigma=0s\tmedian=1.26787s\ttotal=1.26787\tnum_calls=1\n",
      "Kruskal()\tµ=0.00505154s\tsigma=0s\tmedian=0.00505154s\ttotal=0.00505154\tnum_calls=1\n",
      "filter()\tµ=0.000811803s\tsigma=0.000306963s\tmedian=0.000672534s\ttotal=0.00730623\tnum_calls=9\n",
      "grow MST\tµ=0.000400363s\tsigma=0s\tmedian=0.000400363s\ttotal=0.000400363\tnum_calls=1\n",
      "partition()\tµ=0.000782826s\tsigma=0.000154989s\tmedian=0.000689746s\ttotal=0.00704544\tnum_calls=9\n",
      "sort()\tµ=0.00461608s\tsigma=0s\tmedian=0.00461608s\ttotal=0.00461608\tnum_calls=1\n",
      "total\tµ=1.28732s\tsigma=0s\tmedian=1.28732s\ttotal=1.28732\tnum_calls=1\n"
     ]
    },
    {
     "data": {
      "text/html": [
       "<div>\n",
       "<style scoped>\n",
       "    .dataframe tbody tr th:only-of-type {\n",
       "        vertical-align: middle;\n",
       "    }\n",
       "\n",
       "    .dataframe tbody tr th {\n",
       "        vertical-align: top;\n",
       "    }\n",
       "\n",
       "    .dataframe thead th {\n",
       "        text-align: right;\n",
       "    }\n",
       "</style>\n",
       "<table border=\"1\" class=\"dataframe\">\n",
       "  <thead>\n",
       "    <tr style=\"text-align: right;\">\n",
       "      <th></th>\n",
       "      <th>tag</th>\n",
       "      <th>average</th>\n",
       "      <th>std_dev</th>\n",
       "      <th>median</th>\n",
       "      <th>total</th>\n",
       "      <th>num_calls</th>\n",
       "    </tr>\n",
       "  </thead>\n",
       "  <tbody>\n",
       "    <tr>\n",
       "      <th>0</th>\n",
       "      <td>Initialize</td>\n",
       "      <td>1.267870</td>\n",
       "      <td>0.000000</td>\n",
       "      <td>1.267870</td>\n",
       "      <td>1.267870</td>\n",
       "      <td>1</td>\n",
       "    </tr>\n",
       "    <tr>\n",
       "      <th>1</th>\n",
       "      <td>Kruskal()</td>\n",
       "      <td>0.005052</td>\n",
       "      <td>0.000000</td>\n",
       "      <td>0.005052</td>\n",
       "      <td>0.005052</td>\n",
       "      <td>1</td>\n",
       "    </tr>\n",
       "    <tr>\n",
       "      <th>2</th>\n",
       "      <td>filter()</td>\n",
       "      <td>0.000812</td>\n",
       "      <td>0.000307</td>\n",
       "      <td>0.000673</td>\n",
       "      <td>0.007306</td>\n",
       "      <td>9</td>\n",
       "    </tr>\n",
       "    <tr>\n",
       "      <th>3</th>\n",
       "      <td>grow MST</td>\n",
       "      <td>0.000400</td>\n",
       "      <td>0.000000</td>\n",
       "      <td>0.000400</td>\n",
       "      <td>0.000400</td>\n",
       "      <td>1</td>\n",
       "    </tr>\n",
       "    <tr>\n",
       "      <th>4</th>\n",
       "      <td>partition()</td>\n",
       "      <td>0.000783</td>\n",
       "      <td>0.000155</td>\n",
       "      <td>0.000690</td>\n",
       "      <td>0.007045</td>\n",
       "      <td>9</td>\n",
       "    </tr>\n",
       "    <tr>\n",
       "      <th>5</th>\n",
       "      <td>sort()</td>\n",
       "      <td>0.004616</td>\n",
       "      <td>0.000000</td>\n",
       "      <td>0.004616</td>\n",
       "      <td>0.004616</td>\n",
       "      <td>1</td>\n",
       "    </tr>\n",
       "    <tr>\n",
       "      <th>6</th>\n",
       "      <td>total</td>\n",
       "      <td>1.287320</td>\n",
       "      <td>0.000000</td>\n",
       "      <td>1.287320</td>\n",
       "      <td>1.287320</td>\n",
       "      <td>1</td>\n",
       "    </tr>\n",
       "  </tbody>\n",
       "</table>\n",
       "</div>"
      ],
      "text/plain": [
       "           tag   average   std_dev    median     total  num_calls\n",
       "0   Initialize  1.267870  0.000000  1.267870  1.267870          1\n",
       "1    Kruskal()  0.005052  0.000000  0.005052  0.005052          1\n",
       "2     filter()  0.000812  0.000307  0.000673  0.007306          9\n",
       "3     grow MST  0.000400  0.000000  0.000400  0.000400          1\n",
       "4  partition()  0.000783  0.000155  0.000690  0.007045          9\n",
       "5       sort()  0.004616  0.000000  0.004616  0.004616          1\n",
       "6        total  1.287320  0.000000  1.287320  1.287320          1"
      ]
     },
     "execution_count": 18,
     "metadata": {},
     "output_type": "execute_result"
    }
   ],
   "source": [
    "args = f\"--inputfile benchmark_data/barabasi_800_50pct.csv --mst-kernel 1 -s 1 -n 1\"\n",
    "df = common.run_benchmark(common.OUT_DIR / \"timing_results.csv\", args=args, print_output=True)\n",
    "df"
   ]
  },
  {
   "cell_type": "code",
   "execution_count": 19,
   "metadata": {},
   "outputs": [
    {
     "name": "stdout",
     "output_type": "stream",
     "text": [
      "Running benchmark with ./home/student1/workspace/simon/GPU_ArchComp/Ex2/build/src/ex2 --ouputfile_timings /home/student1/workspace/simon/GPU_ArchComp/Ex2/out/timing_results.csv --inputfile benchmark_data/barabasi_800_50pct.csv --mst-kernel 1 -s 1 -n 5\n",
      "159705 Edges loaded\n",
      "\n",
      "Benchmark results:\n",
      "Initialize\tµ=0.0343888s\tsigma=0.0291308s\tmedian=0.0017706s\ttotal=0.171944\tnum_calls=5\n",
      "Kruskal()\tµ=0.00224508s\tsigma=0.000646204s\tmedian=0.00364999s\ttotal=0.0202057\tnum_calls=9\n",
      "filter()\tµ=0.00135092s\tsigma=0.000334828s\tmedian=9.9336e-05s\ttotal=0.0378257\tnum_calls=28\n",
      "grow MST\tµ=0.000178406s\tsigma=5.10487e-05s\tmedian=0.00031936s\ttotal=0.00160566\tnum_calls=9\n",
      "partition()\tµ=0.000939124s\tsigma=0.000106282s\tmedian=0.000460226s\ttotal=0.0262955\tnum_calls=28\n",
      "sort()\tµ=0.00203906s\tsigma=0.000595659s\tmedian=0.00329965s\ttotal=0.0183515\tnum_calls=9\n",
      "total\tµ=0.0512847s\tsigma=0.030316s\tmedian=0.0162103s\ttotal=0.256424\tnum_calls=5\n"
     ]
    },
    {
     "data": {
      "text/html": [
       "<div>\n",
       "<style scoped>\n",
       "    .dataframe tbody tr th:only-of-type {\n",
       "        vertical-align: middle;\n",
       "    }\n",
       "\n",
       "    .dataframe tbody tr th {\n",
       "        vertical-align: top;\n",
       "    }\n",
       "\n",
       "    .dataframe thead th {\n",
       "        text-align: right;\n",
       "    }\n",
       "</style>\n",
       "<table border=\"1\" class=\"dataframe\">\n",
       "  <thead>\n",
       "    <tr style=\"text-align: right;\">\n",
       "      <th></th>\n",
       "      <th>tag</th>\n",
       "      <th>average</th>\n",
       "      <th>std_dev</th>\n",
       "      <th>median</th>\n",
       "      <th>total</th>\n",
       "      <th>num_calls</th>\n",
       "    </tr>\n",
       "  </thead>\n",
       "  <tbody>\n",
       "    <tr>\n",
       "      <th>0</th>\n",
       "      <td>Initialize</td>\n",
       "      <td>0.034389</td>\n",
       "      <td>0.029131</td>\n",
       "      <td>0.001771</td>\n",
       "      <td>0.171944</td>\n",
       "      <td>5</td>\n",
       "    </tr>\n",
       "    <tr>\n",
       "      <th>1</th>\n",
       "      <td>Kruskal()</td>\n",
       "      <td>0.002245</td>\n",
       "      <td>0.000646</td>\n",
       "      <td>0.003650</td>\n",
       "      <td>0.020206</td>\n",
       "      <td>9</td>\n",
       "    </tr>\n",
       "    <tr>\n",
       "      <th>2</th>\n",
       "      <td>filter()</td>\n",
       "      <td>0.001351</td>\n",
       "      <td>0.000335</td>\n",
       "      <td>0.000099</td>\n",
       "      <td>0.037826</td>\n",
       "      <td>28</td>\n",
       "    </tr>\n",
       "    <tr>\n",
       "      <th>3</th>\n",
       "      <td>grow MST</td>\n",
       "      <td>0.000178</td>\n",
       "      <td>0.000051</td>\n",
       "      <td>0.000319</td>\n",
       "      <td>0.001606</td>\n",
       "      <td>9</td>\n",
       "    </tr>\n",
       "    <tr>\n",
       "      <th>4</th>\n",
       "      <td>partition()</td>\n",
       "      <td>0.000939</td>\n",
       "      <td>0.000106</td>\n",
       "      <td>0.000460</td>\n",
       "      <td>0.026295</td>\n",
       "      <td>28</td>\n",
       "    </tr>\n",
       "    <tr>\n",
       "      <th>5</th>\n",
       "      <td>sort()</td>\n",
       "      <td>0.002039</td>\n",
       "      <td>0.000596</td>\n",
       "      <td>0.003300</td>\n",
       "      <td>0.018351</td>\n",
       "      <td>9</td>\n",
       "    </tr>\n",
       "    <tr>\n",
       "      <th>6</th>\n",
       "      <td>total</td>\n",
       "      <td>0.051285</td>\n",
       "      <td>0.030316</td>\n",
       "      <td>0.016210</td>\n",
       "      <td>0.256424</td>\n",
       "      <td>5</td>\n",
       "    </tr>\n",
       "  </tbody>\n",
       "</table>\n",
       "</div>"
      ],
      "text/plain": [
       "           tag   average   std_dev    median     total  num_calls\n",
       "0   Initialize  0.034389  0.029131  0.001771  0.171944          5\n",
       "1    Kruskal()  0.002245  0.000646  0.003650  0.020206          9\n",
       "2     filter()  0.001351  0.000335  0.000099  0.037826         28\n",
       "3     grow MST  0.000178  0.000051  0.000319  0.001606          9\n",
       "4  partition()  0.000939  0.000106  0.000460  0.026295         28\n",
       "5       sort()  0.002039  0.000596  0.003300  0.018351          9\n",
       "6        total  0.051285  0.030316  0.016210  0.256424          5"
      ]
     },
     "execution_count": 19,
     "metadata": {},
     "output_type": "execute_result"
    }
   ],
   "source": [
    "args = f\"--inputfile benchmark_data/barabasi_800_50pct.csv --mst-kernel 1 -s 1 -n 5\"\n",
    "df = common.run_benchmark(common.OUT_DIR / \"timing_results.csv\", args=args, print_output=True)\n",
    "df"
   ]
  },
  {
   "cell_type": "code",
   "execution_count": 20,
   "metadata": {},
   "outputs": [
    {
     "name": "stdout",
     "output_type": "stream",
     "text": [
      "Running benchmark with ./home/student1/workspace/simon/GPU_ArchComp/Ex2/build/src/ex2 --ouputfile_timings /home/student1/workspace/simon/GPU_ArchComp/Ex2/out/timing_results.csv --inputfile benchmark_data/barabasi_800_50pct.csv --mst-kernel 1 -s 1 -n 10\n",
      "159705 Edges loaded\n",
      "\n",
      "Benchmark results:\n",
      "Initialize\tµ=0.0180341s\tsigma=0.0153976s\tmedian=0.00177276s\ttotal=0.180341\tnum_calls=10\n",
      "Kruskal()\tµ=0.00286794s\tsigma=0.000540314s\tmedian=0.000562788s\ttotal=0.045887\tnum_calls=16\n",
      "filter()\tµ=0.00131927s\tsigma=0.000214542s\tmedian=0.000231685s\ttotal=0.0738793\tnum_calls=56\n",
      "grow MST\tµ=0.000202602s\tsigma=3.72415e-05s\tmedian=2.0448e-05s\ttotal=0.00324163\tnum_calls=16\n",
      "partition()\tµ=0.000876486s\tsigma=7.13041e-05s\tmedian=0.00162476s\ttotal=0.0490832\tnum_calls=56\n",
      "sort()\tµ=0.00263485s\tsigma=0.000504232s\tmedian=0.00051637s\ttotal=0.0421576\tnum_calls=16\n",
      "total\tµ=0.0349485s\tsigma=0.0160409s\tmedian=0.0191484s\ttotal=0.349485\tnum_calls=10\n"
     ]
    },
    {
     "data": {
      "text/html": [
       "<div>\n",
       "<style scoped>\n",
       "    .dataframe tbody tr th:only-of-type {\n",
       "        vertical-align: middle;\n",
       "    }\n",
       "\n",
       "    .dataframe tbody tr th {\n",
       "        vertical-align: top;\n",
       "    }\n",
       "\n",
       "    .dataframe thead th {\n",
       "        text-align: right;\n",
       "    }\n",
       "</style>\n",
       "<table border=\"1\" class=\"dataframe\">\n",
       "  <thead>\n",
       "    <tr style=\"text-align: right;\">\n",
       "      <th></th>\n",
       "      <th>tag</th>\n",
       "      <th>average</th>\n",
       "      <th>std_dev</th>\n",
       "      <th>median</th>\n",
       "      <th>total</th>\n",
       "      <th>num_calls</th>\n",
       "    </tr>\n",
       "  </thead>\n",
       "  <tbody>\n",
       "    <tr>\n",
       "      <th>0</th>\n",
       "      <td>Initialize</td>\n",
       "      <td>0.018034</td>\n",
       "      <td>0.015398</td>\n",
       "      <td>0.001773</td>\n",
       "      <td>0.180341</td>\n",
       "      <td>10</td>\n",
       "    </tr>\n",
       "    <tr>\n",
       "      <th>1</th>\n",
       "      <td>Kruskal()</td>\n",
       "      <td>0.002868</td>\n",
       "      <td>0.000540</td>\n",
       "      <td>0.000563</td>\n",
       "      <td>0.045887</td>\n",
       "      <td>16</td>\n",
       "    </tr>\n",
       "    <tr>\n",
       "      <th>2</th>\n",
       "      <td>filter()</td>\n",
       "      <td>0.001319</td>\n",
       "      <td>0.000215</td>\n",
       "      <td>0.000232</td>\n",
       "      <td>0.073879</td>\n",
       "      <td>56</td>\n",
       "    </tr>\n",
       "    <tr>\n",
       "      <th>3</th>\n",
       "      <td>grow MST</td>\n",
       "      <td>0.000203</td>\n",
       "      <td>0.000037</td>\n",
       "      <td>0.000020</td>\n",
       "      <td>0.003242</td>\n",
       "      <td>16</td>\n",
       "    </tr>\n",
       "    <tr>\n",
       "      <th>4</th>\n",
       "      <td>partition()</td>\n",
       "      <td>0.000876</td>\n",
       "      <td>0.000071</td>\n",
       "      <td>0.001625</td>\n",
       "      <td>0.049083</td>\n",
       "      <td>56</td>\n",
       "    </tr>\n",
       "    <tr>\n",
       "      <th>5</th>\n",
       "      <td>sort()</td>\n",
       "      <td>0.002635</td>\n",
       "      <td>0.000504</td>\n",
       "      <td>0.000516</td>\n",
       "      <td>0.042158</td>\n",
       "      <td>16</td>\n",
       "    </tr>\n",
       "    <tr>\n",
       "      <th>6</th>\n",
       "      <td>total</td>\n",
       "      <td>0.034949</td>\n",
       "      <td>0.016041</td>\n",
       "      <td>0.019148</td>\n",
       "      <td>0.349485</td>\n",
       "      <td>10</td>\n",
       "    </tr>\n",
       "  </tbody>\n",
       "</table>\n",
       "</div>"
      ],
      "text/plain": [
       "           tag   average   std_dev    median     total  num_calls\n",
       "0   Initialize  0.018034  0.015398  0.001773  0.180341         10\n",
       "1    Kruskal()  0.002868  0.000540  0.000563  0.045887         16\n",
       "2     filter()  0.001319  0.000215  0.000232  0.073879         56\n",
       "3     grow MST  0.000203  0.000037  0.000020  0.003242         16\n",
       "4  partition()  0.000876  0.000071  0.001625  0.049083         56\n",
       "5       sort()  0.002635  0.000504  0.000516  0.042158         16\n",
       "6        total  0.034949  0.016041  0.019148  0.349485         10"
      ]
     },
     "execution_count": 20,
     "metadata": {},
     "output_type": "execute_result"
    }
   ],
   "source": [
    "args = f\"--inputfile benchmark_data/barabasi_800_50pct.csv --mst-kernel 1 -s 1 -n 10\"\n",
    "df = common.run_benchmark(common.OUT_DIR / \"timing_results.csv\", args=args, print_output=True)\n",
    "df"
   ]
  },
  {
   "cell_type": "code",
   "execution_count": 10,
   "metadata": {},
   "outputs": [
    {
     "name": "stdout",
     "output_type": "stream",
     "text": [
      "Running benchmark with ./home/student1/workspace/simon/GPU_ArchComp/Ex2/build/src/ex2 --ouputfile_timings /home/student1/workspace/simon/GPU_ArchComp/Ex2/out/timing_results.csv --inputfile benchmark_data/barabasi_12800_50pct.csv --mst-kernel 1 -s 1 -n 10\n",
      "40966875 Edges loaded\n",
      "terminate called after throwing an instance of 'std::bad_array_new_length'\n",
      "  what():  std::bad_array_new_length\n"
     ]
    },
    {
     "ename": "CalledProcessError",
     "evalue": "Command '['/home/student1/workspace/simon/GPU_ArchComp/Ex2/build/src/ex2', '--ouputfile_timings', '/home/student1/workspace/simon/GPU_ArchComp/Ex2/out/timing_results.csv', '--inputfile', 'benchmark_data/barabasi_12800_50pct.csv', '--mst-kernel', '1', '-s', '1', '-n', '10']' died with <Signals.SIGABRT: 6>.",
     "output_type": "error",
     "traceback": [
      "\u001b[0;31m---------------------------------------------------------------------------\u001b[0m",
      "\u001b[0;31mCalledProcessError\u001b[0m                        Traceback (most recent call last)",
      "\u001b[1;32m/home/student1/workspace/simon/GPU_ArchComp/Ex2/scripts/kruskal_benchmark.ipynb Cell 6'\u001b[0m in \u001b[0;36m<cell line: 2>\u001b[0;34m()\u001b[0m\n\u001b[1;32m      <a href='vscode-notebook-cell://ssh-remote%2B7b22686f73744e616d65223a2254555f475055227d/home/student1/workspace/simon/GPU_ArchComp/Ex2/scripts/kruskal_benchmark.ipynb#ch0000005vscode-remote?line=0'>1</a>\u001b[0m args \u001b[39m=\u001b[39m \u001b[39mf\u001b[39m\u001b[39m\"\u001b[39m\u001b[39m--inputfile benchmark_data/barabasi_12800_50pct.csv --mst-kernel 1 -s 1 -n 10\u001b[39m\u001b[39m\"\u001b[39m\n\u001b[0;32m----> <a href='vscode-notebook-cell://ssh-remote%2B7b22686f73744e616d65223a2254555f475055227d/home/student1/workspace/simon/GPU_ArchComp/Ex2/scripts/kruskal_benchmark.ipynb#ch0000005vscode-remote?line=1'>2</a>\u001b[0m df \u001b[39m=\u001b[39m common\u001b[39m.\u001b[39;49mrun_benchmark(common\u001b[39m.\u001b[39;49mOUT_DIR \u001b[39m/\u001b[39;49m \u001b[39m\"\u001b[39;49m\u001b[39mtiming_results.csv\u001b[39;49m\u001b[39m\"\u001b[39;49m, args\u001b[39m=\u001b[39;49margs, print_output\u001b[39m=\u001b[39;49m\u001b[39mTrue\u001b[39;49;00m)\n\u001b[1;32m      <a href='vscode-notebook-cell://ssh-remote%2B7b22686f73744e616d65223a2254555f475055227d/home/student1/workspace/simon/GPU_ArchComp/Ex2/scripts/kruskal_benchmark.ipynb#ch0000005vscode-remote?line=2'>3</a>\u001b[0m df\n",
      "File \u001b[0;32m~/workspace/simon/GPU_ArchComp/Ex2/scripts/common.py:39\u001b[0m, in \u001b[0;36mrun_benchmark\u001b[0;34m(outfile, args, print_output, verbose)\u001b[0m\n\u001b[1;32m     36\u001b[0m     \u001b[39mprint\u001b[39m(\u001b[39mf\u001b[39m\u001b[39m\"\u001b[39m\u001b[39mRunning benchmark with .\u001b[39m\u001b[39m{\u001b[39;00mcmd\u001b[39m}\u001b[39;00m\u001b[39m\"\u001b[39m)\n\u001b[1;32m     38\u001b[0m \u001b[39mif\u001b[39;00m(print_output):\n\u001b[0;32m---> 39\u001b[0m     subprocess\u001b[39m.\u001b[39;49mrun(cmd\u001b[39m.\u001b[39;49msplit(sep\u001b[39m=\u001b[39;49m\u001b[39m\"\u001b[39;49m\u001b[39m \u001b[39;49m\u001b[39m\"\u001b[39;49m), check\u001b[39m=\u001b[39;49m\u001b[39mTrue\u001b[39;49;00m,\n\u001b[1;32m     40\u001b[0m                    stderr\u001b[39m=\u001b[39;49msubprocess\u001b[39m.\u001b[39;49mSTDOUT)\n\u001b[1;32m     41\u001b[0m \u001b[39melse\u001b[39;00m:\n\u001b[1;32m     42\u001b[0m     subprocess\u001b[39m.\u001b[39mrun(cmd\u001b[39m.\u001b[39msplit(sep\u001b[39m=\u001b[39m\u001b[39m\"\u001b[39m\u001b[39m \u001b[39m\u001b[39m\"\u001b[39m), check\u001b[39m=\u001b[39m\u001b[39mTrue\u001b[39;00m,\n\u001b[1;32m     43\u001b[0m                    stdout\u001b[39m=\u001b[39msubprocess\u001b[39m.\u001b[39mDEVNULL)\n",
      "File \u001b[0;32m/usr/lib/python3.8/subprocess.py:516\u001b[0m, in \u001b[0;36mrun\u001b[0;34m(input, capture_output, timeout, check, *popenargs, **kwargs)\u001b[0m\n\u001b[1;32m    514\u001b[0m     retcode \u001b[39m=\u001b[39m process\u001b[39m.\u001b[39mpoll()\n\u001b[1;32m    515\u001b[0m     \u001b[39mif\u001b[39;00m check \u001b[39mand\u001b[39;00m retcode:\n\u001b[0;32m--> 516\u001b[0m         \u001b[39mraise\u001b[39;00m CalledProcessError(retcode, process\u001b[39m.\u001b[39margs,\n\u001b[1;32m    517\u001b[0m                                  output\u001b[39m=\u001b[39mstdout, stderr\u001b[39m=\u001b[39mstderr)\n\u001b[1;32m    518\u001b[0m \u001b[39mreturn\u001b[39;00m CompletedProcess(process\u001b[39m.\u001b[39margs, retcode, stdout, stderr)\n",
      "\u001b[0;31mCalledProcessError\u001b[0m: Command '['/home/student1/workspace/simon/GPU_ArchComp/Ex2/build/src/ex2', '--ouputfile_timings', '/home/student1/workspace/simon/GPU_ArchComp/Ex2/out/timing_results.csv', '--inputfile', 'benchmark_data/barabasi_12800_50pct.csv', '--mst-kernel', '1', '-s', '1', '-n', '10']' died with <Signals.SIGABRT: 6>."
     ]
    }
   ],
   "source": [
    "# this will fail after 1.5 mins => let the largest graph only run 3 times\n",
    "args = f\"--inputfile benchmark_data/barabasi_12800_50pct.csv --mst-kernel 1 -s 1 -n 10\"\n",
    "df = common.run_benchmark(common.OUT_DIR / \"timing_results.csv\", args=args, print_output=True)\n",
    "df"
   ]
  },
  {
   "cell_type": "code",
   "execution_count": 18,
   "metadata": {},
   "outputs": [
    {
     "name": "stdout",
     "output_type": "stream",
     "text": [
      "Allowed options:\n",
      "  -h [ --help ]                      produce help message\n",
      "  -m [ --mst-kernel ] arg (=1)       Kernel used calculating MST. 0 = regular \n",
      "                                     kruskal, 1 = filter-kruskal\n",
      "  -s [ --sort-kernel ] arg (=1)      Kernel used for sort() [int]\n",
      "  -p [ --partition-kernel ] arg (=1) Kernel used for partition() [int]\n",
      "  --pinned-memory                    use pinned memory (OFF by default)\n",
      "  -f [ --filter-kernel ] arg (=0)    Kernel used for filter() [int]\n",
      "  -c [ --compress-kernel ] arg (=1)  Kernel used for compress() [int]\n",
      "  -r [ --recusion-depth ] arg (=32)  Kernel used for compress() [int]\n",
      "  -n [ --repetitions ] arg (=1)      Number of times the MST calculation is \n",
      "                                     repeated [int]\n",
      "  -i [ --inputfile ] arg             input file containing graph data. Filepath\n",
      "                                     must be relative to Ex2/\n",
      "  -t [ --ouputfile_timings ] arg     Output file for timings. Filepath must be \n",
      "                                     relative to Ex2/\n",
      "\n"
     ]
    }
   ],
   "source": [
    "run(args=\"--help\")"
   ]
  },
  {
   "cell_type": "code",
   "execution_count": 25,
   "metadata": {},
   "outputs": [],
   "source": [
    "whatever_runs = [{'n_nodes': 200, 'density': '50pct', 'prefix':'all_one', 'flags':'-m 1 -s 1 -p 1 -f 1 -c 1 -r 1 -n 10'},\n",
    "                {'n_nodes': 400, 'density': '50pct', 'prefix':'all_one', 'flags':'-m 1 -s 1 -p 1 -f 1 -c 1 -r 1 -n 10'},\n",
    "                {'n_nodes': 800, 'density': '50pct', 'prefix':'all_one', 'flags':'-m 1 -s 1 -p 1 -f 1 -c 1 -r 1 -n 10'},\n",
    "                {'n_nodes': 1600, 'density': '50pct', 'prefix':'all_one', 'flags':'-m 1 -s 1 -p 1 -f 1 -c 1 -r 1 -n 10'},\n",
    "                {'n_nodes': 3200, 'density': '50pct', 'prefix':'all_one', 'flags':'-m 1 -s 1 -p 1 -f 1 -c 1 -r 1 -n 10'},\n",
    "                {'n_nodes': 6400, 'density': '50pct', 'prefix':'all_one', 'flags':'-m 1 -s 1 -p 1 -f 1 -c 1 -r 1 -n 10'},\n",
    "                {'n_nodes': 200, 'density': '50pct', 'prefix':'all_zero', 'flags':'-m 0 -s 0 -p 0 -f 0 -c 0 -r 0 -n 10'},\n",
    "                {'n_nodes': 400, 'density': '50pct', 'prefix':'all_zero', 'flags':'-m 0 -s 0 -p 0 -f 0 -c 0 -r 0 -n 10'},\n",
    "                {'n_nodes': 800, 'density': '50pct', 'prefix':'all_zero', 'flags':'-m 0 -s 0 -p 0 -f 0 -c 0 -r 0 -n 10'},\n",
    "                {'n_nodes': 1600, 'density': '50pct', 'prefix':'all_zero', 'flags':'-m 0 -s 0 -p 0 -f 0 -c 0 -r 0 -n 10'}\n",
    "                ]\n",
    "\n",
    "n_nodes_list_d10 = [100, 200, 400, 800, 1600, 3200, 6400, 12800, 25600]\n",
    "n_nodes_list_d50 = [50, 100, 200, 400, 800, 1600, 3200, 6400, 12800]\n",
    "n_nodes_list_d90 = [25, 50, 100, 200, 400, 800, 1600, 3200, 6400]\n",
    "\n",
    "def get_run_list(n_nodes_list, density, prefix, flags, reps_standard=10, reps_last=3):\n",
    "    run_list = []\n",
    "    for n_nodes in n_nodes_list[:-1]:\n",
    "        run_list.append({'n_nodes': n_nodes, 'density': density, 'prefix': prefix, 'flags': flags + f' -n {reps_standard}'})\n",
    "    # fewer repetitions on the biggest graph\n",
    "    run_list.append({'n_nodes': n_nodes_list[-1], 'density': density, 'prefix': prefix, 'flags': flags + f' -n {reps_last}'})\n",
    "    return run_list\n",
    "\n",
    "\n",
    "\n",
    "thrust_runs_d10 = get_run_list(n_nodes_list_d10, '10pct', 'thrust', '-s 2 -p 3 -f 2')\n",
    "thrust_runs_d50 = get_run_list(n_nodes_list_d50, '50pct', 'thrust', '-s 2 -p 3 -f 2')\n",
    "thrust_runs_d90 = get_run_list(n_nodes_list_d90, '90pct', 'thrust', '-s 2 -p 3 -f 2')\n",
    "\n",
    "filter_kruskal_runs_d10 = get_run_list(n_nodes_list_d10, '10pct', 'filter_kruskal', '')\n",
    "filter_kruskal_runs_d50 = get_run_list(n_nodes_list_d50, '50pct', 'filter_kruskal', '')\n",
    "filter_kruskal_runs_d90 = get_run_list(n_nodes_list_d90, '90pct', 'filter_kruskal', '')\n",
    "\n",
    "regular_kruskal_runs_d10 = get_run_list(n_nodes_list_d10, '10pct', 'filter_kruskal', '-m 0')\n",
    "regular_kruskal_runs_d50 = get_run_list(n_nodes_list_d10, '10pct', 'filter_kruskal', '-m 0')\n",
    "regular_kruskal_runs_d90 = get_run_list(n_nodes_list_d10, '10pct', 'filter_kruskal', '-m 0')\n",
    "\n",
    "\n",
    "\"\"\"\n",
    "# filter kruskal (all flags default)\n",
    "# ----------------------------------\n",
    "filter_kruskal_runs_d10 = []\n",
    "for n_nodes in n_nodes_list_d10[:-1]:\n",
    "    filter_kruskal_runs_d10.append({'n_nodes': n_nodes, 'density': '10pct', 'prefix':'filter_kruskal', 'flags':'-n 10'})\n",
    "# only 3 repetitions on the biggest graph\n",
    "filter_kruskal_runs_d10.append({'n_nodes': n_nodes_list_d10[-1], 'density': '10pct', 'prefix':'filter_kruskal', 'flags':'-n 3'})\n",
    "\n",
    "regular_kruskal_runs_d10 = []\n",
    "for n_nodes in n_nodes_list_d10[:-1]:\n",
    "    regular_kruskal_runs_d10.append({'n_nodes': n_nodes, 'density': '10pct', 'prefix':'regular_kruskal', 'flags':'-m 0 -n 10'})\n",
    "# only 3 repetitions on the biggest graph\n",
    "regular_kruskal_runs_d10.append({'n_nodes': n_nodes_list_d10[-1], 'density': '10pct', 'prefix':'regular_kruskal', 'flags':'-m 0 -n 3'})\n",
    "\n",
    "thrust_runs_d10 = []\n",
    "for n_nodes in n_nodes_list_d10[:-1]:\n",
    "    thrust_runs_d10.append({'n_nodes': n_nodes, 'density': '10pct', 'prefix':'thrust', 'flags':'-s 2 -p 3 -f 2 -n 10'})\n",
    "# only 3 repetitions on the biggest graph\n",
    "thrust_runs_d10.append({'n_nodes': n_nodes_list_d10[-1], 'density': '10pct', 'prefix':'thrust', 'flags':'-s 2 -p 3 -f 2 -n 3'})\n",
    "\n",
    "\n",
    "\n",
    "filter_kruskal_runs_d50 = []\n",
    "for n_nodes in n_nodes_list_d50[:-1]:\n",
    "    filter_kruskal_runs_d50.append({'n_nodes': n_nodes, 'density': '50pct', 'prefix':'filter_kruskal', 'flags':'-n 10'})\n",
    "# only 3 repetitions on the biggest graph\n",
    "filter_kruskal_runs_d50.append({'n_nodes': n_nodes_list_d50[-1], 'density': '50pct', 'prefix':'filter_kruskal', 'flags':'-n 3'})\n",
    "\n",
    "regular_kruskal_runs_d50 = []\n",
    "for n_nodes in n_nodes_list_d50[:-1]:\n",
    "    regular_kruskal_runs_d50.append({'n_nodes': n_nodes, 'density': '50pct', 'prefix':'regular_kruskal', 'flags':'-m 0 -n 10'})\n",
    "# only 3 repetitions on the biggest graph\n",
    "regular_kruskal_runs_d50.append({'n_nodes': n_nodes_list_d50[-1], 'density': '50pct', 'prefix':'regular_kruskal', 'flags':'-m 0 -n 3'})\n",
    "\n",
    "thrust_runs_d50 = []\n",
    "for n_nodes in n_nodes_list_d50[:-1]:\n",
    "    thrust_runs_d50.append({'n_nodes': n_nodes, 'density': '50pct', 'prefix':'thrust', 'flags':'-s 2 -p 3 -f 2 -n 10'})\n",
    "# only 3 repetitions on the biggest graph\n",
    "thrust_runs_d50.append({'n_nodes': n_nodes_list_d50[-1], 'density': '50pct', 'prefix':'thrust', 'flags':'-s 2 -p 3 -f 2 -n 3'})\n",
    "\n",
    "\n",
    "\n",
    "filter_kruskal_runs_d90 = []\n",
    "for n_nodes in n_nodes_list_d90[:-1]:\n",
    "    filter_kruskal_runs_d90.append({'n_nodes': n_nodes, 'density': '90pct', 'prefix':'filter_kruskal', 'flags':'-n 10'})\n",
    "# only 3 repetitions on the biggest graph\n",
    "filter_kruskal_runs_d90.append({'n_nodes': n_nodes_list_d90[-1], 'density': '90pct', 'prefix':'filter_kruskal', 'flags':'-n 3'})\n",
    "\n",
    "regular_kruskal_runs_d90 = []\n",
    "for n_nodes in n_nodes_list_d90[:-1]:\n",
    "    regular_kruskal_runs_d90.append({'n_nodes': n_nodes, 'density': '90pct', 'prefix':'regular_kruskal', 'flags':'-m 0 -n 10'})\n",
    "# only 3 repetitions on the biggest graph\n",
    "regular_kruskal_runs_d90.append({'n_nodes': n_nodes_list_d90[-1], 'density': '90pct', 'prefix':'regular_kruskal', 'flags':'-m 0 -n 3'})\n",
    "\n",
    "thrust_runs_d90 = []\n",
    "for n_nodes in n_nodes_list_d90[:-1]:\n",
    "    thrust_runs_d90.append({'n_nodes': n_nodes, 'density': '90pct', 'prefix':'thrust', 'flags':'-s 2 -p 3 -f 2 -n 10'})\n",
    "# only 3 repetitions on the biggest graph\n",
    "thrust_runs_d90.append({'n_nodes': n_nodes_list_d90[-1], 'density': '90pct', 'prefix':'thrust', 'flags':'-s 2 -p 3 -f 2 -n 3'})\n",
    "\n",
    "thrust_runs_d90 = get_run_list(n_nodes_list_d90, '90pct', 'thrust', '-s 2 -p 3 -f 2')\n",
    "\n",
    "\"\"\""
   ]
  },
  {
   "cell_type": "code",
   "execution_count": 27,
   "metadata": {},
   "outputs": [
    {
     "name": "stdout",
     "output_type": "stream",
     "text": [
      "its good\n",
      "its good\n",
      "its good\n",
      "its good\n",
      "its good\n",
      "its good\n",
      "its good\n",
      "its good\n",
      "its good\n",
      "\n",
      "{'n_nodes': 25, 'density': '90pct', 'prefix': 'thrust', 'flags': '-s 2 -p 3 -f 2 -n 10'}\n",
      "{'n_nodes': 50, 'density': '90pct', 'prefix': 'thrust', 'flags': '-s 2 -p 3 -f 2 -n 10'}\n",
      "{'n_nodes': 100, 'density': '90pct', 'prefix': 'thrust', 'flags': '-s 2 -p 3 -f 2 -n 10'}\n",
      "{'n_nodes': 200, 'density': '90pct', 'prefix': 'thrust', 'flags': '-s 2 -p 3 -f 2 -n 10'}\n",
      "{'n_nodes': 400, 'density': '90pct', 'prefix': 'thrust', 'flags': '-s 2 -p 3 -f 2 -n 10'}\n",
      "{'n_nodes': 800, 'density': '90pct', 'prefix': 'thrust', 'flags': '-s 2 -p 3 -f 2 -n 10'}\n",
      "{'n_nodes': 1600, 'density': '90pct', 'prefix': 'thrust', 'flags': '-s 2 -p 3 -f 2 -n 10'}\n",
      "{'n_nodes': 3200, 'density': '90pct', 'prefix': 'thrust', 'flags': '-s 2 -p 3 -f 2 -n 10'}\n",
      "{'n_nodes': 6400, 'density': '90pct', 'prefix': 'thrust', 'flags': '-s 2 -p 3 -f 2 -n 3'}\n"
     ]
    }
   ],
   "source": [
    "for i in range(len(thrust_runs_d90)):\n",
    "    if thrust_runs_d90[i] == thrust_runs_d90_alt[i]:\n",
    "        print(\"its good\")\n",
    "    else:\n",
    "        print('error')\n",
    "\n",
    "print('')\n",
    "for r in thrust_runs_d90_alt:\n",
    "    print(r)\n"
   ]
  },
  {
   "cell_type": "code",
   "execution_count": 7,
   "metadata": {},
   "outputs": [
    {
     "name": "stdout",
     "output_type": "stream",
     "text": [
      "Running benchmark with ./home/student1/workspace/simon/GPU_ArchComp/Ex2/build/src/ex2 --ouputfile_timings /home/student1/workspace/simon/GPU_ArchComp/Ex2/out/filter_kruskal_100_10pct.csv --inputfile benchmark_data/barabasi_100_10pct.csv -n 10\n",
      "Running benchmark with ./home/student1/workspace/simon/GPU_ArchComp/Ex2/build/src/ex2 --ouputfile_timings /home/student1/workspace/simon/GPU_ArchComp/Ex2/out/filter_kruskal_200_10pct.csv --inputfile benchmark_data/barabasi_200_10pct.csv -n 10\n",
      "Running benchmark with ./home/student1/workspace/simon/GPU_ArchComp/Ex2/build/src/ex2 --ouputfile_timings /home/student1/workspace/simon/GPU_ArchComp/Ex2/out/filter_kruskal_400_10pct.csv --inputfile benchmark_data/barabasi_400_10pct.csv -n 10\n",
      "Running benchmark with ./home/student1/workspace/simon/GPU_ArchComp/Ex2/build/src/ex2 --ouputfile_timings /home/student1/workspace/simon/GPU_ArchComp/Ex2/out/filter_kruskal_800_10pct.csv --inputfile benchmark_data/barabasi_800_10pct.csv -n 10\n",
      "Running benchmark with ./home/student1/workspace/simon/GPU_ArchComp/Ex2/build/src/ex2 --ouputfile_timings /home/student1/workspace/simon/GPU_ArchComp/Ex2/out/filter_kruskal_1600_10pct.csv --inputfile benchmark_data/barabasi_1600_10pct.csv -n 10\n",
      "Running benchmark with ./home/student1/workspace/simon/GPU_ArchComp/Ex2/build/src/ex2 --ouputfile_timings /home/student1/workspace/simon/GPU_ArchComp/Ex2/out/filter_kruskal_3200_10pct.csv --inputfile benchmark_data/barabasi_3200_10pct.csv -n 10\n",
      "Running benchmark with ./home/student1/workspace/simon/GPU_ArchComp/Ex2/build/src/ex2 --ouputfile_timings /home/student1/workspace/simon/GPU_ArchComp/Ex2/out/filter_kruskal_6400_10pct.csv --inputfile benchmark_data/barabasi_6400_10pct.csv -n 10\n",
      "Running benchmark with ./home/student1/workspace/simon/GPU_ArchComp/Ex2/build/src/ex2 --ouputfile_timings /home/student1/workspace/simon/GPU_ArchComp/Ex2/out/filter_kruskal_12800_10pct.csv --inputfile benchmark_data/barabasi_12800_10pct.csv -n 10\n",
      "Running benchmark with ./home/student1/workspace/simon/GPU_ArchComp/Ex2/build/src/ex2 --ouputfile_timings /home/student1/workspace/simon/GPU_ArchComp/Ex2/out/filter_kruskal_25600_10pct.csv --inputfile benchmark_data/barabasi_25600_10pct.csv -n 3\n"
     ]
    }
   ],
   "source": [
    "do_benchmark_runs(filter_kruskal_runs_d10)"
   ]
  },
  {
   "cell_type": "code",
   "execution_count": 8,
   "metadata": {},
   "outputs": [
    {
     "name": "stdout",
     "output_type": "stream",
     "text": [
      "Running benchmark with ./home/student1/workspace/simon/GPU_ArchComp/Ex2/build/src/ex2 --ouputfile_timings /home/student1/workspace/simon/GPU_ArchComp/Ex2/out/filter_kruskal_50_50pct.csv --inputfile benchmark_data/barabasi_50_50pct.csv -n 10\n",
      "Running benchmark with ./home/student1/workspace/simon/GPU_ArchComp/Ex2/build/src/ex2 --ouputfile_timings /home/student1/workspace/simon/GPU_ArchComp/Ex2/out/filter_kruskal_100_50pct.csv --inputfile benchmark_data/barabasi_100_50pct.csv -n 10\n",
      "Running benchmark with ./home/student1/workspace/simon/GPU_ArchComp/Ex2/build/src/ex2 --ouputfile_timings /home/student1/workspace/simon/GPU_ArchComp/Ex2/out/filter_kruskal_200_50pct.csv --inputfile benchmark_data/barabasi_200_50pct.csv -n 10\n",
      "Running benchmark with ./home/student1/workspace/simon/GPU_ArchComp/Ex2/build/src/ex2 --ouputfile_timings /home/student1/workspace/simon/GPU_ArchComp/Ex2/out/filter_kruskal_400_50pct.csv --inputfile benchmark_data/barabasi_400_50pct.csv -n 10\n",
      "Running benchmark with ./home/student1/workspace/simon/GPU_ArchComp/Ex2/build/src/ex2 --ouputfile_timings /home/student1/workspace/simon/GPU_ArchComp/Ex2/out/filter_kruskal_800_50pct.csv --inputfile benchmark_data/barabasi_800_50pct.csv -n 10\n",
      "Running benchmark with ./home/student1/workspace/simon/GPU_ArchComp/Ex2/build/src/ex2 --ouputfile_timings /home/student1/workspace/simon/GPU_ArchComp/Ex2/out/filter_kruskal_1600_50pct.csv --inputfile benchmark_data/barabasi_1600_50pct.csv -n 10\n",
      "Running benchmark with ./home/student1/workspace/simon/GPU_ArchComp/Ex2/build/src/ex2 --ouputfile_timings /home/student1/workspace/simon/GPU_ArchComp/Ex2/out/filter_kruskal_3200_50pct.csv --inputfile benchmark_data/barabasi_3200_50pct.csv -n 10\n",
      "Running benchmark with ./home/student1/workspace/simon/GPU_ArchComp/Ex2/build/src/ex2 --ouputfile_timings /home/student1/workspace/simon/GPU_ArchComp/Ex2/out/filter_kruskal_6400_50pct.csv --inputfile benchmark_data/barabasi_6400_50pct.csv -n 10\n",
      "Running benchmark with ./home/student1/workspace/simon/GPU_ArchComp/Ex2/build/src/ex2 --ouputfile_timings /home/student1/workspace/simon/GPU_ArchComp/Ex2/out/filter_kruskal_12800_50pct.csv --inputfile benchmark_data/barabasi_12800_50pct.csv -n 3\n"
     ]
    }
   ],
   "source": [
    "do_benchmark_runs(filter_kruskal_runs_d50)"
   ]
  },
  {
   "cell_type": "code",
   "execution_count": 9,
   "metadata": {},
   "outputs": [
    {
     "name": "stdout",
     "output_type": "stream",
     "text": [
      "Running benchmark with ./home/student1/workspace/simon/GPU_ArchComp/Ex2/build/src/ex2 --ouputfile_timings /home/student1/workspace/simon/GPU_ArchComp/Ex2/out/filter_kruskal_25_90pct.csv --inputfile benchmark_data/barabasi_25_90pct.csv -n 10\n",
      "Running benchmark with ./home/student1/workspace/simon/GPU_ArchComp/Ex2/build/src/ex2 --ouputfile_timings /home/student1/workspace/simon/GPU_ArchComp/Ex2/out/filter_kruskal_50_90pct.csv --inputfile benchmark_data/barabasi_50_90pct.csv -n 10\n",
      "Running benchmark with ./home/student1/workspace/simon/GPU_ArchComp/Ex2/build/src/ex2 --ouputfile_timings /home/student1/workspace/simon/GPU_ArchComp/Ex2/out/filter_kruskal_100_90pct.csv --inputfile benchmark_data/barabasi_100_90pct.csv -n 10\n",
      "Running benchmark with ./home/student1/workspace/simon/GPU_ArchComp/Ex2/build/src/ex2 --ouputfile_timings /home/student1/workspace/simon/GPU_ArchComp/Ex2/out/filter_kruskal_200_90pct.csv --inputfile benchmark_data/barabasi_200_90pct.csv -n 10\n",
      "Running benchmark with ./home/student1/workspace/simon/GPU_ArchComp/Ex2/build/src/ex2 --ouputfile_timings /home/student1/workspace/simon/GPU_ArchComp/Ex2/out/filter_kruskal_400_90pct.csv --inputfile benchmark_data/barabasi_400_90pct.csv -n 10\n",
      "Running benchmark with ./home/student1/workspace/simon/GPU_ArchComp/Ex2/build/src/ex2 --ouputfile_timings /home/student1/workspace/simon/GPU_ArchComp/Ex2/out/filter_kruskal_800_90pct.csv --inputfile benchmark_data/barabasi_800_90pct.csv -n 10\n",
      "Running benchmark with ./home/student1/workspace/simon/GPU_ArchComp/Ex2/build/src/ex2 --ouputfile_timings /home/student1/workspace/simon/GPU_ArchComp/Ex2/out/filter_kruskal_1600_90pct.csv --inputfile benchmark_data/barabasi_1600_90pct.csv -n 10\n",
      "Running benchmark with ./home/student1/workspace/simon/GPU_ArchComp/Ex2/build/src/ex2 --ouputfile_timings /home/student1/workspace/simon/GPU_ArchComp/Ex2/out/filter_kruskal_3200_90pct.csv --inputfile benchmark_data/barabasi_3200_90pct.csv -n 10\n",
      "Running benchmark with ./home/student1/workspace/simon/GPU_ArchComp/Ex2/build/src/ex2 --ouputfile_timings /home/student1/workspace/simon/GPU_ArchComp/Ex2/out/filter_kruskal_6400_90pct.csv --inputfile benchmark_data/barabasi_6400_90pct.csv -n 3\n"
     ]
    }
   ],
   "source": [
    "do_benchmark_runs(filter_kruskal_runs_d90)"
   ]
  },
  {
   "cell_type": "code",
   "execution_count": 10,
   "metadata": {},
   "outputs": [
    {
     "name": "stdout",
     "output_type": "stream",
     "text": [
      "Running benchmark with ./home/student1/workspace/simon/GPU_ArchComp/Ex2/build/src/ex2 --ouputfile_timings /home/student1/workspace/simon/GPU_ArchComp/Ex2/out/regular_kruskal_100_10pct.csv --inputfile benchmark_data/barabasi_100_10pct.csv -m 0 -n 10\n",
      "Running benchmark with ./home/student1/workspace/simon/GPU_ArchComp/Ex2/build/src/ex2 --ouputfile_timings /home/student1/workspace/simon/GPU_ArchComp/Ex2/out/regular_kruskal_200_10pct.csv --inputfile benchmark_data/barabasi_200_10pct.csv -m 0 -n 10\n",
      "Running benchmark with ./home/student1/workspace/simon/GPU_ArchComp/Ex2/build/src/ex2 --ouputfile_timings /home/student1/workspace/simon/GPU_ArchComp/Ex2/out/regular_kruskal_400_10pct.csv --inputfile benchmark_data/barabasi_400_10pct.csv -m 0 -n 10\n",
      "Running benchmark with ./home/student1/workspace/simon/GPU_ArchComp/Ex2/build/src/ex2 --ouputfile_timings /home/student1/workspace/simon/GPU_ArchComp/Ex2/out/regular_kruskal_800_10pct.csv --inputfile benchmark_data/barabasi_800_10pct.csv -m 0 -n 10\n",
      "Running benchmark with ./home/student1/workspace/simon/GPU_ArchComp/Ex2/build/src/ex2 --ouputfile_timings /home/student1/workspace/simon/GPU_ArchComp/Ex2/out/regular_kruskal_1600_10pct.csv --inputfile benchmark_data/barabasi_1600_10pct.csv -m 0 -n 10\n",
      "Running benchmark with ./home/student1/workspace/simon/GPU_ArchComp/Ex2/build/src/ex2 --ouputfile_timings /home/student1/workspace/simon/GPU_ArchComp/Ex2/out/regular_kruskal_3200_10pct.csv --inputfile benchmark_data/barabasi_3200_10pct.csv -m 0 -n 10\n",
      "Running benchmark with ./home/student1/workspace/simon/GPU_ArchComp/Ex2/build/src/ex2 --ouputfile_timings /home/student1/workspace/simon/GPU_ArchComp/Ex2/out/regular_kruskal_6400_10pct.csv --inputfile benchmark_data/barabasi_6400_10pct.csv -m 0 -n 10\n",
      "Running benchmark with ./home/student1/workspace/simon/GPU_ArchComp/Ex2/build/src/ex2 --ouputfile_timings /home/student1/workspace/simon/GPU_ArchComp/Ex2/out/regular_kruskal_12800_10pct.csv --inputfile benchmark_data/barabasi_12800_10pct.csv -m 0 -n 10\n",
      "Running benchmark with ./home/student1/workspace/simon/GPU_ArchComp/Ex2/build/src/ex2 --ouputfile_timings /home/student1/workspace/simon/GPU_ArchComp/Ex2/out/regular_kruskal_25600_10pct.csv --inputfile benchmark_data/barabasi_25600_10pct.csv -m 0 -n 3\n"
     ]
    }
   ],
   "source": [
    "do_benchmark_runs(regular_kruskal_runs_d10)"
   ]
  },
  {
   "cell_type": "code",
   "execution_count": 11,
   "metadata": {},
   "outputs": [
    {
     "name": "stdout",
     "output_type": "stream",
     "text": [
      "Running benchmark with ./home/student1/workspace/simon/GPU_ArchComp/Ex2/build/src/ex2 --ouputfile_timings /home/student1/workspace/simon/GPU_ArchComp/Ex2/out/regular_kruskal_50_50pct.csv --inputfile benchmark_data/barabasi_50_50pct.csv -m 0 -n 10\n",
      "Running benchmark with ./home/student1/workspace/simon/GPU_ArchComp/Ex2/build/src/ex2 --ouputfile_timings /home/student1/workspace/simon/GPU_ArchComp/Ex2/out/regular_kruskal_100_50pct.csv --inputfile benchmark_data/barabasi_100_50pct.csv -m 0 -n 10\n",
      "Running benchmark with ./home/student1/workspace/simon/GPU_ArchComp/Ex2/build/src/ex2 --ouputfile_timings /home/student1/workspace/simon/GPU_ArchComp/Ex2/out/regular_kruskal_200_50pct.csv --inputfile benchmark_data/barabasi_200_50pct.csv -m 0 -n 10\n",
      "Running benchmark with ./home/student1/workspace/simon/GPU_ArchComp/Ex2/build/src/ex2 --ouputfile_timings /home/student1/workspace/simon/GPU_ArchComp/Ex2/out/regular_kruskal_400_50pct.csv --inputfile benchmark_data/barabasi_400_50pct.csv -m 0 -n 10\n",
      "Running benchmark with ./home/student1/workspace/simon/GPU_ArchComp/Ex2/build/src/ex2 --ouputfile_timings /home/student1/workspace/simon/GPU_ArchComp/Ex2/out/regular_kruskal_800_50pct.csv --inputfile benchmark_data/barabasi_800_50pct.csv -m 0 -n 10\n",
      "Running benchmark with ./home/student1/workspace/simon/GPU_ArchComp/Ex2/build/src/ex2 --ouputfile_timings /home/student1/workspace/simon/GPU_ArchComp/Ex2/out/regular_kruskal_1600_50pct.csv --inputfile benchmark_data/barabasi_1600_50pct.csv -m 0 -n 10\n",
      "Running benchmark with ./home/student1/workspace/simon/GPU_ArchComp/Ex2/build/src/ex2 --ouputfile_timings /home/student1/workspace/simon/GPU_ArchComp/Ex2/out/regular_kruskal_3200_50pct.csv --inputfile benchmark_data/barabasi_3200_50pct.csv -m 0 -n 10\n",
      "Running benchmark with ./home/student1/workspace/simon/GPU_ArchComp/Ex2/build/src/ex2 --ouputfile_timings /home/student1/workspace/simon/GPU_ArchComp/Ex2/out/regular_kruskal_6400_50pct.csv --inputfile benchmark_data/barabasi_6400_50pct.csv -m 0 -n 10\n",
      "Running benchmark with ./home/student1/workspace/simon/GPU_ArchComp/Ex2/build/src/ex2 --ouputfile_timings /home/student1/workspace/simon/GPU_ArchComp/Ex2/out/regular_kruskal_12800_50pct.csv --inputfile benchmark_data/barabasi_12800_50pct.csv -m 0 -n 3\n"
     ]
    }
   ],
   "source": [
    "do_benchmark_runs(regular_kruskal_runs_d50)"
   ]
  },
  {
   "cell_type": "code",
   "execution_count": 12,
   "metadata": {},
   "outputs": [
    {
     "name": "stdout",
     "output_type": "stream",
     "text": [
      "Running benchmark with ./home/student1/workspace/simon/GPU_ArchComp/Ex2/build/src/ex2 --ouputfile_timings /home/student1/workspace/simon/GPU_ArchComp/Ex2/out/regular_kruskal_25_90pct.csv --inputfile benchmark_data/barabasi_25_90pct.csv -m 0 -n 10\n",
      "Running benchmark with ./home/student1/workspace/simon/GPU_ArchComp/Ex2/build/src/ex2 --ouputfile_timings /home/student1/workspace/simon/GPU_ArchComp/Ex2/out/regular_kruskal_50_90pct.csv --inputfile benchmark_data/barabasi_50_90pct.csv -m 0 -n 10\n",
      "Running benchmark with ./home/student1/workspace/simon/GPU_ArchComp/Ex2/build/src/ex2 --ouputfile_timings /home/student1/workspace/simon/GPU_ArchComp/Ex2/out/regular_kruskal_100_90pct.csv --inputfile benchmark_data/barabasi_100_90pct.csv -m 0 -n 10\n",
      "Running benchmark with ./home/student1/workspace/simon/GPU_ArchComp/Ex2/build/src/ex2 --ouputfile_timings /home/student1/workspace/simon/GPU_ArchComp/Ex2/out/regular_kruskal_200_90pct.csv --inputfile benchmark_data/barabasi_200_90pct.csv -m 0 -n 10\n",
      "Running benchmark with ./home/student1/workspace/simon/GPU_ArchComp/Ex2/build/src/ex2 --ouputfile_timings /home/student1/workspace/simon/GPU_ArchComp/Ex2/out/regular_kruskal_400_90pct.csv --inputfile benchmark_data/barabasi_400_90pct.csv -m 0 -n 10\n",
      "Running benchmark with ./home/student1/workspace/simon/GPU_ArchComp/Ex2/build/src/ex2 --ouputfile_timings /home/student1/workspace/simon/GPU_ArchComp/Ex2/out/regular_kruskal_800_90pct.csv --inputfile benchmark_data/barabasi_800_90pct.csv -m 0 -n 10\n",
      "Running benchmark with ./home/student1/workspace/simon/GPU_ArchComp/Ex2/build/src/ex2 --ouputfile_timings /home/student1/workspace/simon/GPU_ArchComp/Ex2/out/regular_kruskal_1600_90pct.csv --inputfile benchmark_data/barabasi_1600_90pct.csv -m 0 -n 10\n",
      "Running benchmark with ./home/student1/workspace/simon/GPU_ArchComp/Ex2/build/src/ex2 --ouputfile_timings /home/student1/workspace/simon/GPU_ArchComp/Ex2/out/regular_kruskal_3200_90pct.csv --inputfile benchmark_data/barabasi_3200_90pct.csv -m 0 -n 10\n",
      "Running benchmark with ./home/student1/workspace/simon/GPU_ArchComp/Ex2/build/src/ex2 --ouputfile_timings /home/student1/workspace/simon/GPU_ArchComp/Ex2/out/regular_kruskal_6400_90pct.csv --inputfile benchmark_data/barabasi_6400_90pct.csv -m 0 -n 3\n"
     ]
    }
   ],
   "source": [
    "do_benchmark_runs(regular_kruskal_runs_d90)"
   ]
  },
  {
   "cell_type": "code",
   "execution_count": 13,
   "metadata": {},
   "outputs": [
    {
     "name": "stdout",
     "output_type": "stream",
     "text": [
      "Running benchmark with ./home/student1/workspace/simon/GPU_ArchComp/Ex2/build/src/ex2 --ouputfile_timings /home/student1/workspace/simon/GPU_ArchComp/Ex2/out/thrust_100_10pct.csv --inputfile benchmark_data/barabasi_100_10pct.csv -s 2 -p 3 -f 2 -n 10\n",
      "Running benchmark with ./home/student1/workspace/simon/GPU_ArchComp/Ex2/build/src/ex2 --ouputfile_timings /home/student1/workspace/simon/GPU_ArchComp/Ex2/out/thrust_200_10pct.csv --inputfile benchmark_data/barabasi_200_10pct.csv -s 2 -p 3 -f 2 -n 10\n",
      "Running benchmark with ./home/student1/workspace/simon/GPU_ArchComp/Ex2/build/src/ex2 --ouputfile_timings /home/student1/workspace/simon/GPU_ArchComp/Ex2/out/thrust_400_10pct.csv --inputfile benchmark_data/barabasi_400_10pct.csv -s 2 -p 3 -f 2 -n 10\n",
      "Running benchmark with ./home/student1/workspace/simon/GPU_ArchComp/Ex2/build/src/ex2 --ouputfile_timings /home/student1/workspace/simon/GPU_ArchComp/Ex2/out/thrust_800_10pct.csv --inputfile benchmark_data/barabasi_800_10pct.csv -s 2 -p 3 -f 2 -n 10\n",
      "Running benchmark with ./home/student1/workspace/simon/GPU_ArchComp/Ex2/build/src/ex2 --ouputfile_timings /home/student1/workspace/simon/GPU_ArchComp/Ex2/out/thrust_1600_10pct.csv --inputfile benchmark_data/barabasi_1600_10pct.csv -s 2 -p 3 -f 2 -n 10\n",
      "Running benchmark with ./home/student1/workspace/simon/GPU_ArchComp/Ex2/build/src/ex2 --ouputfile_timings /home/student1/workspace/simon/GPU_ArchComp/Ex2/out/thrust_3200_10pct.csv --inputfile benchmark_data/barabasi_3200_10pct.csv -s 2 -p 3 -f 2 -n 10\n",
      "Running benchmark with ./home/student1/workspace/simon/GPU_ArchComp/Ex2/build/src/ex2 --ouputfile_timings /home/student1/workspace/simon/GPU_ArchComp/Ex2/out/thrust_6400_10pct.csv --inputfile benchmark_data/barabasi_6400_10pct.csv -s 2 -p 3 -f 2 -n 10\n",
      "Running benchmark with ./home/student1/workspace/simon/GPU_ArchComp/Ex2/build/src/ex2 --ouputfile_timings /home/student1/workspace/simon/GPU_ArchComp/Ex2/out/thrust_12800_10pct.csv --inputfile benchmark_data/barabasi_12800_10pct.csv -s 2 -p 3 -f 2 -n 10\n",
      "Running benchmark with ./home/student1/workspace/simon/GPU_ArchComp/Ex2/build/src/ex2 --ouputfile_timings /home/student1/workspace/simon/GPU_ArchComp/Ex2/out/thrust_25600_10pct.csv --inputfile benchmark_data/barabasi_25600_10pct.csv -s 2 -p 3 -f 2 -n 3\n"
     ]
    }
   ],
   "source": [
    "do_benchmark_runs(thrust_runs_d10)"
   ]
  },
  {
   "cell_type": "code",
   "execution_count": 14,
   "metadata": {},
   "outputs": [
    {
     "name": "stdout",
     "output_type": "stream",
     "text": [
      "Running benchmark with ./home/student1/workspace/simon/GPU_ArchComp/Ex2/build/src/ex2 --ouputfile_timings /home/student1/workspace/simon/GPU_ArchComp/Ex2/out/thrust_50_50pct.csv --inputfile benchmark_data/barabasi_50_50pct.csv -s 2 -p 3 -f 2 -n 10\n",
      "Running benchmark with ./home/student1/workspace/simon/GPU_ArchComp/Ex2/build/src/ex2 --ouputfile_timings /home/student1/workspace/simon/GPU_ArchComp/Ex2/out/thrust_100_50pct.csv --inputfile benchmark_data/barabasi_100_50pct.csv -s 2 -p 3 -f 2 -n 10\n",
      "Running benchmark with ./home/student1/workspace/simon/GPU_ArchComp/Ex2/build/src/ex2 --ouputfile_timings /home/student1/workspace/simon/GPU_ArchComp/Ex2/out/thrust_200_50pct.csv --inputfile benchmark_data/barabasi_200_50pct.csv -s 2 -p 3 -f 2 -n 10\n",
      "Running benchmark with ./home/student1/workspace/simon/GPU_ArchComp/Ex2/build/src/ex2 --ouputfile_timings /home/student1/workspace/simon/GPU_ArchComp/Ex2/out/thrust_400_50pct.csv --inputfile benchmark_data/barabasi_400_50pct.csv -s 2 -p 3 -f 2 -n 10\n",
      "Running benchmark with ./home/student1/workspace/simon/GPU_ArchComp/Ex2/build/src/ex2 --ouputfile_timings /home/student1/workspace/simon/GPU_ArchComp/Ex2/out/thrust_800_50pct.csv --inputfile benchmark_data/barabasi_800_50pct.csv -s 2 -p 3 -f 2 -n 10\n",
      "Running benchmark with ./home/student1/workspace/simon/GPU_ArchComp/Ex2/build/src/ex2 --ouputfile_timings /home/student1/workspace/simon/GPU_ArchComp/Ex2/out/thrust_1600_50pct.csv --inputfile benchmark_data/barabasi_1600_50pct.csv -s 2 -p 3 -f 2 -n 10\n",
      "Running benchmark with ./home/student1/workspace/simon/GPU_ArchComp/Ex2/build/src/ex2 --ouputfile_timings /home/student1/workspace/simon/GPU_ArchComp/Ex2/out/thrust_3200_50pct.csv --inputfile benchmark_data/barabasi_3200_50pct.csv -s 2 -p 3 -f 2 -n 10\n",
      "Running benchmark with ./home/student1/workspace/simon/GPU_ArchComp/Ex2/build/src/ex2 --ouputfile_timings /home/student1/workspace/simon/GPU_ArchComp/Ex2/out/thrust_6400_50pct.csv --inputfile benchmark_data/barabasi_6400_50pct.csv -s 2 -p 3 -f 2 -n 10\n",
      "Running benchmark with ./home/student1/workspace/simon/GPU_ArchComp/Ex2/build/src/ex2 --ouputfile_timings /home/student1/workspace/simon/GPU_ArchComp/Ex2/out/thrust_12800_50pct.csv --inputfile benchmark_data/barabasi_12800_50pct.csv -s 2 -p 3 -f 2 -n 3\n"
     ]
    }
   ],
   "source": [
    "do_benchmark_runs(thrust_runs_d50)"
   ]
  },
  {
   "cell_type": "code",
   "execution_count": 15,
   "metadata": {},
   "outputs": [
    {
     "name": "stdout",
     "output_type": "stream",
     "text": [
      "Running benchmark with ./home/student1/workspace/simon/GPU_ArchComp/Ex2/build/src/ex2 --ouputfile_timings /home/student1/workspace/simon/GPU_ArchComp/Ex2/out/thrust_25_90pct.csv --inputfile benchmark_data/barabasi_25_90pct.csv -s 2 -p 3 -f 2 -n 10\n",
      "Running benchmark with ./home/student1/workspace/simon/GPU_ArchComp/Ex2/build/src/ex2 --ouputfile_timings /home/student1/workspace/simon/GPU_ArchComp/Ex2/out/thrust_50_90pct.csv --inputfile benchmark_data/barabasi_50_90pct.csv -s 2 -p 3 -f 2 -n 10\n",
      "Running benchmark with ./home/student1/workspace/simon/GPU_ArchComp/Ex2/build/src/ex2 --ouputfile_timings /home/student1/workspace/simon/GPU_ArchComp/Ex2/out/thrust_100_90pct.csv --inputfile benchmark_data/barabasi_100_90pct.csv -s 2 -p 3 -f 2 -n 10\n",
      "Running benchmark with ./home/student1/workspace/simon/GPU_ArchComp/Ex2/build/src/ex2 --ouputfile_timings /home/student1/workspace/simon/GPU_ArchComp/Ex2/out/thrust_200_90pct.csv --inputfile benchmark_data/barabasi_200_90pct.csv -s 2 -p 3 -f 2 -n 10\n",
      "Running benchmark with ./home/student1/workspace/simon/GPU_ArchComp/Ex2/build/src/ex2 --ouputfile_timings /home/student1/workspace/simon/GPU_ArchComp/Ex2/out/thrust_400_90pct.csv --inputfile benchmark_data/barabasi_400_90pct.csv -s 2 -p 3 -f 2 -n 10\n",
      "Running benchmark with ./home/student1/workspace/simon/GPU_ArchComp/Ex2/build/src/ex2 --ouputfile_timings /home/student1/workspace/simon/GPU_ArchComp/Ex2/out/thrust_800_90pct.csv --inputfile benchmark_data/barabasi_800_90pct.csv -s 2 -p 3 -f 2 -n 10\n",
      "Running benchmark with ./home/student1/workspace/simon/GPU_ArchComp/Ex2/build/src/ex2 --ouputfile_timings /home/student1/workspace/simon/GPU_ArchComp/Ex2/out/thrust_1600_90pct.csv --inputfile benchmark_data/barabasi_1600_90pct.csv -s 2 -p 3 -f 2 -n 10\n",
      "Running benchmark with ./home/student1/workspace/simon/GPU_ArchComp/Ex2/build/src/ex2 --ouputfile_timings /home/student1/workspace/simon/GPU_ArchComp/Ex2/out/thrust_3200_90pct.csv --inputfile benchmark_data/barabasi_3200_90pct.csv -s 2 -p 3 -f 2 -n 10\n",
      "Running benchmark with ./home/student1/workspace/simon/GPU_ArchComp/Ex2/build/src/ex2 --ouputfile_timings /home/student1/workspace/simon/GPU_ArchComp/Ex2/out/thrust_6400_90pct.csv --inputfile benchmark_data/barabasi_6400_90pct.csv -s 2 -p 3 -f 2 -n 3\n"
     ]
    }
   ],
   "source": [
    "do_benchmark_runs(thrust_runs_d90)"
   ]
  },
  {
   "cell_type": "code",
   "execution_count": 29,
   "metadata": {},
   "outputs": [
    {
     "data": {
      "image/png": "[encoded data removed]",
      "text/plain": [
       "<Figure size 432x288 with 1 Axes>"
      ]
     },
     "metadata": {
      "needs_background": "light"
     },
     "output_type": "display_data"
    }
   ],
   "source": [
    "plot_lines(regular_kruskal_runs_d10 + filter_kruskal_runs_d10 + thrust_runs_d10)\n",
    "plt.savefig(common.OUT_DIR / \"lines1.png\", dpi=200)\n"
   ]
  },
  {
   "cell_type": "code",
   "execution_count": 30,
   "metadata": {},
   "outputs": [
    {
     "data": {
      "image/png": "[encoded data removed]",
      "text/plain": [
       "<Figure size 432x288 with 1 Axes>"
      ]
     },
     "metadata": {
      "needs_background": "light"
     },
     "output_type": "display_data"
    }
   ],
   "source": [
    "plot_lines(regular_kruskal_runs_d50 + filter_kruskal_runs_d50 + thrust_runs_d50)\n",
    "plt.savefig(common.OUT_DIR / \"lines1.png\", dpi=200)\n"
   ]
  },
  {
   "cell_type": "code",
   "execution_count": 31,
   "metadata": {},
   "outputs": [
    {
     "data": {
      "image/png": "[encoded data removed]",
      "text/plain": [
       "<Figure size 432x288 with 1 Axes>"
      ]
     },
     "metadata": {
      "needs_background": "light"
     },
     "output_type": "display_data"
    }
   ],
   "source": [
    "plot_lines(regular_kruskal_runs_d90 + filter_kruskal_runs_d90 + thrust_runs_d90)\n",
    "plt.savefig(common.OUT_DIR / \"lines1.png\", dpi=200)"
   ]
  },
  {
   "cell_type": "code",
   "execution_count": 32,
   "metadata": {},
   "outputs": [
    {
     "data": {
      "image/png": "[encoded data removed]",
      "text/plain": [
       "<Figure size 432x288 with 1 Axes>"
      ]
     },
     "metadata": {
      "needs_background": "light"
     },
     "output_type": "display_data"
    }
   ],
   "source": [
    "stacked_bars(filter_kruskal_runs_d50)\n",
    "plt.savefig(common.OUT_DIR / \"bars_filter_kruskal_d50.png\", dpi=200)\n"
   ]
  },
  {
   "cell_type": "code",
   "execution_count": 33,
   "metadata": {},
   "outputs": [
    {
     "data": {
      "image/png": "[encoded data removed]",
      "text/plain": [
       "<Figure size 432x288 with 1 Axes>"
      ]
     },
     "metadata": {
      "needs_background": "light"
     },
     "output_type": "display_data"
    }
   ],
   "source": [
    "stacked_bars(regular_kruskal_runs_d50, regular_kruskal=True)\n",
    "plt.savefig(common.OUT_DIR / \"bars_regular_kruskal_d50.png\", dpi=200)\n"
   ]
  },
  {
   "cell_type": "code",
   "execution_count": 34,
   "metadata": {},
   "outputs": [
    {
     "data": {
      "image/png": "[encoded data removed]",
      "text/plain": [
       "<Figure size 432x288 with 1 Axes>"
      ]
     },
     "metadata": {
      "needs_background": "light"
     },
     "output_type": "display_data"
    }
   ],
   "source": [
    "stacked_bars(thrust_runs_d50)\n",
    "plt.savefig(common.OUT_DIR / \"bars_thrust_d50.png\", dpi=200)\n"
   ]
  },
  {
   "cell_type": "code",
   "execution_count": 35,
   "metadata": {},
   "outputs": [
    {
     "name": "stdout",
     "output_type": "stream",
     "text": [
      "[50, 100, 200, 400, 800, 1600, 3200, 6400, 12800]\n"
     ]
    },
    {
     "data": {
      "text/plain": [
       "dict_keys(['Initialize', 'filter()', 'grow MST', 'sort()', 'partition()'])"
      ]
     },
     "execution_count": 35,
     "metadata": {},
     "output_type": "execute_result"
    },
    {
     "data": {
      "image/png": "[encoded data removed]",
      "text/plain": [
       "<Figure size 432x288 with 1 Axes>"
      ]
     },
     "metadata": {
      "needs_background": "light"
     },
     "output_type": "display_data"
    }
   ],
   "source": [
    "\n",
    "labels, stack = collect_for_stack(filter_kruskal_runs_d50)\n",
    "print(labels)\n",
    "stack\n",
    "plt.stackplot(labels,stack['Initialize'],stack['filter()'], stack['grow MST'], stack['sort()'], stack['partition()'], labels=stack.keys())\n",
    "plt.legend(loc='upper left')\n",
    "plt.xlabel('number of nodes')\n",
    "plt.ylabel('portion of run time in s')\n",
    "stack.keys()"
   ]
  }
 ],
 "metadata": {
  "interpreter": {
   "hash": "916dbcbb3f70747c44a77c7bcd40155683ae19c65e1c03b4aa3499c5328201f1"
  },
  "kernelspec": {
   "display_name": "Python 3.10.4 64-bit",
   "language": "python",
   "name": "python3"
  },
  "language_info": {
   "codemirror_mode": {
    "name": "ipython",
    "version": 3
   },
   "file_extension": ".py",
   "mimetype": "text/x-python",
   "name": "python",
   "nbconvert_exporter": "python",
   "pygments_lexer": "ipython3",
   "version": "3.8.10"
  },
  "orig_nbformat": 4
 },
 "nbformat": 4,
 "nbformat_minor": 2
}
