{
 "cells": [
  {
   "cell_type": "code",
   "execution_count": 2,
   "metadata": {},
   "outputs": [],
   "source": [
    "import numpy as np\n",
    "import igraph as ig\n",
    "import pandas as pd\n",
    "import matplotlib.pyplot as plt\n",
    "\n",
    "from time import time\n",
    "\n",
    "from common import *\n",
    "from generate import *\n",
    "from filter_kruskal import *"
   ]
  },
  {
   "cell_type": "code",
   "execution_count": 2,
   "metadata": {},
   "outputs": [
    {
     "name": "stdout",
     "output_type": "stream",
     "text": [
      "Allowed options:\n",
      "  -h [ --help ]                      produce help message\n",
      "  -m [ --mst-kernel ] arg (=1)       Kernel used calculating MST. 0 = regular \n",
      "                                     kruskal, 1 = filter-kruskal\n",
      "  -s [ --sort-kernel ] arg (=1)      Kernel used for sort() [int]\n",
      "  -p [ --partition-kernel ] arg (=2) Kernel used for partition() [int]\n",
      "  -f [ --filter-kernel ] arg (=1)    Kernel used for filter() [int]\n",
      "  -c [ --compress-kernel ] arg (=1)  Kernel used for compress() [int]\n",
      "  -r [ --recusion-depth ] arg (=32)  Kernel used for compress() [int]\n",
      "  -n [ --repetitions ] arg (=1)      Number of times the MST calculation is \n",
      "                                     repeated [int]\n",
      "  -i [ --inputfile ] arg             input file containing graph data. Filepath\n",
      "                                     must be relative to Ex2/\n",
      "  -t [ --ouputfile_timings ] arg     Output file for timings. Filepath must be \n",
      "                                     relative to Ex2/\n",
      "\n"
     ]
    }
   ],
   "source": [
    "common.run(args=\"--help\")"
   ]
  },
  {
   "cell_type": "code",
   "execution_count": 2,
   "metadata": {},
   "outputs": [
    {
     "name": "stdout",
     "output_type": "stream",
     "text": [
      "Running benchmark with ./home/student1/workspace/simon/GPU_ArchComp/Ex2/build/src/ex2 --ouputfile_timings /home/student1/workspace/simon/GPU_ArchComp/Ex2/out/timing_results.csv --inputfile benchmark_data/barabasi_800_50pct.csv --mst-kernel 1 -s 1 -n 1\n",
      "159705 Edges loaded\n",
      "\n",
      "Benchmark results:\n",
      "Initialize\tµ=0.362825s\tsigma=0s\ttotal=0.362825\tnum_calls=1\n",
      "Kruskal()\tµ=0.075853s\tsigma=0s\ttotal=0.075853\tnum_calls=1\n",
      "compress()\tµ=0.00100164s\tsigma=0s\ttotal=0.00100164\tnum_calls=1\n",
      "filter()\tµ=0.000324075s\tsigma=4.3641e-05s\ttotal=0.000972225\tnum_calls=3\n",
      "grow MST\tµ=0.00320326s\tsigma=0s\ttotal=0.00320326\tnum_calls=1\n",
      "partition()\tµ=0.00306559s\tsigma=0.00038166s\ttotal=0.00919678\tnum_calls=3\n",
      "sort()\tµ=0.0726446s\tsigma=0s\ttotal=0.0726446\tnum_calls=1\n",
      "total\tµ=0.449891s\tsigma=0s\ttotal=0.449891\tnum_calls=1\n"
     ]
    },
    {
     "data": {
      "text/html": [
       "<div>\n",
       "<style scoped>\n",
       "    .dataframe tbody tr th:only-of-type {\n",
       "        vertical-align: middle;\n",
       "    }\n",
       "\n",
       "    .dataframe tbody tr th {\n",
       "        vertical-align: top;\n",
       "    }\n",
       "\n",
       "    .dataframe thead th {\n",
       "        text-align: right;\n",
       "    }\n",
       "</style>\n",
       "<table border=\"1\" class=\"dataframe\">\n",
       "  <thead>\n",
       "    <tr style=\"text-align: right;\">\n",
       "      <th></th>\n",
       "      <th>tag</th>\n",
       "      <th>average</th>\n",
       "      <th>std_dev</th>\n",
       "      <th>total</th>\n",
       "      <th>num_calls</th>\n",
       "    </tr>\n",
       "  </thead>\n",
       "  <tbody>\n",
       "    <tr>\n",
       "      <th>0</th>\n",
       "      <td>Initialize</td>\n",
       "      <td>0.362825</td>\n",
       "      <td>0.000000</td>\n",
       "      <td>0.362825</td>\n",
       "      <td>1</td>\n",
       "    </tr>\n",
       "    <tr>\n",
       "      <th>1</th>\n",
       "      <td>Kruskal()</td>\n",
       "      <td>0.075853</td>\n",
       "      <td>0.000000</td>\n",
       "      <td>0.075853</td>\n",
       "      <td>1</td>\n",
       "    </tr>\n",
       "    <tr>\n",
       "      <th>2</th>\n",
       "      <td>compress()</td>\n",
       "      <td>0.001002</td>\n",
       "      <td>0.000000</td>\n",
       "      <td>0.001002</td>\n",
       "      <td>1</td>\n",
       "    </tr>\n",
       "    <tr>\n",
       "      <th>3</th>\n",
       "      <td>filter()</td>\n",
       "      <td>0.000324</td>\n",
       "      <td>0.000044</td>\n",
       "      <td>0.000972</td>\n",
       "      <td>3</td>\n",
       "    </tr>\n",
       "    <tr>\n",
       "      <th>4</th>\n",
       "      <td>grow MST</td>\n",
       "      <td>0.003203</td>\n",
       "      <td>0.000000</td>\n",
       "      <td>0.003203</td>\n",
       "      <td>1</td>\n",
       "    </tr>\n",
       "    <tr>\n",
       "      <th>5</th>\n",
       "      <td>partition()</td>\n",
       "      <td>0.003066</td>\n",
       "      <td>0.000382</td>\n",
       "      <td>0.009197</td>\n",
       "      <td>3</td>\n",
       "    </tr>\n",
       "    <tr>\n",
       "      <th>6</th>\n",
       "      <td>sort()</td>\n",
       "      <td>0.072645</td>\n",
       "      <td>0.000000</td>\n",
       "      <td>0.072645</td>\n",
       "      <td>1</td>\n",
       "    </tr>\n",
       "    <tr>\n",
       "      <th>7</th>\n",
       "      <td>total</td>\n",
       "      <td>0.449891</td>\n",
       "      <td>0.000000</td>\n",
       "      <td>0.449891</td>\n",
       "      <td>1</td>\n",
       "    </tr>\n",
       "  </tbody>\n",
       "</table>\n",
       "</div>"
      ],
      "text/plain": [
       "           tag   average   std_dev     total  num_calls\n",
       "0   Initialize  0.362825  0.000000  0.362825          1\n",
       "1    Kruskal()  0.075853  0.000000  0.075853          1\n",
       "2   compress()  0.001002  0.000000  0.001002          1\n",
       "3     filter()  0.000324  0.000044  0.000972          3\n",
       "4     grow MST  0.003203  0.000000  0.003203          1\n",
       "5  partition()  0.003066  0.000382  0.009197          3\n",
       "6       sort()  0.072645  0.000000  0.072645          1\n",
       "7        total  0.449891  0.000000  0.449891          1"
      ]
     },
     "execution_count": 2,
     "metadata": {},
     "output_type": "execute_result"
    }
   ],
   "source": [
    "args = f\"--inputfile benchmark_data/barabasi_800_50pct.csv --mst-kernel 1 -s 1 -n 1\"\n",
    "df = common.run_benchmark(common.OUT_DIR / \"timing_results.csv\", args=args, print_output=True)\n",
    "df"
   ]
  },
  {
   "cell_type": "code",
   "execution_count": 40,
   "metadata": {},
   "outputs": [
    {
     "name": "stdout",
     "output_type": "stream",
     "text": [
      "Running benchmark with ./home/student1/workspace/simon/GPU_ArchComp/Ex2/build/src/ex2 --ouputfile_timings /home/student1/workspace/simon/GPU_ArchComp/Ex2/out/timing_results.csv --inputfile benchmark_data/barabasi_12800_50pct.csv --mst-kernel 1 -s 1 -n 1\n",
      "40966875 Edges loaded\n",
      "\n",
      "Benchmark results:\n",
      "Initialize\tµ=0.815199s\tsigma=0s\ttotal=0.815199\tnum_calls=1\n",
      "Kruskal()\tµ=0.584113s\tsigma=0s\ttotal=0.584113\tnum_calls=1\n",
      "compress()\tµ=0.254476s\tsigma=0s\ttotal=0.254476\tnum_calls=1\n",
      "filter()\tµ=0.0416113s\tsigma=0.00446166s\ttotal=0.0832226\tnum_calls=2\n",
      "grow MST\tµ=0.0383446s\tsigma=0s\ttotal=0.0383446\tnum_calls=1\n",
      "partition()\tµ=0.615566s\tsigma=0.0904045s\ttotal=1.23113\tnum_calls=2\n",
      "sort()\tµ=0.545761s\tsigma=0s\ttotal=0.545761\tnum_calls=1\n",
      "total\tµ=2.99206s\tsigma=0s\ttotal=2.99206\tnum_calls=1\n"
     ]
    },
    {
     "data": {
      "text/html": [
       "<div>\n",
       "<style scoped>\n",
       "    .dataframe tbody tr th:only-of-type {\n",
       "        vertical-align: middle;\n",
       "    }\n",
       "\n",
       "    .dataframe tbody tr th {\n",
       "        vertical-align: top;\n",
       "    }\n",
       "\n",
       "    .dataframe thead th {\n",
       "        text-align: right;\n",
       "    }\n",
       "</style>\n",
       "<table border=\"1\" class=\"dataframe\">\n",
       "  <thead>\n",
       "    <tr style=\"text-align: right;\">\n",
       "      <th></th>\n",
       "      <th>tag</th>\n",
       "      <th>average</th>\n",
       "      <th>std_dev</th>\n",
       "      <th>total</th>\n",
       "      <th>num_calls</th>\n",
       "    </tr>\n",
       "  </thead>\n",
       "  <tbody>\n",
       "    <tr>\n",
       "      <th>0</th>\n",
       "      <td>Initialize</td>\n",
       "      <td>0.815199</td>\n",
       "      <td>0.000000</td>\n",
       "      <td>0.815199</td>\n",
       "      <td>1</td>\n",
       "    </tr>\n",
       "    <tr>\n",
       "      <th>1</th>\n",
       "      <td>Kruskal()</td>\n",
       "      <td>0.584113</td>\n",
       "      <td>0.000000</td>\n",
       "      <td>0.584113</td>\n",
       "      <td>1</td>\n",
       "    </tr>\n",
       "    <tr>\n",
       "      <th>2</th>\n",
       "      <td>compress()</td>\n",
       "      <td>0.254476</td>\n",
       "      <td>0.000000</td>\n",
       "      <td>0.254476</td>\n",
       "      <td>1</td>\n",
       "    </tr>\n",
       "    <tr>\n",
       "      <th>3</th>\n",
       "      <td>filter()</td>\n",
       "      <td>0.041611</td>\n",
       "      <td>0.004462</td>\n",
       "      <td>0.083223</td>\n",
       "      <td>2</td>\n",
       "    </tr>\n",
       "    <tr>\n",
       "      <th>4</th>\n",
       "      <td>grow MST</td>\n",
       "      <td>0.038345</td>\n",
       "      <td>0.000000</td>\n",
       "      <td>0.038345</td>\n",
       "      <td>1</td>\n",
       "    </tr>\n",
       "    <tr>\n",
       "      <th>5</th>\n",
       "      <td>partition()</td>\n",
       "      <td>0.615566</td>\n",
       "      <td>0.090404</td>\n",
       "      <td>1.231130</td>\n",
       "      <td>2</td>\n",
       "    </tr>\n",
       "    <tr>\n",
       "      <th>6</th>\n",
       "      <td>sort()</td>\n",
       "      <td>0.545761</td>\n",
       "      <td>0.000000</td>\n",
       "      <td>0.545761</td>\n",
       "      <td>1</td>\n",
       "    </tr>\n",
       "    <tr>\n",
       "      <th>7</th>\n",
       "      <td>total</td>\n",
       "      <td>2.992060</td>\n",
       "      <td>0.000000</td>\n",
       "      <td>2.992060</td>\n",
       "      <td>1</td>\n",
       "    </tr>\n",
       "  </tbody>\n",
       "</table>\n",
       "</div>"
      ],
      "text/plain": [
       "           tag   average   std_dev     total  num_calls\n",
       "0   Initialize  0.815199  0.000000  0.815199          1\n",
       "1    Kruskal()  0.584113  0.000000  0.584113          1\n",
       "2   compress()  0.254476  0.000000  0.254476          1\n",
       "3     filter()  0.041611  0.004462  0.083223          2\n",
       "4     grow MST  0.038345  0.000000  0.038345          1\n",
       "5  partition()  0.615566  0.090404  1.231130          2\n",
       "6       sort()  0.545761  0.000000  0.545761          1\n",
       "7        total  2.992060  0.000000  2.992060          1"
      ]
     },
     "execution_count": 40,
     "metadata": {},
     "output_type": "execute_result"
    }
   ],
   "source": [
    "args = f\"--inputfile benchmark_data/barabasi_12800_50pct.csv --mst-kernel 1 -s 1 -n 1\"\n",
    "df = common.run_benchmark(common.OUT_DIR / \"timing_results.csv\", args=args, print_output=True)\n",
    "df"
   ]
  },
  {
   "cell_type": "code",
   "execution_count": 44,
   "metadata": {},
   "outputs": [
    {
     "name": "stdout",
     "output_type": "stream",
     "text": [
      "Running benchmark with ./home/student1/workspace/simon/GPU_ArchComp/Ex2/build/src/ex2 --ouputfile_timings /home/student1/workspace/simon/GPU_ArchComp/Ex2/out/timing_results.csv --inputfile benchmark_data/barabasi_3200_50pct.csv --mst-kernel 1 -s 1 -n 1\n",
      "2558947 Edges loaded\n",
      "\n",
      "Benchmark results:\n",
      "Initialize\tµ=0.344806s\tsigma=0s\ttotal=0.344806\tnum_calls=1\n",
      "Kruskal()\tµ=0.072298s\tsigma=0s\ttotal=0.072298\tnum_calls=1\n",
      "compress()\tµ=0.0159131s\tsigma=0s\ttotal=0.0159131\tnum_calls=1\n",
      "filter()\tµ=0.00203554s\tsigma=0.000539665s\ttotal=0.0101777\tnum_calls=5\n",
      "grow MST\tµ=0.00454872s\tsigma=0s\ttotal=0.00454872\tnum_calls=1\n",
      "partition()\tµ=0.0153122s\tsigma=0.00780027s\ttotal=0.0765608\tnum_calls=5\n",
      "sort()\tµ=0.0677437s\tsigma=0s\ttotal=0.0677437\tnum_calls=1\n",
      "total\tµ=0.520848s\tsigma=0s\ttotal=0.520848\tnum_calls=1\n"
     ]
    },
    {
     "data": {
      "text/html": [
       "<div>\n",
       "<style scoped>\n",
       "    .dataframe tbody tr th:only-of-type {\n",
       "        vertical-align: middle;\n",
       "    }\n",
       "\n",
       "    .dataframe tbody tr th {\n",
       "        vertical-align: top;\n",
       "    }\n",
       "\n",
       "    .dataframe thead th {\n",
       "        text-align: right;\n",
       "    }\n",
       "</style>\n",
       "<table border=\"1\" class=\"dataframe\">\n",
       "  <thead>\n",
       "    <tr style=\"text-align: right;\">\n",
       "      <th></th>\n",
       "      <th>tag</th>\n",
       "      <th>average</th>\n",
       "      <th>std_dev</th>\n",
       "      <th>total</th>\n",
       "      <th>num_calls</th>\n",
       "    </tr>\n",
       "  </thead>\n",
       "  <tbody>\n",
       "    <tr>\n",
       "      <th>0</th>\n",
       "      <td>Initialize</td>\n",
       "      <td>0.344806</td>\n",
       "      <td>0.00000</td>\n",
       "      <td>0.344806</td>\n",
       "      <td>1</td>\n",
       "    </tr>\n",
       "    <tr>\n",
       "      <th>1</th>\n",
       "      <td>Kruskal()</td>\n",
       "      <td>0.072298</td>\n",
       "      <td>0.00000</td>\n",
       "      <td>0.072298</td>\n",
       "      <td>1</td>\n",
       "    </tr>\n",
       "    <tr>\n",
       "      <th>2</th>\n",
       "      <td>compress()</td>\n",
       "      <td>0.015913</td>\n",
       "      <td>0.00000</td>\n",
       "      <td>0.015913</td>\n",
       "      <td>1</td>\n",
       "    </tr>\n",
       "    <tr>\n",
       "      <th>3</th>\n",
       "      <td>filter()</td>\n",
       "      <td>0.002036</td>\n",
       "      <td>0.00054</td>\n",
       "      <td>0.010178</td>\n",
       "      <td>5</td>\n",
       "    </tr>\n",
       "    <tr>\n",
       "      <th>4</th>\n",
       "      <td>grow MST</td>\n",
       "      <td>0.004549</td>\n",
       "      <td>0.00000</td>\n",
       "      <td>0.004549</td>\n",
       "      <td>1</td>\n",
       "    </tr>\n",
       "    <tr>\n",
       "      <th>5</th>\n",
       "      <td>partition()</td>\n",
       "      <td>0.015312</td>\n",
       "      <td>0.00780</td>\n",
       "      <td>0.076561</td>\n",
       "      <td>5</td>\n",
       "    </tr>\n",
       "    <tr>\n",
       "      <th>6</th>\n",
       "      <td>sort()</td>\n",
       "      <td>0.067744</td>\n",
       "      <td>0.00000</td>\n",
       "      <td>0.067744</td>\n",
       "      <td>1</td>\n",
       "    </tr>\n",
       "    <tr>\n",
       "      <th>7</th>\n",
       "      <td>total</td>\n",
       "      <td>0.520848</td>\n",
       "      <td>0.00000</td>\n",
       "      <td>0.520848</td>\n",
       "      <td>1</td>\n",
       "    </tr>\n",
       "  </tbody>\n",
       "</table>\n",
       "</div>"
      ],
      "text/plain": [
       "           tag   average  std_dev     total  num_calls\n",
       "0   Initialize  0.344806  0.00000  0.344806          1\n",
       "1    Kruskal()  0.072298  0.00000  0.072298          1\n",
       "2   compress()  0.015913  0.00000  0.015913          1\n",
       "3     filter()  0.002036  0.00054  0.010178          5\n",
       "4     grow MST  0.004549  0.00000  0.004549          1\n",
       "5  partition()  0.015312  0.00780  0.076561          5\n",
       "6       sort()  0.067744  0.00000  0.067744          1\n",
       "7        total  0.520848  0.00000  0.520848          1"
      ]
     },
     "execution_count": 44,
     "metadata": {},
     "output_type": "execute_result"
    }
   ],
   "source": [
    "args = f\"--inputfile benchmark_data/barabasi_3200_50pct.csv --mst-kernel 1 -s 1 -n 1\"\n",
    "df = common.run_benchmark(common.OUT_DIR / \"timing_results.csv\", args=args, print_output=True)\n",
    "df"
   ]
  },
  {
   "cell_type": "code",
   "execution_count": 45,
   "metadata": {},
   "outputs": [
    {
     "name": "stdout",
     "output_type": "stream",
     "text": [
      "Running benchmark with ./home/student1/workspace/simon/GPU_ArchComp/Ex2/build/src/ex2 --ouputfile_timings /home/student1/workspace/simon/GPU_ArchComp/Ex2/out/timing_results.csv --inputfile benchmark_data/barabasi_12800_50pct.csv --mst-kernel 1 -s 1 -n 10\n",
      "40966875 Edges loaded\n"
     ]
    },
    {
     "ename": "CalledProcessError",
     "evalue": "Command '['/home/student1/workspace/simon/GPU_ArchComp/Ex2/build/src/ex2', '--ouputfile_timings', '/home/student1/workspace/simon/GPU_ArchComp/Ex2/out/timing_results.csv', '--inputfile', 'benchmark_data/barabasi_12800_50pct.csv', '--mst-kernel', '1', '-s', '1', '-n', '10']' died with <Signals.SIGKILL: 9>.",
     "output_type": "error",
     "traceback": [
      "\u001b[0;31m---------------------------------------------------------------------------\u001b[0m",
      "\u001b[0;31mCalledProcessError\u001b[0m                        Traceback (most recent call last)",
      "\u001b[1;32m/home/student1/workspace/simon/GPU_ArchComp/Ex2/scripts/kruskal_benchmark.ipynb Cell 6'\u001b[0m in \u001b[0;36m<cell line: 2>\u001b[0;34m()\u001b[0m\n\u001b[1;32m      <a href='vscode-notebook-cell://ssh-remote%2B7b22686f73744e616d65223a2254555f475055227d/home/student1/workspace/simon/GPU_ArchComp/Ex2/scripts/kruskal_benchmark.ipynb#ch0000005vscode-remote?line=0'>1</a>\u001b[0m args \u001b[39m=\u001b[39m \u001b[39mf\u001b[39m\u001b[39m\"\u001b[39m\u001b[39m--inputfile benchmark_data/barabasi_12800_50pct.csv --mst-kernel 1 -s 1 -n 10\u001b[39m\u001b[39m\"\u001b[39m\n\u001b[0;32m----> <a href='vscode-notebook-cell://ssh-remote%2B7b22686f73744e616d65223a2254555f475055227d/home/student1/workspace/simon/GPU_ArchComp/Ex2/scripts/kruskal_benchmark.ipynb#ch0000005vscode-remote?line=1'>2</a>\u001b[0m df \u001b[39m=\u001b[39m common\u001b[39m.\u001b[39;49mrun_benchmark(common\u001b[39m.\u001b[39;49mOUT_DIR \u001b[39m/\u001b[39;49m \u001b[39m\"\u001b[39;49m\u001b[39mtiming_results.csv\u001b[39;49m\u001b[39m\"\u001b[39;49m, args\u001b[39m=\u001b[39;49margs, print_output\u001b[39m=\u001b[39;49m\u001b[39mTrue\u001b[39;49;00m)\n\u001b[1;32m      <a href='vscode-notebook-cell://ssh-remote%2B7b22686f73744e616d65223a2254555f475055227d/home/student1/workspace/simon/GPU_ArchComp/Ex2/scripts/kruskal_benchmark.ipynb#ch0000005vscode-remote?line=2'>3</a>\u001b[0m df\n",
      "File \u001b[0;32m~/workspace/simon/GPU_ArchComp/Ex2/scripts/common.py:39\u001b[0m, in \u001b[0;36mrun_benchmark\u001b[0;34m(outfile, args, print_output, verbose)\u001b[0m\n\u001b[1;32m     36\u001b[0m     \u001b[39mprint\u001b[39m(\u001b[39mf\u001b[39m\u001b[39m\"\u001b[39m\u001b[39mRunning benchmark with .\u001b[39m\u001b[39m{\u001b[39;00mcmd\u001b[39m}\u001b[39;00m\u001b[39m\"\u001b[39m)\n\u001b[1;32m     38\u001b[0m \u001b[39mif\u001b[39;00m(print_output):\n\u001b[0;32m---> 39\u001b[0m     subprocess\u001b[39m.\u001b[39;49mrun(cmd\u001b[39m.\u001b[39;49msplit(sep\u001b[39m=\u001b[39;49m\u001b[39m\"\u001b[39;49m\u001b[39m \u001b[39;49m\u001b[39m\"\u001b[39;49m), check\u001b[39m=\u001b[39;49m\u001b[39mTrue\u001b[39;49;00m,\n\u001b[1;32m     40\u001b[0m                    stderr\u001b[39m=\u001b[39;49msubprocess\u001b[39m.\u001b[39;49mSTDOUT)\n\u001b[1;32m     41\u001b[0m \u001b[39melse\u001b[39;00m:\n\u001b[1;32m     42\u001b[0m     subprocess\u001b[39m.\u001b[39mrun(cmd\u001b[39m.\u001b[39msplit(sep\u001b[39m=\u001b[39m\u001b[39m\"\u001b[39m\u001b[39m \u001b[39m\u001b[39m\"\u001b[39m), check\u001b[39m=\u001b[39m\u001b[39mTrue\u001b[39;00m,\n\u001b[1;32m     43\u001b[0m                    stdout\u001b[39m=\u001b[39msubprocess\u001b[39m.\u001b[39mDEVNULL)\n",
      "File \u001b[0;32m/usr/lib/python3.8/subprocess.py:516\u001b[0m, in \u001b[0;36mrun\u001b[0;34m(input, capture_output, timeout, check, *popenargs, **kwargs)\u001b[0m\n\u001b[1;32m    514\u001b[0m     retcode \u001b[39m=\u001b[39m process\u001b[39m.\u001b[39mpoll()\n\u001b[1;32m    515\u001b[0m     \u001b[39mif\u001b[39;00m check \u001b[39mand\u001b[39;00m retcode:\n\u001b[0;32m--> 516\u001b[0m         \u001b[39mraise\u001b[39;00m CalledProcessError(retcode, process\u001b[39m.\u001b[39margs,\n\u001b[1;32m    517\u001b[0m                                  output\u001b[39m=\u001b[39mstdout, stderr\u001b[39m=\u001b[39mstderr)\n\u001b[1;32m    518\u001b[0m \u001b[39mreturn\u001b[39;00m CompletedProcess(process\u001b[39m.\u001b[39margs, retcode, stdout, stderr)\n",
      "\u001b[0;31mCalledProcessError\u001b[0m: Command '['/home/student1/workspace/simon/GPU_ArchComp/Ex2/build/src/ex2', '--ouputfile_timings', '/home/student1/workspace/simon/GPU_ArchComp/Ex2/out/timing_results.csv', '--inputfile', 'benchmark_data/barabasi_12800_50pct.csv', '--mst-kernel', '1', '-s', '1', '-n', '10']' died with <Signals.SIGKILL: 9>."
     ]
    }
   ],
   "source": [
    "args = f\"--inputfile benchmark_data/barabasi_12800_50pct.csv --mst-kernel 1 -s 1 -n 10\"\n",
    "df = common.run_benchmark(common.OUT_DIR / \"timing_results.csv\", args=args, print_output=True)\n",
    "df"
   ]
  },
  {
   "cell_type": "code",
   "execution_count": 3,
   "metadata": {},
   "outputs": [],
   "source": [
    "def out_file_name(single_run):\n",
    "    return single_run['prefix'] + \"_\" + str(single_run['n_nodes']) + \"_\" + str(single_run['density']) + \".csv\"\n",
    "\n",
    "def do_benchmark_runs(list_of_runs):\n",
    "    for single_run in list_of_runs:\n",
    "        args = f\"--inputfile benchmark_data/barabasi_{single_run['n_nodes']}_{single_run['density']}.csv {single_run['flags']}\"\n",
    "        out_file = out_file_name(single_run)\n",
    "        common.run_benchmark(common.OUT_DIR / out_file, args=args, print_output=False)\n"
   ]
  },
  {
   "cell_type": "code",
   "execution_count": 26,
   "metadata": {},
   "outputs": [],
   "source": [
    "whatever_runs = [{'n_nodes': 200, 'density': '50pct', 'prefix':'all_one', 'flags':'-m 1 -s 1 -p 1 -f 1 -c 1 -r 1 -n 10'},\n",
    "                {'n_nodes': 400, 'density': '50pct', 'prefix':'all_one', 'flags':'-m 1 -s 1 -p 1 -f 1 -c 1 -r 1 -n 10'},\n",
    "                {'n_nodes': 800, 'density': '50pct', 'prefix':'all_one', 'flags':'-m 1 -s 1 -p 1 -f 1 -c 1 -r 1 -n 10'},\n",
    "                {'n_nodes': 1600, 'density': '50pct', 'prefix':'all_one', 'flags':'-m 1 -s 1 -p 1 -f 1 -c 1 -r 1 -n 10'},\n",
    "                {'n_nodes': 3200, 'density': '50pct', 'prefix':'all_one', 'flags':'-m 1 -s 1 -p 1 -f 1 -c 1 -r 1 -n 10'},\n",
    "                {'n_nodes': 6400, 'density': '50pct', 'prefix':'all_one', 'flags':'-m 1 -s 1 -p 1 -f 1 -c 1 -r 1 -n 10'},\n",
    "                {'n_nodes': 200, 'density': '50pct', 'prefix':'all_zero', 'flags':'-m 0 -s 0 -p 0 -f 0 -c 0 -r 0 -n 10'},\n",
    "                {'n_nodes': 400, 'density': '50pct', 'prefix':'all_zero', 'flags':'-m 0 -s 0 -p 0 -f 0 -c 0 -r 0 -n 10'},\n",
    "                {'n_nodes': 800, 'density': '50pct', 'prefix':'all_zero', 'flags':'-m 0 -s 0 -p 0 -f 0 -c 0 -r 0 -n 10'},\n",
    "                {'n_nodes': 1600, 'density': '50pct', 'prefix':'all_zero', 'flags':'-m 0 -s 0 -p 0 -f 0 -c 0 -r 0 -n 10'}\n",
    "                ]\n",
    "\n",
    "n_nodes_list_d10 = [100, 200, 400, 800, 1600, 3200, 6400, 12800, 25600]\n",
    "n_nodes_list_d50 = [50, 100, 200, 400, 800, 1600, 3200, 6400, 12800]\n",
    "n_nodes_list_d90 = [25, 50, 100, 200, 400, 800, 1600, 3200, 6400]\n",
    "\n",
    "filter_kruskal_runs_d50 = []\n",
    "for n_nodes in n_nodes_list_d50[:-1]:\n",
    "    filter_kruskal_runs_d50.append({'n_nodes': n_nodes, 'density': '50pct', 'prefix':'filter_kruskal', 'flags':'-n 10'})\n",
    "# only 3 repetitions on the biggest graph\n",
    "filter_kruskal_runs_d50.append({'n_nodes': n_nodes, 'density': '50pct', 'prefix':'filter_kruskal', 'flags':'-n 3'})\n",
    "\n",
    "standard_kruskal_runs_d50 = []\n",
    "for n_nodes in n_nodes_list_d50[:-1]:\n",
    "    standard_kruskal_runs_d50.append({'n_nodes': n_nodes, 'density': '50pct', 'prefix':'standard_kruskal', 'flags':'-n 10'})\n",
    "# only 3 repetitions on the biggest graph\n",
    "standard_kruskal_runs_d50.append({'n_nodes': n_nodes, 'density': '50pct', 'prefix':'standard_kruskal', 'flags':'-n 3'})\n",
    "\n",
    "\n"
   ]
  },
  {
   "cell_type": "code",
   "execution_count": 17,
   "metadata": {},
   "outputs": [],
   "source": [
    "\n",
    "# collect run times for plotting\n",
    "def collect_run_times(list_of_runs):\n",
    "    results = {}\n",
    "    row_labels = []\n",
    "\n",
    "    for single_run in list_of_runs:\n",
    "        file_name = out_file_name(single_run)\n",
    "        df = pd.read_csv(common.OUT_DIR / file_name, sep=';')\n",
    "        df.set_index('tag',inplace=True)\n",
    "        run_time = df.loc['total']['average']\n",
    "        row_label = single_run['prefix'] + \"_\" + single_run['density']\n",
    "        if not(row_label in row_labels):\n",
    "            row_labels.append(row_label)\n",
    "            results[row_label+\"_x\"] = []\n",
    "            results[row_label+\"_y\"] = []\n",
    "        results[row_label+\"_x\"].append(single_run['n_nodes'])\n",
    "        results[row_label+\"_y\"].append(run_time)\n",
    "    return row_labels, results\n"
   ]
  },
  {
   "cell_type": "code",
   "execution_count": 23,
   "metadata": {},
   "outputs": [],
   "source": [
    "#plotting\n",
    "def plotting(row_labels, results):\n",
    "    for row_label in row_labels:\n",
    "        plt.loglog(results[row_label+'_x'], results[row_label+'_y'], label=row_label, marker='o')\n",
    "    plt.legend()\n",
    "    plt.grid()\n",
    "    plt.xlabel('number of nodes')\n",
    "    plt.ylabel('execution time in s')"
   ]
  },
  {
   "cell_type": "code",
   "execution_count": null,
   "metadata": {},
   "outputs": [],
   "source": [
    "do_benchmark_runs(filter_kruskal_runs_d50)"
   ]
  },
  {
   "cell_type": "code",
   "execution_count": null,
   "metadata": {},
   "outputs": [],
   "source": [
    "do_benchmark_runs(standard_kruskal_runs_d50)"
   ]
  },
  {
   "cell_type": "code",
   "execution_count": 24,
   "metadata": {},
   "outputs": [
    {
     "data": {
      "image/png": "[encoded data removed]",
      "text/plain": [
       "<Figure size 432x288 with 1 Axes>"
      ]
     },
     "metadata": {
      "needs_background": "light"
     },
     "output_type": "display_data"
    }
   ],
   "source": [
    "labels, results = collect_run_times(default_runs_d50)\n",
    "plotting(labels, results)"
   ]
  }
 ],
 "metadata": {
  "interpreter": {
   "hash": "916dbcbb3f70747c44a77c7bcd40155683ae19c65e1c03b4aa3499c5328201f1"
  },
  "kernelspec": {
   "display_name": "Python 3.10.4 64-bit",
   "language": "python",
   "name": "python3"
  },
  "language_info": {
   "codemirror_mode": {
    "name": "ipython",
    "version": 3
   },
   "file_extension": ".py",
   "mimetype": "text/x-python",
   "name": "python",
   "nbconvert_exporter": "python",
   "pygments_lexer": "ipython3",
   "version": "3.8.10"
  },
  "orig_nbformat": 4
 },
 "nbformat": 4,
 "nbformat_minor": 2
}
