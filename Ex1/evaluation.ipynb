{
 "cells": [
  {
   "cell_type": "code",
   "execution_count": 1,
   "id": "d877f5c1",
   "metadata": {},
   "outputs": [],
   "source": [
    "import pandas as pd\n",
    "import numpy as np\n",
    "import seaborn as sns\n",
    "import matplotlib.pyplot as plt"
   ]
  },
  {
   "cell_type": "code",
   "execution_count": 11,
   "id": "300f5841",
   "metadata": {},
   "outputs": [
    {
     "data": {
      "text/html": [
       "<div>\n",
       "<style scoped>\n",
       "    .dataframe tbody tr th:only-of-type {\n",
       "        vertical-align: middle;\n",
       "    }\n",
       "\n",
       "    .dataframe tbody tr th {\n",
       "        vertical-align: top;\n",
       "    }\n",
       "\n",
       "    .dataframe thead th {\n",
       "        text-align: right;\n",
       "    }\n",
       "</style>\n",
       "<table border=\"1\" class=\"dataframe\">\n",
       "  <thead>\n",
       "    <tr style=\"text-align: right;\">\n",
       "      <th></th>\n",
       "      <th>kernel</th>\n",
       "      <th>input</th>\n",
       "      <th>runtime</th>\n",
       "    </tr>\n",
       "  </thead>\n",
       "  <tbody>\n",
       "    <tr>\n",
       "      <th>0</th>\n",
       "      <td>histogram_original</td>\n",
       "      <td>random_5</td>\n",
       "      <td>7.163000e-06</td>\n",
       "    </tr>\n",
       "    <tr>\n",
       "      <th>1</th>\n",
       "      <td>histogram_noloop</td>\n",
       "      <td>random_5</td>\n",
       "      <td>6.963000e-06</td>\n",
       "    </tr>\n",
       "    <tr>\n",
       "      <th>2</th>\n",
       "      <td>histogram_tlb</td>\n",
       "      <td>random_5</td>\n",
       "      <td>7.034410e-04</td>\n",
       "    </tr>\n",
       "    <tr>\n",
       "      <th>3</th>\n",
       "      <td>histogram_tlb_blr</td>\n",
       "      <td>random_5</td>\n",
       "      <td>1.238460e-03</td>\n",
       "    </tr>\n",
       "    <tr>\n",
       "      <th>4</th>\n",
       "      <td>histogram_linear</td>\n",
       "      <td>random_5</td>\n",
       "      <td>2.400000e-07</td>\n",
       "    </tr>\n",
       "    <tr>\n",
       "      <th>5</th>\n",
       "      <td>histogram_original</td>\n",
       "      <td>random_256</td>\n",
       "      <td>2.400000e-07</td>\n",
       "    </tr>\n",
       "    <tr>\n",
       "      <th>6</th>\n",
       "      <td>histogram_noloop</td>\n",
       "      <td>random_256</td>\n",
       "      <td>2.410000e-07</td>\n",
       "    </tr>\n",
       "    <tr>\n",
       "      <th>7</th>\n",
       "      <td>histogram_tlb</td>\n",
       "      <td>random_256</td>\n",
       "      <td>2.410000e-07</td>\n",
       "    </tr>\n",
       "    <tr>\n",
       "      <th>8</th>\n",
       "      <td>histogram_tlb_blr</td>\n",
       "      <td>random_256</td>\n",
       "      <td>2.410000e-07</td>\n",
       "    </tr>\n",
       "    <tr>\n",
       "      <th>9</th>\n",
       "      <td>histogram_linear</td>\n",
       "      <td>random_256</td>\n",
       "      <td>2.400000e-07</td>\n",
       "    </tr>\n",
       "  </tbody>\n",
       "</table>\n",
       "</div>"
      ],
      "text/plain": [
       "               kernel       input       runtime\n",
       "0  histogram_original    random_5  7.163000e-06\n",
       "1    histogram_noloop    random_5  6.963000e-06\n",
       "2       histogram_tlb    random_5  7.034410e-04\n",
       "3   histogram_tlb_blr    random_5  1.238460e-03\n",
       "4    histogram_linear    random_5  2.400000e-07\n",
       "5  histogram_original  random_256  2.400000e-07\n",
       "6    histogram_noloop  random_256  2.410000e-07\n",
       "7       histogram_tlb  random_256  2.410000e-07\n",
       "8   histogram_tlb_blr  random_256  2.410000e-07\n",
       "9    histogram_linear  random_256  2.400000e-07"
      ]
     },
     "execution_count": 11,
     "metadata": {},
     "output_type": "execute_result"
    }
   ],
   "source": [
    "data = pd.read_csv('results.csv')\n",
    "data"
   ]
  },
  {
   "cell_type": "code",
   "execution_count": 10,
   "id": "9c48d18a",
   "metadata": {},
   "outputs": [
    {
     "data": {
      "image/png": "[encoded data removed]",
      "text/plain": [
       "<Figure size 962.75x432 with 1 Axes>"
      ]
     },
     "metadata": {
      "needs_background": "light"
     },
     "output_type": "display_data"
    }
   ],
   "source": [
    "splot = sns.catplot(x = \"kernel\", y = \"runtime\", hue = \"input\", data = data, kind = \"bar\", height=6, aspect=2)\n",
    "splot.set(yscale=\"log\");\n",
    "plt.xticks(rotation=45);"
   ]
  },
  {
   "cell_type": "code",
   "execution_count": null,
   "id": "2df93a70",
   "metadata": {},
   "outputs": [],
   "source": []
  }
 ],
 "metadata": {
  "kernelspec": {
   "display_name": "Python 3 (ipykernel)",
   "language": "python",
   "name": "python3"
  },
  "language_info": {
   "codemirror_mode": {
    "name": "ipython",
    "version": 3
   },
   "file_extension": ".py",
   "mimetype": "text/x-python",
   "name": "python",
   "nbconvert_exporter": "python",
   "pygments_lexer": "ipython3",
   "version": "3.7.10"
  }
 },
 "nbformat": 4,
 "nbformat_minor": 5
}
