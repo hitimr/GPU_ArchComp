{
 "cells": [
  {
   "cell_type": "code",
   "execution_count": 2,
   "metadata": {},
   "outputs": [],
   "source": [
    "import numpy as np\n",
    "import igraph as ig\n",
    "import pandas as pd\n",
    "import matplotlib.pyplot as plt\n",
    "\n",
    "from time import time\n",
    "\n",
    "from common import *\n",
    "from generate import *\n",
    "from filter_kruskal import *"
   ]
  },
  {
   "cell_type": "code",
   "execution_count": null,
   "metadata": {},
   "outputs": [],
   "source": [
    "common.run(args=\"--help\")"
   ]
  },
  {
   "cell_type": "code",
   "execution_count": 5,
   "metadata": {},
   "outputs": [
    {
     "name": "stdout",
     "output_type": "stream",
     "text": [
      "Running benchmark with ./home/hiti/workspace/GPU_ArchComp/Ex2/build/src/ex2 --ouputfile_timings /home/hiti/workspace/GPU_ArchComp/Ex2/out/timing_results.csv --inputfile input_data/barabasi_dense_2000_1800.csv --mst-kernel 1 -c 1 -p 1\n"
     ]
    },
    {
     "data": {
      "text/html": [
       "<div>\n",
       "<style scoped>\n",
       "    .dataframe tbody tr th:only-of-type {\n",
       "        vertical-align: middle;\n",
       "    }\n",
       "\n",
       "    .dataframe tbody tr th {\n",
       "        vertical-align: top;\n",
       "    }\n",
       "\n",
       "    .dataframe thead th {\n",
       "        text-align: right;\n",
       "    }\n",
       "</style>\n",
       "<table border=\"1\" class=\"dataframe\">\n",
       "  <thead>\n",
       "    <tr style=\"text-align: right;\">\n",
       "      <th></th>\n",
       "      <th>tag</th>\n",
       "      <th>average</th>\n",
       "      <th>std_dev</th>\n",
       "      <th>total</th>\n",
       "      <th>num_calls</th>\n",
       "    </tr>\n",
       "  </thead>\n",
       "  <tbody>\n",
       "    <tr>\n",
       "      <th>0</th>\n",
       "      <td>Initialize</td>\n",
       "      <td>0.053623</td>\n",
       "      <td>0.000000</td>\n",
       "      <td>0.053623</td>\n",
       "      <td>1</td>\n",
       "    </tr>\n",
       "    <tr>\n",
       "      <th>1</th>\n",
       "      <td>Kruskal()</td>\n",
       "      <td>0.811281</td>\n",
       "      <td>0.000000</td>\n",
       "      <td>0.811281</td>\n",
       "      <td>1</td>\n",
       "    </tr>\n",
       "    <tr>\n",
       "      <th>2</th>\n",
       "      <td>compress()</td>\n",
       "      <td>0.002874</td>\n",
       "      <td>0.000000</td>\n",
       "      <td>0.002874</td>\n",
       "      <td>1</td>\n",
       "    </tr>\n",
       "    <tr>\n",
       "      <th>3</th>\n",
       "      <td>filter()</td>\n",
       "      <td>0.002192</td>\n",
       "      <td>0.000523</td>\n",
       "      <td>0.013154</td>\n",
       "      <td>6</td>\n",
       "    </tr>\n",
       "    <tr>\n",
       "      <th>4</th>\n",
       "      <td>grow MST</td>\n",
       "      <td>0.147365</td>\n",
       "      <td>0.000000</td>\n",
       "      <td>0.147365</td>\n",
       "      <td>1</td>\n",
       "    </tr>\n",
       "    <tr>\n",
       "      <th>5</th>\n",
       "      <td>partition()</td>\n",
       "      <td>0.008530</td>\n",
       "      <td>0.002166</td>\n",
       "      <td>0.051177</td>\n",
       "      <td>6</td>\n",
       "    </tr>\n",
       "    <tr>\n",
       "      <th>6</th>\n",
       "      <td>sort_edgelist()</td>\n",
       "      <td>0.663911</td>\n",
       "      <td>0.000000</td>\n",
       "      <td>0.663911</td>\n",
       "      <td>1</td>\n",
       "    </tr>\n",
       "    <tr>\n",
       "      <th>7</th>\n",
       "      <td>total</td>\n",
       "      <td>0.934622</td>\n",
       "      <td>0.000000</td>\n",
       "      <td>0.934622</td>\n",
       "      <td>1</td>\n",
       "    </tr>\n",
       "  </tbody>\n",
       "</table>\n",
       "</div>"
      ],
      "text/plain": [
       "               tag   average   std_dev     total  num_calls\n",
       "0       Initialize  0.053623  0.000000  0.053623          1\n",
       "1        Kruskal()  0.811281  0.000000  0.811281          1\n",
       "2       compress()  0.002874  0.000000  0.002874          1\n",
       "3         filter()  0.002192  0.000523  0.013154          6\n",
       "4         grow MST  0.147365  0.000000  0.147365          1\n",
       "5      partition()  0.008530  0.002166  0.051177          6\n",
       "6  sort_edgelist()  0.663911  0.000000  0.663911          1\n",
       "7            total  0.934622  0.000000  0.934622          1"
      ]
     },
     "execution_count": 5,
     "metadata": {},
     "output_type": "execute_result"
    }
   ],
   "source": [
    "args = f\"--inputfile input_data/barabasi_dense_2000_1800.csv --mst-kernel 1 -c 1 -p 1\"\n",
    "df = common.run_benchmark(common.OUT_DIR / \"timing_results.csv\", args=args, print_output=False)\n",
    "df"
   ]
  },
  {
   "cell_type": "code",
   "execution_count": 14,
   "metadata": {},
   "outputs": [
    {
     "name": "stdout",
     "output_type": "stream",
     "text": [
      "Running benchmark with ./home/hiti/workspace/GPU_ArchComp/Ex2/build/src/ex2 --ouputfile_timings /home/hiti/workspace/GPU_ArchComp/Ex2/out/timing_results.csv --inputfile input_data/barabasi_dense_4000_3600.csv --mst-kernel 1 -c 1 -f 0\n"
     ]
    }
   ],
   "source": [
    "args = f\"--inputfile input_data/barabasi_dense_4000_3600.csv --mst-kernel 1 -c 1 -f 0\"\n",
    "df = common.run_benchmark(common.OUT_DIR / \"timing_results.csv\", args=args, print_output=False)\n",
    "df"
   ]
  },
  {
   "cell_type": "code",
   "execution_count": null,
   "metadata": {},
   "outputs": [],
   "source": []
  }
 ],
 "metadata": {
  "interpreter": {
   "hash": "916dbcbb3f70747c44a77c7bcd40155683ae19c65e1c03b4aa3499c5328201f1"
  },
  "kernelspec": {
   "display_name": "Python 3.10.4 64-bit",
   "language": "python",
   "name": "python3"
  },
  "language_info": {
   "codemirror_mode": {
    "name": "ipython",
    "version": 3
   },
   "file_extension": ".py",
   "mimetype": "text/x-python",
   "name": "python",
   "nbconvert_exporter": "python",
   "pygments_lexer": "ipython3",
   "version": "3.10.4"
  },
  "orig_nbformat": 4
 },
 "nbformat": 4,
 "nbformat_minor": 2
}
