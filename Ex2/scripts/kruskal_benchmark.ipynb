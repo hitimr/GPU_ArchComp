{
 "cells": [
  {
   "cell_type": "code",
   "execution_count": 1,
   "metadata": {},
   "outputs": [],
   "source": [
    "import numpy as np\n",
    "import igraph as ig\n",
    "import pandas as pd\n",
    "import matplotlib.pyplot as plt\n",
    "from tqdm import tqdm\n",
    "\n",
    "from time import time\n",
    "\n",
    "from common import *\n",
    "from generate import *\n",
    "from filter_kruskal import *"
   ]
  },
  {
   "cell_type": "code",
   "execution_count": 2,
   "metadata": {},
   "outputs": [
    {
     "name": "stdout",
     "output_type": "stream",
     "text": [
      "Running benchmark with \n",
      "Loading /home/hiti/workspace/GPU_ArchComp/Ex2/input_data/example.csv\n",
      "Initialize\tµ=1.543e-06s\tsigma=0s\ttotal=1.543e-06\n",
      "Kruskal()\tµ=0.0527062s\tsigma=0s\ttotal=0.0527062\n",
      "calculate_mst()\tµ=0.0527144s\tsigma=0s\ttotal=0.0527144\n",
      "sort edgelist\tµ=0.0526974s\tsigma=0s\ttotal=0.0526974\n"
     ]
    },
    {
     "data": {
      "text/html": [
       "<div>\n",
       "<style scoped>\n",
       "    .dataframe tbody tr th:only-of-type {\n",
       "        vertical-align: middle;\n",
       "    }\n",
       "\n",
       "    .dataframe tbody tr th {\n",
       "        vertical-align: top;\n",
       "    }\n",
       "\n",
       "    .dataframe thead th {\n",
       "        text-align: right;\n",
       "    }\n",
       "</style>\n",
       "<table border=\"1\" class=\"dataframe\">\n",
       "  <thead>\n",
       "    <tr style=\"text-align: right;\">\n",
       "      <th></th>\n",
       "      <th>tag</th>\n",
       "      <th>average</th>\n",
       "      <th>std_dev</th>\n",
       "      <th>total</th>\n",
       "      <th>num_calls</th>\n",
       "    </tr>\n",
       "  </thead>\n",
       "  <tbody>\n",
       "    <tr>\n",
       "      <th>0</th>\n",
       "      <td>Initialize</td>\n",
       "      <td>0.000002</td>\n",
       "      <td>0</td>\n",
       "      <td>0.000002</td>\n",
       "      <td>1</td>\n",
       "    </tr>\n",
       "    <tr>\n",
       "      <th>1</th>\n",
       "      <td>Kruskal()</td>\n",
       "      <td>0.052706</td>\n",
       "      <td>0</td>\n",
       "      <td>0.052706</td>\n",
       "      <td>1</td>\n",
       "    </tr>\n",
       "    <tr>\n",
       "      <th>2</th>\n",
       "      <td>calculate_mst()</td>\n",
       "      <td>0.052714</td>\n",
       "      <td>0</td>\n",
       "      <td>0.052714</td>\n",
       "      <td>1</td>\n",
       "    </tr>\n",
       "    <tr>\n",
       "      <th>3</th>\n",
       "      <td>sort edgelist</td>\n",
       "      <td>0.052697</td>\n",
       "      <td>0</td>\n",
       "      <td>0.052697</td>\n",
       "      <td>1</td>\n",
       "    </tr>\n",
       "  </tbody>\n",
       "</table>\n",
       "</div>"
      ],
      "text/plain": [
       "               tag   average  std_dev     total  num_calls\n",
       "0       Initialize  0.000002        0  0.000002          1\n",
       "1        Kruskal()  0.052706        0  0.052706          1\n",
       "2  calculate_mst()  0.052714        0  0.052714          1\n",
       "3    sort edgelist  0.052697        0  0.052697          1"
      ]
     },
     "execution_count": 2,
     "metadata": {},
     "output_type": "execute_result"
    }
   ],
   "source": [
    "df = common.run_benchmark(common.OUT_DIR / \"timing_results.csv\")"
   ]
  },
  {
   "cell_type": "code",
   "execution_count": null,
   "metadata": {},
   "outputs": [],
   "source": []
  },
  {
   "cell_type": "code",
   "execution_count": null,
   "metadata": {},
   "outputs": [],
   "source": []
  }
 ],
 "metadata": {
  "interpreter": {
   "hash": "916dbcbb3f70747c44a77c7bcd40155683ae19c65e1c03b4aa3499c5328201f1"
  },
  "kernelspec": {
   "display_name": "Python 3.10.4 64-bit",
   "language": "python",
   "name": "python3"
  },
  "language_info": {
   "codemirror_mode": {
    "name": "ipython",
    "version": 3
   },
   "file_extension": ".py",
   "mimetype": "text/x-python",
   "name": "python",
   "nbconvert_exporter": "python",
   "pygments_lexer": "ipython3",
   "version": "3.10.4"
  },
  "orig_nbformat": 4
 },
 "nbformat": 4,
 "nbformat_minor": 2
}
