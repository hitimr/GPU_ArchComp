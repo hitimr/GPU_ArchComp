{
 "cells": [
  {
   "cell_type": "code",
   "execution_count": 2,
   "metadata": {},
   "outputs": [],
   "source": [
    "import numpy as np\n",
    "import igraph as ig\n",
    "import pandas as pd\n",
    "import matplotlib.pyplot as plt\n",
    "\n",
    "from time import time\n",
    "\n",
    "from common import *\n",
    "from generate import *\n",
    "from filter_kruskal import *"
   ]
  },
  {
   "cell_type": "code",
   "execution_count": 2,
   "metadata": {},
   "outputs": [
    {
     "name": "stdout",
     "output_type": "stream",
     "text": [
      "Allowed options:\n",
      "  -h [ --help ]                      produce help message\n",
      "  -m [ --mst-kernel ] arg (=1)       Kernel used calculating MST. 0 = regular \n",
      "                                     kruskal, 1 = filter-kruskal\n",
      "  -s [ --sort-kernel ] arg (=1)      Kernel used for sort() [int]\n",
      "  -p [ --partition-kernel ] arg (=1) Kernel used for partition() [int]\n",
      "  --pinned-memory                    use pinned memory (OFF by default)\n",
      "  -f [ --filter-kernel ] arg (=0)    Kernel used for filter() [int]\n",
      "  -c [ --compress-kernel ] arg (=1)  Kernel used for compress() [int]\n",
      "  -r [ --recusion-depth ] arg (=32)  Kernel used for compress() [int]\n",
      "  -n [ --repetitions ] arg (=1)      Number of times the MST calculation is \n",
      "                                     repeated [int]\n",
      "  -i [ --inputfile ] arg             input file containing graph data. Filepath\n",
      "                                     must be relative to Ex2/\n",
      "  -t [ --ouputfile_timings ] arg     Output file for timings. Filepath must be \n",
      "                                     relative to Ex2/\n",
      "\n"
     ]
    }
   ],
   "source": [
    "common.run(args=\"--help\")"
   ]
  },
  {
   "cell_type": "code",
   "execution_count": 7,
   "metadata": {},
   "outputs": [
    {
     "name": "stdout",
     "output_type": "stream",
     "text": [
      "Running benchmark with ./home/student1/workspace/simon/GPU_ArchComp/Ex2/build/src/ex2 --ouputfile_timings /home/student1/workspace/simon/GPU_ArchComp/Ex2/out/timing_results.csv --inputfile benchmark_data/barabasi_800_50pct.csv --mst-kernel 1 -s 1 -n 1\n",
      "159705 Edges loaded\n",
      "\n",
      "Benchmark results:\n",
      "Initialize\tµ=0.162677s\tsigma=0s\tmedian=0.162677s\ttotal=0.162677\tnum_calls=1\n",
      "Kruskal()\tµ=0.0832262s\tsigma=0s\tmedian=0.0832262s\ttotal=0.0832262\tnum_calls=1\n",
      "filter()\tµ=0.00138493s\tsigma=0.000757081s\tmedian=0.000865106s\ttotal=0.00415479\tnum_calls=3\n",
      "grow MST\tµ=0.00243157s\tsigma=0s\tmedian=0.00243157s\ttotal=0.00243157\tnum_calls=1\n",
      "partition()\tµ=0.00172107s\tsigma=5.67037e-05s\tmedian=0.00184615s\ttotal=0.00516322\tnum_calls=3\n",
      "sort()\tµ=0.0807894s\tsigma=0s\tmedian=0.0807894s\ttotal=0.0807894\tnum_calls=1\n",
      "total\tµ=0.255249s\tsigma=0s\tmedian=0.255249s\ttotal=0.255249\tnum_calls=1\n"
     ]
    },
    {
     "data": {
      "text/html": [
       "<div>\n",
       "<style scoped>\n",
       "    .dataframe tbody tr th:only-of-type {\n",
       "        vertical-align: middle;\n",
       "    }\n",
       "\n",
       "    .dataframe tbody tr th {\n",
       "        vertical-align: top;\n",
       "    }\n",
       "\n",
       "    .dataframe thead th {\n",
       "        text-align: right;\n",
       "    }\n",
       "</style>\n",
       "<table border=\"1\" class=\"dataframe\">\n",
       "  <thead>\n",
       "    <tr style=\"text-align: right;\">\n",
       "      <th></th>\n",
       "      <th>tag</th>\n",
       "      <th>average</th>\n",
       "      <th>std_dev</th>\n",
       "      <th>median</th>\n",
       "      <th>total</th>\n",
       "      <th>num_calls</th>\n",
       "    </tr>\n",
       "  </thead>\n",
       "  <tbody>\n",
       "    <tr>\n",
       "      <th>0</th>\n",
       "      <td>Initialize</td>\n",
       "      <td>0.162677</td>\n",
       "      <td>0.000000</td>\n",
       "      <td>0.162677</td>\n",
       "      <td>0.162677</td>\n",
       "      <td>1</td>\n",
       "    </tr>\n",
       "    <tr>\n",
       "      <th>1</th>\n",
       "      <td>Kruskal()</td>\n",
       "      <td>0.083226</td>\n",
       "      <td>0.000000</td>\n",
       "      <td>0.083226</td>\n",
       "      <td>0.083226</td>\n",
       "      <td>1</td>\n",
       "    </tr>\n",
       "    <tr>\n",
       "      <th>2</th>\n",
       "      <td>filter()</td>\n",
       "      <td>0.001385</td>\n",
       "      <td>0.000757</td>\n",
       "      <td>0.000865</td>\n",
       "      <td>0.004155</td>\n",
       "      <td>3</td>\n",
       "    </tr>\n",
       "    <tr>\n",
       "      <th>3</th>\n",
       "      <td>grow MST</td>\n",
       "      <td>0.002432</td>\n",
       "      <td>0.000000</td>\n",
       "      <td>0.002432</td>\n",
       "      <td>0.002432</td>\n",
       "      <td>1</td>\n",
       "    </tr>\n",
       "    <tr>\n",
       "      <th>4</th>\n",
       "      <td>partition()</td>\n",
       "      <td>0.001721</td>\n",
       "      <td>0.000057</td>\n",
       "      <td>0.001846</td>\n",
       "      <td>0.005163</td>\n",
       "      <td>3</td>\n",
       "    </tr>\n",
       "    <tr>\n",
       "      <th>5</th>\n",
       "      <td>sort()</td>\n",
       "      <td>0.080789</td>\n",
       "      <td>0.000000</td>\n",
       "      <td>0.080789</td>\n",
       "      <td>0.080789</td>\n",
       "      <td>1</td>\n",
       "    </tr>\n",
       "    <tr>\n",
       "      <th>6</th>\n",
       "      <td>total</td>\n",
       "      <td>0.255249</td>\n",
       "      <td>0.000000</td>\n",
       "      <td>0.255249</td>\n",
       "      <td>0.255249</td>\n",
       "      <td>1</td>\n",
       "    </tr>\n",
       "  </tbody>\n",
       "</table>\n",
       "</div>"
      ],
      "text/plain": [
       "           tag   average   std_dev    median     total  num_calls\n",
       "0   Initialize  0.162677  0.000000  0.162677  0.162677          1\n",
       "1    Kruskal()  0.083226  0.000000  0.083226  0.083226          1\n",
       "2     filter()  0.001385  0.000757  0.000865  0.004155          3\n",
       "3     grow MST  0.002432  0.000000  0.002432  0.002432          1\n",
       "4  partition()  0.001721  0.000057  0.001846  0.005163          3\n",
       "5       sort()  0.080789  0.000000  0.080789  0.080789          1\n",
       "6        total  0.255249  0.000000  0.255249  0.255249          1"
      ]
     },
     "execution_count": 7,
     "metadata": {},
     "output_type": "execute_result"
    }
   ],
   "source": [
    "args = f\"--inputfile benchmark_data/barabasi_800_50pct.csv --mst-kernel 1 -s 1 -n 1\"\n",
    "df = common.run_benchmark(common.OUT_DIR / \"timing_results.csv\", args=args, print_output=True)\n",
    "df"
   ]
  },
  {
   "cell_type": "code",
   "execution_count": 8,
   "metadata": {},
   "outputs": [
    {
     "name": "stdout",
     "output_type": "stream",
     "text": [
      "Running benchmark with ./home/student1/workspace/simon/GPU_ArchComp/Ex2/build/src/ex2 --ouputfile_timings /home/student1/workspace/simon/GPU_ArchComp/Ex2/out/timing_results.csv --inputfile benchmark_data/barabasi_800_50pct.csv --mst-kernel 1 -s 1 -n 5\n",
      "159705 Edges loaded\n",
      "\n",
      "Benchmark results:\n",
      "Initialize\tµ=0.0355256s\tsigma=0.030162s\tmedian=0.00178234s\ttotal=0.177628\tnum_calls=5\n",
      "Kruskal()\tµ=0.0562453s\tsigma=0.0124907s\tmedian=0.0074132s\ttotal=0.281226\tnum_calls=5\n",
      "filter()\tµ=0.00257133s\tsigma=0.000679371s\tmedian=0.0066538s\ttotal=0.0205706\tnum_calls=8\n",
      "grow MST\tµ=0.00245051s\tsigma=0.00042055s\tmedian=0.000639712s\ttotal=0.0122526\tnum_calls=5\n",
      "partition()\tµ=0.00152555s\tsigma=7.81982e-05s\tmedian=0.001379s\ttotal=0.0122044\tnum_calls=8\n",
      "sort()\tµ=0.0537914s\tsigma=0.0121771s\tmedian=0.00677074s\ttotal=0.268957\tnum_calls=5\n",
      "total\tµ=0.098346s\tsigma=0.0378661s\tmedian=0.0172432s\ttotal=0.49173\tnum_calls=5\n"
     ]
    },
    {
     "data": {
      "text/html": [
       "<div>\n",
       "<style scoped>\n",
       "    .dataframe tbody tr th:only-of-type {\n",
       "        vertical-align: middle;\n",
       "    }\n",
       "\n",
       "    .dataframe tbody tr th {\n",
       "        vertical-align: top;\n",
       "    }\n",
       "\n",
       "    .dataframe thead th {\n",
       "        text-align: right;\n",
       "    }\n",
       "</style>\n",
       "<table border=\"1\" class=\"dataframe\">\n",
       "  <thead>\n",
       "    <tr style=\"text-align: right;\">\n",
       "      <th></th>\n",
       "      <th>tag</th>\n",
       "      <th>average</th>\n",
       "      <th>std_dev</th>\n",
       "      <th>median</th>\n",
       "      <th>total</th>\n",
       "      <th>num_calls</th>\n",
       "    </tr>\n",
       "  </thead>\n",
       "  <tbody>\n",
       "    <tr>\n",
       "      <th>0</th>\n",
       "      <td>Initialize</td>\n",
       "      <td>0.035526</td>\n",
       "      <td>0.030162</td>\n",
       "      <td>0.001782</td>\n",
       "      <td>0.177628</td>\n",
       "      <td>5</td>\n",
       "    </tr>\n",
       "    <tr>\n",
       "      <th>1</th>\n",
       "      <td>Kruskal()</td>\n",
       "      <td>0.056245</td>\n",
       "      <td>0.012491</td>\n",
       "      <td>0.007413</td>\n",
       "      <td>0.281226</td>\n",
       "      <td>5</td>\n",
       "    </tr>\n",
       "    <tr>\n",
       "      <th>2</th>\n",
       "      <td>filter()</td>\n",
       "      <td>0.002571</td>\n",
       "      <td>0.000679</td>\n",
       "      <td>0.006654</td>\n",
       "      <td>0.020571</td>\n",
       "      <td>8</td>\n",
       "    </tr>\n",
       "    <tr>\n",
       "      <th>3</th>\n",
       "      <td>grow MST</td>\n",
       "      <td>0.002451</td>\n",
       "      <td>0.000421</td>\n",
       "      <td>0.000640</td>\n",
       "      <td>0.012253</td>\n",
       "      <td>5</td>\n",
       "    </tr>\n",
       "    <tr>\n",
       "      <th>4</th>\n",
       "      <td>partition()</td>\n",
       "      <td>0.001526</td>\n",
       "      <td>0.000078</td>\n",
       "      <td>0.001379</td>\n",
       "      <td>0.012204</td>\n",
       "      <td>8</td>\n",
       "    </tr>\n",
       "    <tr>\n",
       "      <th>5</th>\n",
       "      <td>sort()</td>\n",
       "      <td>0.053791</td>\n",
       "      <td>0.012177</td>\n",
       "      <td>0.006771</td>\n",
       "      <td>0.268957</td>\n",
       "      <td>5</td>\n",
       "    </tr>\n",
       "    <tr>\n",
       "      <th>6</th>\n",
       "      <td>total</td>\n",
       "      <td>0.098346</td>\n",
       "      <td>0.037866</td>\n",
       "      <td>0.017243</td>\n",
       "      <td>0.491730</td>\n",
       "      <td>5</td>\n",
       "    </tr>\n",
       "  </tbody>\n",
       "</table>\n",
       "</div>"
      ],
      "text/plain": [
       "           tag   average   std_dev    median     total  num_calls\n",
       "0   Initialize  0.035526  0.030162  0.001782  0.177628          5\n",
       "1    Kruskal()  0.056245  0.012491  0.007413  0.281226          5\n",
       "2     filter()  0.002571  0.000679  0.006654  0.020571          8\n",
       "3     grow MST  0.002451  0.000421  0.000640  0.012253          5\n",
       "4  partition()  0.001526  0.000078  0.001379  0.012204          8\n",
       "5       sort()  0.053791  0.012177  0.006771  0.268957          5\n",
       "6        total  0.098346  0.037866  0.017243  0.491730          5"
      ]
     },
     "execution_count": 8,
     "metadata": {},
     "output_type": "execute_result"
    }
   ],
   "source": [
    "args = f\"--inputfile benchmark_data/barabasi_800_50pct.csv --mst-kernel 1 -s 1 -n 5\"\n",
    "df = common.run_benchmark(common.OUT_DIR / \"timing_results.csv\", args=args, print_output=True)\n",
    "df"
   ]
  },
  {
   "cell_type": "code",
   "execution_count": 9,
   "metadata": {},
   "outputs": [
    {
     "name": "stdout",
     "output_type": "stream",
     "text": [
      "Running benchmark with ./home/student1/workspace/simon/GPU_ArchComp/Ex2/build/src/ex2 --ouputfile_timings /home/student1/workspace/simon/GPU_ArchComp/Ex2/out/timing_results.csv --inputfile benchmark_data/barabasi_800_50pct.csv --mst-kernel 1 -s 1 -n 10\n",
      "159705 Edges loaded\n",
      "\n",
      "Benchmark results:\n",
      "Initialize\tµ=0.0180241s\tsigma=0.0154066s\tmedian=0.00176958s\ttotal=0.180241\tnum_calls=10\n",
      "Kruskal()\tµ=0.0387229s\tsigma=0.00889837s\tmedian=0.0241446s\ttotal=0.387229\tnum_calls=10\n",
      "filter()\tµ=0.00325988s\tsigma=0.000494765s\tmedian=0.00218286s\ttotal=0.0488981\tnum_calls=15\n",
      "grow MST\tµ=0.00190343s\tsigma=0.000317166s\tmedian=0.00149953s\ttotal=0.0190343\tnum_calls=10\n",
      "partition()\tµ=0.00140639s\tsigma=3.28242e-05s\tmedian=0.00118094s\ttotal=0.0210958\tnum_calls=15\n",
      "sort()\tµ=0.0368162s\tsigma=0.00862623s\tmedian=0.0226421s\ttotal=0.368162\tnum_calls=10\n",
      "total\tµ=0.0637644s\tsigma=0.0211352s\tmedian=0.0327853s\ttotal=0.637644\tnum_calls=10\n"
     ]
    },
    {
     "data": {
      "text/html": [
       "<div>\n",
       "<style scoped>\n",
       "    .dataframe tbody tr th:only-of-type {\n",
       "        vertical-align: middle;\n",
       "    }\n",
       "\n",
       "    .dataframe tbody tr th {\n",
       "        vertical-align: top;\n",
       "    }\n",
       "\n",
       "    .dataframe thead th {\n",
       "        text-align: right;\n",
       "    }\n",
       "</style>\n",
       "<table border=\"1\" class=\"dataframe\">\n",
       "  <thead>\n",
       "    <tr style=\"text-align: right;\">\n",
       "      <th></th>\n",
       "      <th>tag</th>\n",
       "      <th>average</th>\n",
       "      <th>std_dev</th>\n",
       "      <th>median</th>\n",
       "      <th>total</th>\n",
       "      <th>num_calls</th>\n",
       "    </tr>\n",
       "  </thead>\n",
       "  <tbody>\n",
       "    <tr>\n",
       "      <th>0</th>\n",
       "      <td>Initialize</td>\n",
       "      <td>0.018024</td>\n",
       "      <td>0.015407</td>\n",
       "      <td>0.001770</td>\n",
       "      <td>0.180241</td>\n",
       "      <td>10</td>\n",
       "    </tr>\n",
       "    <tr>\n",
       "      <th>1</th>\n",
       "      <td>Kruskal()</td>\n",
       "      <td>0.038723</td>\n",
       "      <td>0.008898</td>\n",
       "      <td>0.024145</td>\n",
       "      <td>0.387229</td>\n",
       "      <td>10</td>\n",
       "    </tr>\n",
       "    <tr>\n",
       "      <th>2</th>\n",
       "      <td>filter()</td>\n",
       "      <td>0.003260</td>\n",
       "      <td>0.000495</td>\n",
       "      <td>0.002183</td>\n",
       "      <td>0.048898</td>\n",
       "      <td>15</td>\n",
       "    </tr>\n",
       "    <tr>\n",
       "      <th>3</th>\n",
       "      <td>grow MST</td>\n",
       "      <td>0.001903</td>\n",
       "      <td>0.000317</td>\n",
       "      <td>0.001500</td>\n",
       "      <td>0.019034</td>\n",
       "      <td>10</td>\n",
       "    </tr>\n",
       "    <tr>\n",
       "      <th>4</th>\n",
       "      <td>partition()</td>\n",
       "      <td>0.001406</td>\n",
       "      <td>0.000033</td>\n",
       "      <td>0.001181</td>\n",
       "      <td>0.021096</td>\n",
       "      <td>15</td>\n",
       "    </tr>\n",
       "    <tr>\n",
       "      <th>5</th>\n",
       "      <td>sort()</td>\n",
       "      <td>0.036816</td>\n",
       "      <td>0.008626</td>\n",
       "      <td>0.022642</td>\n",
       "      <td>0.368162</td>\n",
       "      <td>10</td>\n",
       "    </tr>\n",
       "    <tr>\n",
       "      <th>6</th>\n",
       "      <td>total</td>\n",
       "      <td>0.063764</td>\n",
       "      <td>0.021135</td>\n",
       "      <td>0.032785</td>\n",
       "      <td>0.637644</td>\n",
       "      <td>10</td>\n",
       "    </tr>\n",
       "  </tbody>\n",
       "</table>\n",
       "</div>"
      ],
      "text/plain": [
       "           tag   average   std_dev    median     total  num_calls\n",
       "0   Initialize  0.018024  0.015407  0.001770  0.180241         10\n",
       "1    Kruskal()  0.038723  0.008898  0.024145  0.387229         10\n",
       "2     filter()  0.003260  0.000495  0.002183  0.048898         15\n",
       "3     grow MST  0.001903  0.000317  0.001500  0.019034         10\n",
       "4  partition()  0.001406  0.000033  0.001181  0.021096         15\n",
       "5       sort()  0.036816  0.008626  0.022642  0.368162         10\n",
       "6        total  0.063764  0.021135  0.032785  0.637644         10"
      ]
     },
     "execution_count": 9,
     "metadata": {},
     "output_type": "execute_result"
    }
   ],
   "source": [
    "args = f\"--inputfile benchmark_data/barabasi_800_50pct.csv --mst-kernel 1 -s 1 -n 10\"\n",
    "df = common.run_benchmark(common.OUT_DIR / \"timing_results.csv\", args=args, print_output=True)\n",
    "df"
   ]
  },
  {
   "cell_type": "code",
   "execution_count": 10,
   "metadata": {},
   "outputs": [
    {
     "name": "stdout",
     "output_type": "stream",
     "text": [
      "Running benchmark with ./home/student1/workspace/simon/GPU_ArchComp/Ex2/build/src/ex2 --ouputfile_timings /home/student1/workspace/simon/GPU_ArchComp/Ex2/out/timing_results.csv --inputfile benchmark_data/barabasi_12800_50pct.csv --mst-kernel 1 -s 1 -n 10\n",
      "40966875 Edges loaded\n",
      "terminate called after throwing an instance of 'std::bad_array_new_length'\n",
      "  what():  std::bad_array_new_length\n"
     ]
    },
    {
     "ename": "CalledProcessError",
     "evalue": "Command '['/home/student1/workspace/simon/GPU_ArchComp/Ex2/build/src/ex2', '--ouputfile_timings', '/home/student1/workspace/simon/GPU_ArchComp/Ex2/out/timing_results.csv', '--inputfile', 'benchmark_data/barabasi_12800_50pct.csv', '--mst-kernel', '1', '-s', '1', '-n', '10']' died with <Signals.SIGABRT: 6>.",
     "output_type": "error",
     "traceback": [
      "\u001b[0;31m---------------------------------------------------------------------------\u001b[0m",
      "\u001b[0;31mCalledProcessError\u001b[0m                        Traceback (most recent call last)",
      "\u001b[1;32m/home/student1/workspace/simon/GPU_ArchComp/Ex2/scripts/kruskal_benchmark.ipynb Cell 6'\u001b[0m in \u001b[0;36m<cell line: 2>\u001b[0;34m()\u001b[0m\n\u001b[1;32m      <a href='vscode-notebook-cell://ssh-remote%2B7b22686f73744e616d65223a2254555f475055227d/home/student1/workspace/simon/GPU_ArchComp/Ex2/scripts/kruskal_benchmark.ipynb#ch0000005vscode-remote?line=0'>1</a>\u001b[0m args \u001b[39m=\u001b[39m \u001b[39mf\u001b[39m\u001b[39m\"\u001b[39m\u001b[39m--inputfile benchmark_data/barabasi_12800_50pct.csv --mst-kernel 1 -s 1 -n 10\u001b[39m\u001b[39m\"\u001b[39m\n\u001b[0;32m----> <a href='vscode-notebook-cell://ssh-remote%2B7b22686f73744e616d65223a2254555f475055227d/home/student1/workspace/simon/GPU_ArchComp/Ex2/scripts/kruskal_benchmark.ipynb#ch0000005vscode-remote?line=1'>2</a>\u001b[0m df \u001b[39m=\u001b[39m common\u001b[39m.\u001b[39;49mrun_benchmark(common\u001b[39m.\u001b[39;49mOUT_DIR \u001b[39m/\u001b[39;49m \u001b[39m\"\u001b[39;49m\u001b[39mtiming_results.csv\u001b[39;49m\u001b[39m\"\u001b[39;49m, args\u001b[39m=\u001b[39;49margs, print_output\u001b[39m=\u001b[39;49m\u001b[39mTrue\u001b[39;49;00m)\n\u001b[1;32m      <a href='vscode-notebook-cell://ssh-remote%2B7b22686f73744e616d65223a2254555f475055227d/home/student1/workspace/simon/GPU_ArchComp/Ex2/scripts/kruskal_benchmark.ipynb#ch0000005vscode-remote?line=2'>3</a>\u001b[0m df\n",
      "File \u001b[0;32m~/workspace/simon/GPU_ArchComp/Ex2/scripts/common.py:39\u001b[0m, in \u001b[0;36mrun_benchmark\u001b[0;34m(outfile, args, print_output, verbose)\u001b[0m\n\u001b[1;32m     36\u001b[0m     \u001b[39mprint\u001b[39m(\u001b[39mf\u001b[39m\u001b[39m\"\u001b[39m\u001b[39mRunning benchmark with .\u001b[39m\u001b[39m{\u001b[39;00mcmd\u001b[39m}\u001b[39;00m\u001b[39m\"\u001b[39m)\n\u001b[1;32m     38\u001b[0m \u001b[39mif\u001b[39;00m(print_output):\n\u001b[0;32m---> 39\u001b[0m     subprocess\u001b[39m.\u001b[39;49mrun(cmd\u001b[39m.\u001b[39;49msplit(sep\u001b[39m=\u001b[39;49m\u001b[39m\"\u001b[39;49m\u001b[39m \u001b[39;49m\u001b[39m\"\u001b[39;49m), check\u001b[39m=\u001b[39;49m\u001b[39mTrue\u001b[39;49;00m,\n\u001b[1;32m     40\u001b[0m                    stderr\u001b[39m=\u001b[39;49msubprocess\u001b[39m.\u001b[39;49mSTDOUT)\n\u001b[1;32m     41\u001b[0m \u001b[39melse\u001b[39;00m:\n\u001b[1;32m     42\u001b[0m     subprocess\u001b[39m.\u001b[39mrun(cmd\u001b[39m.\u001b[39msplit(sep\u001b[39m=\u001b[39m\u001b[39m\"\u001b[39m\u001b[39m \u001b[39m\u001b[39m\"\u001b[39m), check\u001b[39m=\u001b[39m\u001b[39mTrue\u001b[39;00m,\n\u001b[1;32m     43\u001b[0m                    stdout\u001b[39m=\u001b[39msubprocess\u001b[39m.\u001b[39mDEVNULL)\n",
      "File \u001b[0;32m/usr/lib/python3.8/subprocess.py:516\u001b[0m, in \u001b[0;36mrun\u001b[0;34m(input, capture_output, timeout, check, *popenargs, **kwargs)\u001b[0m\n\u001b[1;32m    514\u001b[0m     retcode \u001b[39m=\u001b[39m process\u001b[39m.\u001b[39mpoll()\n\u001b[1;32m    515\u001b[0m     \u001b[39mif\u001b[39;00m check \u001b[39mand\u001b[39;00m retcode:\n\u001b[0;32m--> 516\u001b[0m         \u001b[39mraise\u001b[39;00m CalledProcessError(retcode, process\u001b[39m.\u001b[39margs,\n\u001b[1;32m    517\u001b[0m                                  output\u001b[39m=\u001b[39mstdout, stderr\u001b[39m=\u001b[39mstderr)\n\u001b[1;32m    518\u001b[0m \u001b[39mreturn\u001b[39;00m CompletedProcess(process\u001b[39m.\u001b[39margs, retcode, stdout, stderr)\n",
      "\u001b[0;31mCalledProcessError\u001b[0m: Command '['/home/student1/workspace/simon/GPU_ArchComp/Ex2/build/src/ex2', '--ouputfile_timings', '/home/student1/workspace/simon/GPU_ArchComp/Ex2/out/timing_results.csv', '--inputfile', 'benchmark_data/barabasi_12800_50pct.csv', '--mst-kernel', '1', '-s', '1', '-n', '10']' died with <Signals.SIGABRT: 6>."
     ]
    }
   ],
   "source": [
    "# this will fail after 1.5 mins => let the largest graph only run 3 times\n",
    "args = f\"--inputfile benchmark_data/barabasi_12800_50pct.csv --mst-kernel 1 -s 1 -n 10\"\n",
    "df = common.run_benchmark(common.OUT_DIR / \"timing_results.csv\", args=args, print_output=True)\n",
    "df"
   ]
  },
  {
   "cell_type": "code",
   "execution_count": 3,
   "metadata": {},
   "outputs": [],
   "source": [
    "def out_file_name(single_run):\n",
    "    return single_run['prefix'] + \"_\" + str(single_run['n_nodes']) + \"_\" + str(single_run['density']) + \".csv\"\n",
    "\n",
    "def do_benchmark_runs(list_of_runs):\n",
    "    for single_run in list_of_runs:\n",
    "        args = f\"--inputfile benchmark_data/barabasi_{single_run['n_nodes']}_{single_run['density']}.csv {single_run['flags']}\"\n",
    "        out_file = out_file_name(single_run)\n",
    "        common.run_benchmark(common.OUT_DIR / out_file, args=args, print_output=False)\n"
   ]
  },
  {
   "cell_type": "code",
   "execution_count": 4,
   "metadata": {},
   "outputs": [],
   "source": [
    "whatever_runs = [{'n_nodes': 200, 'density': '50pct', 'prefix':'all_one', 'flags':'-m 1 -s 1 -p 1 -f 1 -c 1 -r 1 -n 10'},\n",
    "                {'n_nodes': 400, 'density': '50pct', 'prefix':'all_one', 'flags':'-m 1 -s 1 -p 1 -f 1 -c 1 -r 1 -n 10'},\n",
    "                {'n_nodes': 800, 'density': '50pct', 'prefix':'all_one', 'flags':'-m 1 -s 1 -p 1 -f 1 -c 1 -r 1 -n 10'},\n",
    "                {'n_nodes': 1600, 'density': '50pct', 'prefix':'all_one', 'flags':'-m 1 -s 1 -p 1 -f 1 -c 1 -r 1 -n 10'},\n",
    "                {'n_nodes': 3200, 'density': '50pct', 'prefix':'all_one', 'flags':'-m 1 -s 1 -p 1 -f 1 -c 1 -r 1 -n 10'},\n",
    "                {'n_nodes': 6400, 'density': '50pct', 'prefix':'all_one', 'flags':'-m 1 -s 1 -p 1 -f 1 -c 1 -r 1 -n 10'},\n",
    "                {'n_nodes': 200, 'density': '50pct', 'prefix':'all_zero', 'flags':'-m 0 -s 0 -p 0 -f 0 -c 0 -r 0 -n 10'},\n",
    "                {'n_nodes': 400, 'density': '50pct', 'prefix':'all_zero', 'flags':'-m 0 -s 0 -p 0 -f 0 -c 0 -r 0 -n 10'},\n",
    "                {'n_nodes': 800, 'density': '50pct', 'prefix':'all_zero', 'flags':'-m 0 -s 0 -p 0 -f 0 -c 0 -r 0 -n 10'},\n",
    "                {'n_nodes': 1600, 'density': '50pct', 'prefix':'all_zero', 'flags':'-m 0 -s 0 -p 0 -f 0 -c 0 -r 0 -n 10'}\n",
    "                ]\n",
    "\n",
    "n_nodes_list_d10 = [100, 200, 400, 800, 1600, 3200, 6400, 12800, 25600]\n",
    "n_nodes_list_d50 = [50, 100, 200, 400, 800, 1600, 3200, 6400, 12800]\n",
    "n_nodes_list_d90 = [25, 50, 100, 200, 400, 800, 1600, 3200, 6400]\n",
    "\n",
    "filter_kruskal_runs_d50 = []\n",
    "for n_nodes in n_nodes_list_d50[:-1]:\n",
    "    filter_kruskal_runs_d50.append({'n_nodes': n_nodes, 'density': '50pct', 'prefix':'filter_kruskal', 'flags':'-n 10'})\n",
    "# only 3 repetitions on the biggest graph\n",
    "filter_kruskal_runs_d50.append({'n_nodes': n_nodes_list_d50[-1], 'density': '50pct', 'prefix':'filter_kruskal', 'flags':'-n 3'})\n",
    "\n",
    "regular_kruskal_runs_d50 = []\n",
    "for n_nodes in n_nodes_list_d50[:-1]:\n",
    "    regular_kruskal_runs_d50.append({'n_nodes': n_nodes, 'density': '50pct', 'prefix':'regular_kruskal', 'flags':'-m 0 -n 10'})\n",
    "# only 3 repetitions on the biggest graph\n",
    "regular_kruskal_runs_d50.append({'n_nodes': n_nodes_list_d50[-1], 'density': '50pct', 'prefix':'regular_kruskal', 'flags':'-m 0 -n 3'})\n",
    "\n"
   ]
  },
  {
   "cell_type": "code",
   "execution_count": 5,
   "metadata": {},
   "outputs": [],
   "source": [
    "# collect data for stacked bars\n",
    "def collect_for_stack(list_of_runs, stack_items=['Initialize', 'filter()', 'grow MST', 'sort()', 'partition()']):\n",
    "    labels = []\n",
    "    results = {}\n",
    "    for si in stack_items:\n",
    "        results[si] = []\n",
    "\n",
    "    for single_run in list_of_runs:\n",
    "        labels.append(single_run['n_nodes'])\n",
    "        file_name = out_file_name(single_run)\n",
    "        df = pd.read_csv(common.OUT_DIR / file_name, sep=';')\n",
    "        df.set_index('tag',inplace=True)\n",
    "        for si in stack_items:\n",
    "            results[si].append(df.loc[si]['total'])\n",
    "    return labels, results\n",
    "\n",
    "# collect run times for plotting\n",
    "def collect_run_times(list_of_runs):\n",
    "    results = {}\n",
    "    row_labels = []\n",
    "\n",
    "    for single_run in list_of_runs:\n",
    "        file_name = out_file_name(single_run)\n",
    "        df = pd.read_csv(common.OUT_DIR / file_name, sep=';')\n",
    "        df.set_index('tag',inplace=True)\n",
    "        run_time = df.loc['total']['median']\n",
    "        row_label = single_run['prefix'] + \"_\" + single_run['density']\n",
    "        if not(row_label in row_labels):\n",
    "            row_labels.append(row_label)\n",
    "            results[row_label+\"_x\"] = []\n",
    "            results[row_label+\"_y\"] = []\n",
    "        results[row_label+\"_x\"].append(single_run['n_nodes'])\n",
    "        results[row_label+\"_y\"].append(run_time)\n",
    "    return row_labels, results\n"
   ]
  },
  {
   "cell_type": "code",
   "execution_count": 6,
   "metadata": {},
   "outputs": [],
   "source": [
    "def plot_stacked_lines(labels, results):\n",
    "    for key in results:\n",
    "        plt.bar(labels, results[key])\n",
    "    plt.legend()\n",
    "    plt.grid()\n",
    "    plt.xlabel('number of nodes')\n",
    "    plt.ylabel('execution time in s')\n",
    "\n",
    "\n",
    "\n",
    "def plot_lines(row_labels, results):\n",
    "    for row_label in row_labels:\n",
    "        plt.loglog(results[row_label+'_x'], results[row_label+'_y'], label=row_label, marker='o')\n",
    "    plt.legend()\n",
    "    plt.grid()\n",
    "    plt.xlabel('number of nodes')\n",
    "    plt.ylabel('execution time in s')"
   ]
  },
  {
   "cell_type": "code",
   "execution_count": 40,
   "metadata": {},
   "outputs": [
    {
     "name": "stdout",
     "output_type": "stream",
     "text": [
      "Running benchmark with ./home/student1/workspace/simon/GPU_ArchComp/Ex2/build/src/ex2 --ouputfile_timings /home/student1/workspace/simon/GPU_ArchComp/Ex2/out/filter_kruskal_50_50pct.csv --inputfile benchmark_data/barabasi_50_50pct.csv -n 10\n",
      "Running benchmark with ./home/student1/workspace/simon/GPU_ArchComp/Ex2/build/src/ex2 --ouputfile_timings /home/student1/workspace/simon/GPU_ArchComp/Ex2/out/filter_kruskal_100_50pct.csv --inputfile benchmark_data/barabasi_100_50pct.csv -n 10\n",
      "Running benchmark with ./home/student1/workspace/simon/GPU_ArchComp/Ex2/build/src/ex2 --ouputfile_timings /home/student1/workspace/simon/GPU_ArchComp/Ex2/out/filter_kruskal_200_50pct.csv --inputfile benchmark_data/barabasi_200_50pct.csv -n 10\n",
      "Running benchmark with ./home/student1/workspace/simon/GPU_ArchComp/Ex2/build/src/ex2 --ouputfile_timings /home/student1/workspace/simon/GPU_ArchComp/Ex2/out/filter_kruskal_400_50pct.csv --inputfile benchmark_data/barabasi_400_50pct.csv -n 10\n",
      "Running benchmark with ./home/student1/workspace/simon/GPU_ArchComp/Ex2/build/src/ex2 --ouputfile_timings /home/student1/workspace/simon/GPU_ArchComp/Ex2/out/filter_kruskal_800_50pct.csv --inputfile benchmark_data/barabasi_800_50pct.csv -n 10\n",
      "Running benchmark with ./home/student1/workspace/simon/GPU_ArchComp/Ex2/build/src/ex2 --ouputfile_timings /home/student1/workspace/simon/GPU_ArchComp/Ex2/out/filter_kruskal_1600_50pct.csv --inputfile benchmark_data/barabasi_1600_50pct.csv -n 10\n",
      "Running benchmark with ./home/student1/workspace/simon/GPU_ArchComp/Ex2/build/src/ex2 --ouputfile_timings /home/student1/workspace/simon/GPU_ArchComp/Ex2/out/filter_kruskal_3200_50pct.csv --inputfile benchmark_data/barabasi_3200_50pct.csv -n 10\n",
      "Running benchmark with ./home/student1/workspace/simon/GPU_ArchComp/Ex2/build/src/ex2 --ouputfile_timings /home/student1/workspace/simon/GPU_ArchComp/Ex2/out/filter_kruskal_6400_50pct.csv --inputfile benchmark_data/barabasi_6400_50pct.csv -n 10\n",
      "Running benchmark with ./home/student1/workspace/simon/GPU_ArchComp/Ex2/build/src/ex2 --ouputfile_timings /home/student1/workspace/simon/GPU_ArchComp/Ex2/out/filter_kruskal_12800_50pct.csv --inputfile benchmark_data/barabasi_12800_50pct.csv -n 3\n"
     ]
    }
   ],
   "source": [
    "do_benchmark_runs(filter_kruskal_runs_d50)"
   ]
  },
  {
   "cell_type": "code",
   "execution_count": 42,
   "metadata": {},
   "outputs": [
    {
     "name": "stdout",
     "output_type": "stream",
     "text": [
      "Running benchmark with ./home/student1/workspace/simon/GPU_ArchComp/Ex2/build/src/ex2 --ouputfile_timings /home/student1/workspace/simon/GPU_ArchComp/Ex2/out/regular_kruskal_50_50pct.csv --inputfile benchmark_data/barabasi_50_50pct.csv -m 0 -n 10\n",
      "Running benchmark with ./home/student1/workspace/simon/GPU_ArchComp/Ex2/build/src/ex2 --ouputfile_timings /home/student1/workspace/simon/GPU_ArchComp/Ex2/out/regular_kruskal_100_50pct.csv --inputfile benchmark_data/barabasi_100_50pct.csv -m 0 -n 10\n",
      "Running benchmark with ./home/student1/workspace/simon/GPU_ArchComp/Ex2/build/src/ex2 --ouputfile_timings /home/student1/workspace/simon/GPU_ArchComp/Ex2/out/regular_kruskal_200_50pct.csv --inputfile benchmark_data/barabasi_200_50pct.csv -m 0 -n 10\n",
      "Running benchmark with ./home/student1/workspace/simon/GPU_ArchComp/Ex2/build/src/ex2 --ouputfile_timings /home/student1/workspace/simon/GPU_ArchComp/Ex2/out/regular_kruskal_400_50pct.csv --inputfile benchmark_data/barabasi_400_50pct.csv -m 0 -n 10\n",
      "Running benchmark with ./home/student1/workspace/simon/GPU_ArchComp/Ex2/build/src/ex2 --ouputfile_timings /home/student1/workspace/simon/GPU_ArchComp/Ex2/out/regular_kruskal_800_50pct.csv --inputfile benchmark_data/barabasi_800_50pct.csv -m 0 -n 10\n",
      "Running benchmark with ./home/student1/workspace/simon/GPU_ArchComp/Ex2/build/src/ex2 --ouputfile_timings /home/student1/workspace/simon/GPU_ArchComp/Ex2/out/regular_kruskal_1600_50pct.csv --inputfile benchmark_data/barabasi_1600_50pct.csv -m 0 -n 10\n",
      "Running benchmark with ./home/student1/workspace/simon/GPU_ArchComp/Ex2/build/src/ex2 --ouputfile_timings /home/student1/workspace/simon/GPU_ArchComp/Ex2/out/regular_kruskal_3200_50pct.csv --inputfile benchmark_data/barabasi_3200_50pct.csv -m 0 -n 10\n",
      "Running benchmark with ./home/student1/workspace/simon/GPU_ArchComp/Ex2/build/src/ex2 --ouputfile_timings /home/student1/workspace/simon/GPU_ArchComp/Ex2/out/regular_kruskal_6400_50pct.csv --inputfile benchmark_data/barabasi_6400_50pct.csv -m 0 -n 10\n",
      "Running benchmark with ./home/student1/workspace/simon/GPU_ArchComp/Ex2/build/src/ex2 --ouputfile_timings /home/student1/workspace/simon/GPU_ArchComp/Ex2/out/regular_kruskal_12800_50pct.csv --inputfile benchmark_data/barabasi_12800_50pct.csv -m 0 -n 3\n"
     ]
    }
   ],
   "source": [
    "do_benchmark_runs(regular_kruskal_runs_d50)"
   ]
  },
  {
   "cell_type": "code",
   "execution_count": 7,
   "metadata": {},
   "outputs": [
    {
     "data": {
      "image/png": "[encoded data removed]",
      "text/plain": [
       "<Figure size 432x288 with 1 Axes>"
      ]
     },
     "metadata": {
      "needs_background": "light"
     },
     "output_type": "display_data"
    }
   ],
   "source": [
    "labels, results = collect_run_times(regular_kruskal_runs_d50 + filter_kruskal_runs_d50)\n",
    "plot_lines(labels, results)"
   ]
  },
  {
   "cell_type": "code",
   "execution_count": 11,
   "metadata": {},
   "outputs": [
    {
     "name": "stdout",
     "output_type": "stream",
     "text": [
      "[50, 100, 200, 400, 800, 1600, 3200, 6400, 12800]\n"
     ]
    },
    {
     "data": {
      "text/plain": [
       "{'Initialize': [0.203487,\n",
       "  0.176199,\n",
       "  0.159147,\n",
       "  0.16438,\n",
       "  0.174999,\n",
       "  0.228297,\n",
       "  0.493083,\n",
       "  1.57406,\n",
       "  1.81156],\n",
       " 'filter()': [0.000633956,\n",
       "  0.00191302,\n",
       "  0.00593438,\n",
       "  0.0194555,\n",
       "  0.0745448,\n",
       "  0.311842,\n",
       "  1.14562,\n",
       "  4.67318,\n",
       "  5.59636],\n",
       " 'grow MST': [0.00011854,\n",
       "  0.000235208,\n",
       "  0.000499641,\n",
       "  0.00118221,\n",
       "  0.00322678,\n",
       "  0.00783342,\n",
       "  0.0275189,\n",
       "  0.0778322,\n",
       "  0.10756],\n",
       " 'sort()': [0.00338958,\n",
       "  0.00527879,\n",
       "  0.00649566,\n",
       "  0.00908933,\n",
       "  0.0242805,\n",
       "  0.0795909,\n",
       "  0.450241,\n",
       "  1.08136,\n",
       "  1.8839],\n",
       " 'partition()': [0.00995878,\n",
       "  0.0149713,\n",
       "  0.014379,\n",
       "  0.0193818,\n",
       "  0.0781556,\n",
       "  0.24422,\n",
       "  0.675617,\n",
       "  2.11057,\n",
       "  3.45718]}"
      ]
     },
     "execution_count": 11,
     "metadata": {},
     "output_type": "execute_result"
    }
   ],
   "source": [
    "labels, stack = collect_for_stack(filter_kruskal_runs_d50)\n",
    "print(labels)\n",
    "stack"
   ]
  },
  {
   "cell_type": "code",
   "execution_count": 9,
   "metadata": {},
   "outputs": [],
   "source": [
    "def stack_percent(stack, top_at_100=True):\n",
    "    top = 1\n",
    "    if top_at_100:\n",
    "        top = 100\n",
    "\n",
    "    stack_pct = {}\n",
    "    totals = []\n",
    "    keys = list(stack.keys())\n",
    "    resolutions = len(stack[keys[0]])\n",
    "\n",
    "    for i in range(resolutions):\n",
    "        total = 0\n",
    "        for key in stack:\n",
    "            total += stack[key][i]\n",
    "        totals.append(total)\n",
    "    \n",
    "    for key in keys:\n",
    "        stack_pct[key] = [stack[key][i] / totals[i] * top for i in range(resolutions)]\n",
    "        \n",
    "    return stack_pct, totals\n"
   ]
  },
  {
   "cell_type": "code",
   "execution_count": 10,
   "metadata": {},
   "outputs": [
    {
     "data": {
      "text/plain": [
       "dict_keys(['Initialize', 'filter()', 'grow MST', 'sort()', 'partition()'])"
      ]
     },
     "execution_count": 10,
     "metadata": {},
     "output_type": "execute_result"
    },
    {
     "data": {
      "image/png": "[encoded data removed]",
      "text/plain": [
       "<Figure size 432x288 with 1 Axes>"
      ]
     },
     "metadata": {
      "needs_background": "light"
     },
     "output_type": "display_data"
    }
   ],
   "source": [
    "plt.stackplot(labels,stack['Initialize'],stack['filter()'], stack['grow MST'], stack['sort()'], stack['partition()'], labels=stack.keys())\n",
    "plt.legend(loc='upper left')\n",
    "plt.xlabel('number of nodes')\n",
    "plt.ylabel('portion of run time in s')\n",
    "stack.keys()"
   ]
  },
  {
   "cell_type": "code",
   "execution_count": 12,
   "metadata": {},
   "outputs": [
    {
     "data": {
      "text/plain": [
       "Text(0, 0.5, 'run time')"
      ]
     },
     "execution_count": 12,
     "metadata": {},
     "output_type": "execute_result"
    },
    {
     "data": {
      "image/png": "[encoded data removed]",
      "text/plain": [
       "<Figure size 432x288 with 1 Axes>"
      ]
     },
     "metadata": {
      "needs_background": "light"
     },
     "output_type": "display_data"
    }
   ],
   "source": [
    "str_labels = []\n",
    "for label in labels:\n",
    "    str_labels.append(str(label))\n",
    "key_list = list(stack.keys())\n",
    "stack_pct, totals = stack_percent(stack, top_at_100=False)\n",
    "#print(totals)\n",
    "bottom = np.zeros(len(labels))\n",
    "for i in range(len(key_list)):\n",
    "    #plt.bar(str_labels, stack_pct[key_list[i]], bottom=stack_pct[key_list[i-1]], label=key_list[i])\n",
    "    plt.bar(str_labels, stack_pct[key_list[i]], bottom=bottom, label=key_list[i])\n",
    "    bottom += np.array(stack_pct[key_list[i]])\n",
    "\n",
    "plt.legend()\n",
    "plt.xlabel('number of nodes')\n",
    "plt.ylabel('run time')\n"
   ]
  }
 ],
 "metadata": {
  "interpreter": {
   "hash": "916dbcbb3f70747c44a77c7bcd40155683ae19c65e1c03b4aa3499c5328201f1"
  },
  "kernelspec": {
   "display_name": "Python 3.10.4 64-bit",
   "language": "python",
   "name": "python3"
  },
  "language_info": {
   "codemirror_mode": {
    "name": "ipython",
    "version": 3
   },
   "file_extension": ".py",
   "mimetype": "text/x-python",
   "name": "python",
   "nbconvert_exporter": "python",
   "pygments_lexer": "ipython3",
   "version": "3.8.10"
  },
  "orig_nbformat": 4
 },
 "nbformat": 4,
 "nbformat_minor": 2
}
