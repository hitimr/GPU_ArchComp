{
 "cells": [
  {
   "cell_type": "code",
   "execution_count": null,
   "metadata": {},
   "outputs": [],
   "source": [
    "import numpy as np\n",
    "import pandas as pd\n",
    "import igraph as ig"
   ]
  },
  {
   "cell_type": "code",
   "execution_count": null,
   "metadata": {},
   "outputs": [],
   "source": [
    "lass UnionFind:\n",
    "    def __init__(self, n):\n",
    "        self.parent = np.linspace(0, n-1, n, dtype=int)\n",
    "\n",
    "    def find(self, i):\n",
    "        if self.parent[i] == i: return i\n",
    "        else: return self.find(self.parent[i])\n",
    "\n",
    "    def link(self, i, j):\n",
    "        assert self.find(i) != self.find(j) \n",
    "        self.parent[i] = j\n",
    "\n",
    "    def union(self, i, j):\n",
    "        if self.find(i) != self.find(j):\n",
    "            self.link(self.find(i), self.find(j))\n",
    "\n",
    "\n",
    "def kruskal(E, T, P):\n",
    "    sorted = E.sort_values(by=\"weight\", ascending=True)\n",
    "    for index, edge in sorted.iterrows():\n",
    "        if P.find(edge[\"u\"]) != P.find(edge[\"v\"]):\n",
    "            T = T.append(edge, ignore_index=True)\n",
    "            P.union(edge[\"u\"], edge[\"v\"])\n",
    "    return E, T.sort_values(by=[\"u\"]), P\n",
    "\n",
    "kruskal_threshold = 10\n",
    "def filter_kruskal(E, T, P):\n",
    "    if len(E) < 20:\n",
    "        E,T,P = kruskal(E, T, P)\n",
    "    else:\n",
    "        p = E.sample(1)[\"weight\"].values[0] # Pick random weight as pivot element\n",
    "        E_leq = E.loc[E[\"weight\"] <= p]\n",
    "        E_big = E.loc[E[\"weight\"] > p]\n",
    "        filter_kruskal(E_leq, T, P)\n",
    "        E_big = filter(E_big, P)\n",
    "        filter_kruskal(E_big, T, P)\n",
    "\n",
    "    return E,T,P\n",
    "\n",
    "def filter(E, P):\n",
    "    T = pd.DataFrame()\n",
    "    for index, edge in E.iterrows():\n",
    "        if P.find(edge[\"u\"]) != P.find(edge[\"v\"]):\n",
    "            T = T.append(edge, ignore_index=True)   \n",
    "    return T "
   ]
  },
  {
   "cell_type": "code",
   "execution_count": null,
   "metadata": {},
   "outputs": [],
   "source": [
    "graph = pd.read_csv(\"../input_data/example.txt\", sep=\";\", header=None)[1:].drop(columns=0)\n",
    "graph = graph.rename(columns={1: \"u\", 2: \"v\", 3: \"weight\"})\n",
    "\n",
    "mst = pd.DataFrame()\n",
    "uf = UnionFind(len(graph))\n",
    "E,T,P = filter_kruskal(graph, mst, uf)\n",
    "T"
   ]
  },
  {
   "cell_type": "code",
   "execution_count": null,
   "metadata": {},
   "outputs": [],
   "source": [
    "T[\"weight\"].sum()"
   ]
  },
  {
   "cell_type": "code",
   "execution_count": null,
   "metadata": {},
   "outputs": [],
   "source": []
  }
 ],
 "metadata": {
  "interpreter": {
   "hash": "11938c6bc6919ae2720b4d5011047913343b08a43b18698fd82dedb0d4417594"
  },
  "kernelspec": {
   "display_name": "Python 3.9.4 64-bit",
   "language": "python",
   "name": "python3"
  },
  "language_info": {
   "codemirror_mode": {
    "name": "ipython",
    "version": 3
   },
   "file_extension": ".py",
   "mimetype": "text/x-python",
   "name": "python",
   "nbconvert_exporter": "python",
   "pygments_lexer": "ipython3",
   "version": "3.9.4"
  },
  "orig_nbformat": 4
 },
 "nbformat": 4,
 "nbformat_minor": 2
}
