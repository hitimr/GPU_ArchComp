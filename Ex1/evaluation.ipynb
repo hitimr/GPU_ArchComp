{
 "cells": [
  {
   "cell_type": "code",
   "execution_count": null,
   "id": "d877f5c1",
   "metadata": {},
   "outputs": [],
   "source": [
    "import pandas as pd\n",
    "import numpy as np\n",
    "import seaborn as sns\n",
    "import matplotlib.pyplot as plt"
   ]
  },
  {
   "cell_type": "code",
   "execution_count": null,
   "id": "300f5841",
   "metadata": {},
   "outputs": [],
   "source": [
    "data = pd.read_csv('output/random256_3840x2160.csv')\n",
    "data"
   ]
  },
  {
   "cell_type": "code",
   "execution_count": null,
   "id": "9c48d18a",
   "metadata": {},
   "outputs": [],
   "source": [
    "splot = sns.catplot(x = \"input\", y = \"runtime\", hue = \"kernel\", data = data, kind = \"bar\", height=6, aspect=2)\n",
    "splot.set(yscale=\"log\");\n",
    "plt.xticks(rotation=45);\n",
    "plt.ylabel(\"Kernel execution time [s]\")\n",
    "plt.xlabel(\"Input Type\")"
   ]
  },
  {
   "cell_type": "code",
   "execution_count": null,
   "id": "2df93a70",
   "metadata": {},
   "outputs": [],
   "source": []
  }
 ],
 "metadata": {
  "kernelspec": {
   "display_name": "Python 3 (ipykernel)",
   "language": "python",
   "name": "python3"
  },
  "language_info": {
   "codemirror_mode": {
    "name": "ipython",
    "version": 3
   },
   "file_extension": ".py",
   "mimetype": "text/x-python",
   "name": "python",
   "nbconvert_exporter": "python",
   "pygments_lexer": "ipython3",
   "version": "3.8.10"
  }
 },
 "nbformat": 4,
 "nbformat_minor": 5
}
