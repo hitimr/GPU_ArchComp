{
 "cells": [
  {
   "cell_type": "code",
   "execution_count": 1,
   "metadata": {},
   "outputs": [],
   "source": [
    "import numpy as np\n",
    "import igraph as ig\n",
    "import pandas as pd\n",
    "import matplotlib.pyplot as plt\n",
    "from tqdm import tqdm\n",
    "\n",
    "from time import time\n",
    "\n",
    "from common import *\n",
    "from generate import *\n",
    "from filter_kruskal import *"
   ]
  },
  {
   "cell_type": "code",
   "execution_count": 2,
   "metadata": {},
   "outputs": [
    {
     "name": "stdout",
     "output_type": "stream",
     "text": [
      "Allowed options:\n",
      "  -h [ --help ]                      produce help message\n",
      "  -m [ --mst-kernel ] arg (=1)       Kernel used calculating MST. 0 = regular \n",
      "                                     kruskal, 1 = filter-kruskal\n",
      "  -s [ --sort-kernel ] arg (=0)      Kernel used for sort() [int]\n",
      "  -p [ --partition-kernel ] arg (=0) Kernel used for partition() [int]\n",
      "  -f [ --filter-kernel ] arg (=0)    Kernel used for filter() [int]\n",
      "  -i [ --inputfile ] arg             input file containing graph data. Filepath\n",
      "                                     must be relative to Ex2/\n",
      "  -t [ --ouputfile_timings ] arg     Output file for timings. Filepath must be \n",
      "                                     relative to Ex2/\n",
      "\n"
     ]
    }
   ],
   "source": [
    "common.run(args=\"--help\")"
   ]
  },
  {
   "cell_type": "code",
   "execution_count": 11,
   "metadata": {},
   "outputs": [
    {
     "name": "stdout",
     "output_type": "stream",
     "text": [
      "Running benchmark with ./home/hiti/workspace/GPU_ArchComp/Ex2/build/src/ex2 --ouputfile_timings /home/hiti/workspace/GPU_ArchComp/Ex2/out/timing_results.csv --inputfile input_data/barabasi_50000_10.csv --mst-kernel 0\n",
      "Loading /home/hiti/workspace/GPU_ArchComp/Ex2/input_data/barabasi_50000_10.csv\n",
      "\n",
      "Benchmark results:\n",
      "Initialize\tµ=0.000233907s\tsigma=0s\ttotal=0.000233907\tnum_calls=1\n",
      "Kruskal()\tµ=13.0206s\tsigma=0s\ttotal=13.0206\tnum_calls=1\n",
      "grow MST\tµ=9.66572s\tsigma=0s\ttotal=9.66572\tnum_calls=1\n",
      "sort_edgelist()\tµ=3.35491s\tsigma=0s\ttotal=3.35491\tnum_calls=1\n",
      "total\tµ=13.0209s\tsigma=0s\ttotal=13.0209\tnum_calls=1\n"
     ]
    },
    {
     "data": {
      "text/html": [
       "<div>\n",
       "<style scoped>\n",
       "    .dataframe tbody tr th:only-of-type {\n",
       "        vertical-align: middle;\n",
       "    }\n",
       "\n",
       "    .dataframe tbody tr th {\n",
       "        vertical-align: top;\n",
       "    }\n",
       "\n",
       "    .dataframe thead th {\n",
       "        text-align: right;\n",
       "    }\n",
       "</style>\n",
       "<table border=\"1\" class=\"dataframe\">\n",
       "  <thead>\n",
       "    <tr style=\"text-align: right;\">\n",
       "      <th></th>\n",
       "      <th>tag</th>\n",
       "      <th>average</th>\n",
       "      <th>std_dev</th>\n",
       "      <th>total</th>\n",
       "      <th>num_calls</th>\n",
       "    </tr>\n",
       "  </thead>\n",
       "  <tbody>\n",
       "    <tr>\n",
       "      <th>0</th>\n",
       "      <td>Initialize</td>\n",
       "      <td>0.000234</td>\n",
       "      <td>0</td>\n",
       "      <td>0.000234</td>\n",
       "      <td>1</td>\n",
       "    </tr>\n",
       "    <tr>\n",
       "      <th>1</th>\n",
       "      <td>Kruskal()</td>\n",
       "      <td>13.020600</td>\n",
       "      <td>0</td>\n",
       "      <td>13.020600</td>\n",
       "      <td>1</td>\n",
       "    </tr>\n",
       "    <tr>\n",
       "      <th>2</th>\n",
       "      <td>grow MST</td>\n",
       "      <td>9.665720</td>\n",
       "      <td>0</td>\n",
       "      <td>9.665720</td>\n",
       "      <td>1</td>\n",
       "    </tr>\n",
       "    <tr>\n",
       "      <th>3</th>\n",
       "      <td>sort_edgelist()</td>\n",
       "      <td>3.354910</td>\n",
       "      <td>0</td>\n",
       "      <td>3.354910</td>\n",
       "      <td>1</td>\n",
       "    </tr>\n",
       "    <tr>\n",
       "      <th>4</th>\n",
       "      <td>total</td>\n",
       "      <td>13.020900</td>\n",
       "      <td>0</td>\n",
       "      <td>13.020900</td>\n",
       "      <td>1</td>\n",
       "    </tr>\n",
       "  </tbody>\n",
       "</table>\n",
       "</div>"
      ],
      "text/plain": [
       "               tag    average  std_dev      total  num_calls\n",
       "0       Initialize   0.000234        0   0.000234          1\n",
       "1        Kruskal()  13.020600        0  13.020600          1\n",
       "2         grow MST   9.665720        0   9.665720          1\n",
       "3  sort_edgelist()   3.354910        0   3.354910          1\n",
       "4            total  13.020900        0  13.020900          1"
      ]
     },
     "execution_count": 11,
     "metadata": {},
     "output_type": "execute_result"
    }
   ],
   "source": [
    "args = f\"--inputfile input_data/barabasi_50000_10.csv --mst-kernel 0\"\n",
    "df = common.run_benchmark(common.OUT_DIR / \"timing_results.csv\", args=args, print_output=True)\n",
    "df"
   ]
  },
  {
   "cell_type": "code",
   "execution_count": 12,
   "metadata": {},
   "outputs": [
    {
     "name": "stdout",
     "output_type": "stream",
     "text": [
      "Running benchmark with ./home/hiti/workspace/GPU_ArchComp/Ex2/build/src/ex2 --ouputfile_timings /home/hiti/workspace/GPU_ArchComp/Ex2/out/timing_results.csv -i input_data/barabasi_50000_10.csv -m 1\n"
     ]
    },
    {
     "data": {
      "text/html": [
       "<div>\n",
       "<style scoped>\n",
       "    .dataframe tbody tr th:only-of-type {\n",
       "        vertical-align: middle;\n",
       "    }\n",
       "\n",
       "    .dataframe tbody tr th {\n",
       "        vertical-align: top;\n",
       "    }\n",
       "\n",
       "    .dataframe thead th {\n",
       "        text-align: right;\n",
       "    }\n",
       "</style>\n",
       "<table border=\"1\" class=\"dataframe\">\n",
       "  <thead>\n",
       "    <tr style=\"text-align: right;\">\n",
       "      <th></th>\n",
       "      <th>tag</th>\n",
       "      <th>average</th>\n",
       "      <th>std_dev</th>\n",
       "      <th>total</th>\n",
       "      <th>num_calls</th>\n",
       "    </tr>\n",
       "  </thead>\n",
       "  <tbody>\n",
       "    <tr>\n",
       "      <th>0</th>\n",
       "      <td>Initialize</td>\n",
       "      <td>0.000151</td>\n",
       "      <td>0.000000</td>\n",
       "      <td>0.000151</td>\n",
       "      <td>1</td>\n",
       "    </tr>\n",
       "    <tr>\n",
       "      <th>1</th>\n",
       "      <td>Kruskal()</td>\n",
       "      <td>0.108110</td>\n",
       "      <td>0.018981</td>\n",
       "      <td>2.594650</td>\n",
       "      <td>24</td>\n",
       "    </tr>\n",
       "    <tr>\n",
       "      <th>2</th>\n",
       "      <td>filter()</td>\n",
       "      <td>0.287755</td>\n",
       "      <td>0.107040</td>\n",
       "      <td>7.481640</td>\n",
       "      <td>26</td>\n",
       "    </tr>\n",
       "    <tr>\n",
       "      <th>3</th>\n",
       "      <td>grow MST</td>\n",
       "      <td>0.082280</td>\n",
       "      <td>0.018694</td>\n",
       "      <td>1.974720</td>\n",
       "      <td>24</td>\n",
       "    </tr>\n",
       "    <tr>\n",
       "      <th>4</th>\n",
       "      <td>partition()</td>\n",
       "      <td>0.000150</td>\n",
       "      <td>0.000042</td>\n",
       "      <td>0.003898</td>\n",
       "      <td>26</td>\n",
       "    </tr>\n",
       "    <tr>\n",
       "      <th>5</th>\n",
       "      <td>sort_edgelist()</td>\n",
       "      <td>0.025828</td>\n",
       "      <td>0.003121</td>\n",
       "      <td>0.619862</td>\n",
       "      <td>24</td>\n",
       "    </tr>\n",
       "    <tr>\n",
       "      <th>6</th>\n",
       "      <td>total</td>\n",
       "      <td>10.081000</td>\n",
       "      <td>0.000000</td>\n",
       "      <td>10.081000</td>\n",
       "      <td>1</td>\n",
       "    </tr>\n",
       "  </tbody>\n",
       "</table>\n",
       "</div>"
      ],
      "text/plain": [
       "               tag    average   std_dev      total  num_calls\n",
       "0       Initialize   0.000151  0.000000   0.000151          1\n",
       "1        Kruskal()   0.108110  0.018981   2.594650         24\n",
       "2         filter()   0.287755  0.107040   7.481640         26\n",
       "3         grow MST   0.082280  0.018694   1.974720         24\n",
       "4      partition()   0.000150  0.000042   0.003898         26\n",
       "5  sort_edgelist()   0.025828  0.003121   0.619862         24\n",
       "6            total  10.081000  0.000000  10.081000          1"
      ]
     },
     "execution_count": 12,
     "metadata": {},
     "output_type": "execute_result"
    }
   ],
   "source": [
    "args = f\"-i input_data/barabasi_50000_10.csv -m 1\"\n",
    "df = common.run_benchmark(common.OUT_DIR / \"timing_results.csv\",args=args, print_output=False)\n",
    "df"
   ]
  },
  {
   "cell_type": "code",
   "execution_count": null,
   "metadata": {},
   "outputs": [],
   "source": []
  }
 ],
 "metadata": {
  "interpreter": {
   "hash": "916dbcbb3f70747c44a77c7bcd40155683ae19c65e1c03b4aa3499c5328201f1"
  },
  "kernelspec": {
   "display_name": "Python 3.10.4 64-bit",
   "language": "python",
   "name": "python3"
  },
  "language_info": {
   "codemirror_mode": {
    "name": "ipython",
    "version": 3
   },
   "file_extension": ".py",
   "mimetype": "text/x-python",
   "name": "python",
   "nbconvert_exporter": "python",
   "pygments_lexer": "ipython3",
   "version": "3.10.4"
  },
  "orig_nbformat": 4
 },
 "nbformat": 4,
 "nbformat_minor": 2
}
