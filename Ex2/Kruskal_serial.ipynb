{
 "cells": [
  {
   "cell_type": "code",
   "execution_count": 6,
   "metadata": {},
   "outputs": [],
   "source": [
    "import numpy as np"
   ]
  },
  {
   "cell_type": "code",
   "execution_count": 37,
   "metadata": {},
   "outputs": [],
   "source": [
    "# create Test data\n",
    "# graph1 from tuwel description at bottom of page\n",
    "\n",
    "graph1 = [[0, 1, 3], \n",
    "         [0, 3, 6], \n",
    "         [1, 2, 2], \n",
    "         [1, 3, 4], \n",
    "         [2, 3, 2]]\n",
    "\n",
    "\n",
    "# big tuwel graph\n",
    "graph2 = [[0, 1, 3],\n",
    "          [0, 3, 6],\n",
    "          [0, 5, 9],\n",
    "          [1, 2, 2],\n",
    "          [1, 3, 4],\n",
    "          [1, 4, 9],\n",
    "          [1, 5, 9],\n",
    "          [2, 3, 2],\n",
    "          [2, 4, 8],\n",
    "          [3, 6, 9],\n",
    "          [4, 6, 7],\n",
    "          [4, 8, 9],\n",
    "          [4, 9, 10],\n",
    "          [4, 5, 8],\n",
    "          [5, 9, 18],\n",
    "          [6, 7, 4],\n",
    "          [6, 8, 5],\n",
    "          [7, 8, 1],\n",
    "          [7, 9, 4],\n",
    "          [8, 9, 3]]\n"
   ]
  },
  {
   "cell_type": "code",
   "execution_count": 8,
   "metadata": {},
   "outputs": [],
   "source": [
    "# function to sort the graph containing the edges list\n",
    "\n",
    "# source: https://www.geeksforgeeks.org/python-sort-list-according-second-element-sublist/\n",
    "# Python code to sort the tuples using second element \n",
    "# of sublist Function to sort using sorted()\n",
    "def Sort(sub_li):\n",
    "  \n",
    "    # reverse = None (Sorts in Ascending order)\n",
    "    # key is set to sort using second element of \n",
    "    # sublist lambda has been used\n",
    "    return(sorted(sub_li, key = lambda x: x[2]))"
   ]
  },
  {
   "cell_type": "code",
   "execution_count": 18,
   "metadata": {},
   "outputs": [],
   "source": [
    "# function to check group of a node\n",
    "\n",
    "def get_group(node, group_list, verbose=False):\n",
    "    if verbose:\n",
    "        print('get group of node ', str(node))\n",
    "    return group_list[node]\n",
    "\n",
    "\n",
    "# function to add node b to group a and change all nodes in group of node b to group of node a\n",
    "\n",
    "def add_node_to_group(b, a, group_list):\n",
    "    group_a = get_group(a, group_list)\n",
    "    group_b = get_group(b, group_list)\n",
    "    if group_b == -1:\n",
    "        group_list[b] = group_a\n",
    "    else:\n",
    "        group_list[b] = group_a\n",
    "        group_list = [group_a if x == group_b else x for x in group_list]\n",
    "    \n",
    "    return group_list\n",
    "        "
   ]
  },
  {
   "cell_type": "code",
   "execution_count": 29,
   "metadata": {},
   "outputs": [],
   "source": [
    "# kruskal algorithm\n",
    "\n",
    "def kruskal(graph, numnodes):\n",
    "    # create memory to save group of every node\n",
    "    group_list = np.ones(numnodes) * (-1)\n",
    "\n",
    "    # sort the input graph\n",
    "    edge_list_sorted = Sort(graph)\n",
    "\n",
    "    number_edges_found = 0\n",
    "    group_counter = 0\n",
    "    mst = []\n",
    "    for edge in edge_list_sorted:\n",
    "        if number_edges_found >= numnodes-1:\n",
    "            break\n",
    "        a = edge[0]\n",
    "        b = edge[1]\n",
    "        group_a = get_group(a, group_list)\n",
    "        group_b = get_group(b, group_list)\n",
    "        if group_a == group_b and group_a != -1:\n",
    "            continue\n",
    "        if group_a == group_b and group_a == -1:\n",
    "            mst.append(edge)\n",
    "            group_list[a] = group_counter\n",
    "            group_list[b] = group_counter\n",
    "            group_counter = group_counter + 1\n",
    "            number_edges_found = number_edges_found + 1\n",
    "            continue\n",
    "        if group_a != -1:\n",
    "            mst.append(edge)\n",
    "            group_list = add_node_to_group(b, a, group_list)\n",
    "            number_edges_found = number_edges_found + 1\n",
    "            continue\n",
    "        if group_b != -1:\n",
    "            mst.append(edge)\n",
    "            group_list = add_node_to_group(a, b, group_list)\n",
    "            number_edges_found = number_edges_found + 1\n",
    "\n",
    "    length_mst = [sum(i) for i in zip(*mst)][2]\n",
    "    print(length_mst)\n",
    "    return mst, length_mst\n",
    "        \n",
    "\n",
    "\n",
    "        "
   ]
  },
  {
   "cell_type": "code",
   "execution_count": 38,
   "metadata": {},
   "outputs": [
    {
     "name": "stdout",
     "output_type": "stream",
     "text": [
      "38\n"
     ]
    }
   ],
   "source": [
    "result = kruskal(graph2, 10)\n",
    "mst = result[0]\n",
    "length_mst = result[1]"
   ]
  },
  {
   "cell_type": "code",
   "execution_count": 39,
   "metadata": {},
   "outputs": [
    {
     "data": {
      "text/plain": [
       "[[7, 8, 1],\n",
       " [1, 2, 2],\n",
       " [2, 3, 2],\n",
       " [0, 1, 3],\n",
       " [8, 9, 3],\n",
       " [6, 7, 4],\n",
       " [4, 6, 7],\n",
       " [2, 4, 8],\n",
       " [4, 5, 8]]"
      ]
     },
     "execution_count": 39,
     "metadata": {},
     "output_type": "execute_result"
    }
   ],
   "source": [
    "mst"
   ]
  },
  {
   "cell_type": "code",
   "execution_count": 40,
   "metadata": {},
   "outputs": [
    {
     "data": {
      "text/plain": [
       "38"
      ]
     },
     "execution_count": 40,
     "metadata": {},
     "output_type": "execute_result"
    }
   ],
   "source": [
    "length_mst"
   ]
  },
  {
   "cell_type": "code",
   "execution_count": null,
   "metadata": {},
   "outputs": [],
   "source": []
  }
 ],
 "metadata": {
  "interpreter": {
   "hash": "916dbcbb3f70747c44a77c7bcd40155683ae19c65e1c03b4aa3499c5328201f1"
  },
  "kernelspec": {
   "display_name": "Python 3.8.10 64-bit",
   "language": "python",
   "name": "python3"
  },
  "language_info": {
   "codemirror_mode": {
    "name": "ipython",
    "version": 3
   },
   "file_extension": ".py",
   "mimetype": "text/x-python",
   "name": "python",
   "nbconvert_exporter": "python",
   "pygments_lexer": "ipython3",
   "version": "3.8.10"
  },
  "orig_nbformat": 4
 },
 "nbformat": 4,
 "nbformat_minor": 2
}
