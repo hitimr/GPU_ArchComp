{
 "cells": [
  {
   "cell_type": "code",
   "execution_count": 1,
   "metadata": {},
   "outputs": [],
   "source": [
    "import numpy as np\n",
    "import igraph as ig\n",
    "import pandas as pd\n",
    "import matplotlib.pyplot as plt\n",
    "from tqdm import tqdm\n",
    "\n",
    "from time import time\n",
    "\n",
    "from common import *\n",
    "from generate import *\n",
    "from filter_kruskal import *"
   ]
  },
  {
   "cell_type": "code",
   "execution_count": 28,
   "metadata": {},
   "outputs": [
    {
     "name": "stdout",
     "output_type": "stream",
     "text": [
      "Running benchmark with ./home/hiti/workspace/GPU_ArchComp/Ex2/build/src/ex2 --ouputfile_timings /home/hiti/workspace/GPU_ArchComp/Ex2/out/timing_results.csv --inputfile input_data/barabasi_50000_10.csv -m 0\n",
      "Loading /home/hiti/workspace/GPU_ArchComp/Ex2/input_data/barabasi_50000_10.csv\n",
      "Initialize\tµ=0.000143624s\tsigma=0s\ttotal=0.000143624\tnum_calls=1\n",
      "Kruskal()\tµ=12.3123s\tsigma=0s\ttotal=12.3123\tnum_calls=1\n",
      "calculate_mst()\tµ=12.3124s\tsigma=0s\ttotal=12.3124\tnum_calls=1\n",
      "sort edgelist\tµ=2.78655s\tsigma=0s\ttotal=2.78655\tnum_calls=1\n"
     ]
    }
   ],
   "source": [
    "args = f\"--inputfile input_data/barabasi_50000_10.csv -m 0\"\n",
    "df = common.run_benchmark(common.OUT_DIR / \"timing_results.csv\",args=args)"
   ]
  },
  {
   "cell_type": "code",
   "execution_count": 29,
   "metadata": {},
   "outputs": [
    {
     "name": "stdout",
     "output_type": "stream",
     "text": [
      "Running benchmark with ./home/hiti/workspace/GPU_ArchComp/Ex2/build/src/ex2 --ouputfile_timings /home/hiti/workspace/GPU_ArchComp/Ex2/out/timing_results.csv --inputfile input_data/barabasi_50000_10.csv -m 1\n",
      "Loading /home/hiti/workspace/GPU_ArchComp/Ex2/input_data/barabasi_50000_10.csv\n"
     ]
    },
    {
     "ename": "CalledProcessError",
     "evalue": "Command '['/home/hiti/workspace/GPU_ArchComp/Ex2/build/src/ex2', '--ouputfile_timings', '/home/hiti/workspace/GPU_ArchComp/Ex2/out/timing_results.csv', '--inputfile', 'input_data/barabasi_50000_10.csv', '-m', '1']' died with <Signals.SIGSEGV: 11>.",
     "output_type": "error",
     "traceback": [
      "\u001b[0;31m---------------------------------------------------------------------------\u001b[0m",
      "\u001b[0;31mCalledProcessError\u001b[0m                        Traceback (most recent call last)",
      "\u001b[1;32m/home/hiti/workspace/GPU_ArchComp/Ex2/scripts/kruskal_benchmark.ipynb Cell 3'\u001b[0m in \u001b[0;36m<cell line: 2>\u001b[0;34m()\u001b[0m\n\u001b[1;32m      <a href='vscode-notebook-cell:/home/hiti/workspace/GPU_ArchComp/Ex2/scripts/kruskal_benchmark.ipynb#ch0000002?line=0'>1</a>\u001b[0m args \u001b[39m=\u001b[39m \u001b[39mf\u001b[39m\u001b[39m\"\u001b[39m\u001b[39m--inputfile input_data/barabasi_50000_10.csv -m 1\u001b[39m\u001b[39m\"\u001b[39m\n\u001b[0;32m----> <a href='vscode-notebook-cell:/home/hiti/workspace/GPU_ArchComp/Ex2/scripts/kruskal_benchmark.ipynb#ch0000002?line=1'>2</a>\u001b[0m df \u001b[39m=\u001b[39m common\u001b[39m.\u001b[39;49mrun_benchmark(common\u001b[39m.\u001b[39;49mOUT_DIR \u001b[39m/\u001b[39;49m \u001b[39m\"\u001b[39;49m\u001b[39mtiming_results.csv\u001b[39;49m\u001b[39m\"\u001b[39;49m,args\u001b[39m=\u001b[39;49margs)\n",
      "File \u001b[0;32m~/workspace/GPU_ArchComp/Ex2/scripts/common.py:28\u001b[0m, in \u001b[0;36mrun_benchmark\u001b[0;34m(outfile, args, print_output, verbose)\u001b[0m\n\u001b[1;32m     <a href='file:///home/hiti/workspace/GPU_ArchComp/Ex2/scripts/common.py?line=24'>25</a>\u001b[0m     \u001b[39mprint\u001b[39m(\u001b[39mf\u001b[39m\u001b[39m\"\u001b[39m\u001b[39mRunning benchmark with .\u001b[39m\u001b[39m{\u001b[39;00mcmd\u001b[39m}\u001b[39;00m\u001b[39m\"\u001b[39m)\n\u001b[1;32m     <a href='file:///home/hiti/workspace/GPU_ArchComp/Ex2/scripts/common.py?line=26'>27</a>\u001b[0m \u001b[39mif\u001b[39;00m(print_output):\n\u001b[0;32m---> <a href='file:///home/hiti/workspace/GPU_ArchComp/Ex2/scripts/common.py?line=27'>28</a>\u001b[0m     subprocess\u001b[39m.\u001b[39;49mrun(cmd\u001b[39m.\u001b[39;49msplit(sep\u001b[39m=\u001b[39;49m\u001b[39m\"\u001b[39;49m\u001b[39m \u001b[39;49m\u001b[39m\"\u001b[39;49m), check\u001b[39m=\u001b[39;49m\u001b[39mTrue\u001b[39;49;00m,\n\u001b[1;32m     <a href='file:///home/hiti/workspace/GPU_ArchComp/Ex2/scripts/common.py?line=28'>29</a>\u001b[0m                    stderr\u001b[39m=\u001b[39;49msubprocess\u001b[39m.\u001b[39;49mSTDOUT)\n\u001b[1;32m     <a href='file:///home/hiti/workspace/GPU_ArchComp/Ex2/scripts/common.py?line=29'>30</a>\u001b[0m \u001b[39melse\u001b[39;00m:\n\u001b[1;32m     <a href='file:///home/hiti/workspace/GPU_ArchComp/Ex2/scripts/common.py?line=30'>31</a>\u001b[0m     subprocess\u001b[39m.\u001b[39mrun(cmd\u001b[39m.\u001b[39msplit(sep\u001b[39m=\u001b[39m\u001b[39m\"\u001b[39m\u001b[39m \u001b[39m\u001b[39m\"\u001b[39m), check\u001b[39m=\u001b[39m\u001b[39mTrue\u001b[39;00m,\n\u001b[1;32m     <a href='file:///home/hiti/workspace/GPU_ArchComp/Ex2/scripts/common.py?line=31'>32</a>\u001b[0m                    stdout\u001b[39m=\u001b[39msubprocess\u001b[39m.\u001b[39mDEVNULL)\n",
      "File \u001b[0;32m/usr/lib/python3.10/subprocess.py:524\u001b[0m, in \u001b[0;36mrun\u001b[0;34m(input, capture_output, timeout, check, *popenargs, **kwargs)\u001b[0m\n\u001b[1;32m    <a href='file:///usr/lib/python3.10/subprocess.py?line=521'>522</a>\u001b[0m     retcode \u001b[39m=\u001b[39m process\u001b[39m.\u001b[39mpoll()\n\u001b[1;32m    <a href='file:///usr/lib/python3.10/subprocess.py?line=522'>523</a>\u001b[0m     \u001b[39mif\u001b[39;00m check \u001b[39mand\u001b[39;00m retcode:\n\u001b[0;32m--> <a href='file:///usr/lib/python3.10/subprocess.py?line=523'>524</a>\u001b[0m         \u001b[39mraise\u001b[39;00m CalledProcessError(retcode, process\u001b[39m.\u001b[39margs,\n\u001b[1;32m    <a href='file:///usr/lib/python3.10/subprocess.py?line=524'>525</a>\u001b[0m                                  output\u001b[39m=\u001b[39mstdout, stderr\u001b[39m=\u001b[39mstderr)\n\u001b[1;32m    <a href='file:///usr/lib/python3.10/subprocess.py?line=525'>526</a>\u001b[0m \u001b[39mreturn\u001b[39;00m CompletedProcess(process\u001b[39m.\u001b[39margs, retcode, stdout, stderr)\n",
      "\u001b[0;31mCalledProcessError\u001b[0m: Command '['/home/hiti/workspace/GPU_ArchComp/Ex2/build/src/ex2', '--ouputfile_timings', '/home/hiti/workspace/GPU_ArchComp/Ex2/out/timing_results.csv', '--inputfile', 'input_data/barabasi_50000_10.csv', '-m', '1']' died with <Signals.SIGSEGV: 11>."
     ]
    }
   ],
   "source": [
    "args = f\"--inputfile input_data/barabasi_50000_10.csv -m 1\"\n",
    "df = common.run_benchmark(common.OUT_DIR / \"timing_results.csv\",args=args)"
   ]
  },
  {
   "cell_type": "code",
   "execution_count": null,
   "metadata": {},
   "outputs": [],
   "source": []
  }
 ],
 "metadata": {
  "interpreter": {
   "hash": "916dbcbb3f70747c44a77c7bcd40155683ae19c65e1c03b4aa3499c5328201f1"
  },
  "kernelspec": {
   "display_name": "Python 3.10.4 64-bit",
   "language": "python",
   "name": "python3"
  },
  "language_info": {
   "codemirror_mode": {
    "name": "ipython",
    "version": 3
   },
   "file_extension": ".py",
   "mimetype": "text/x-python",
   "name": "python",
   "nbconvert_exporter": "python",
   "pygments_lexer": "ipython3",
   "version": "3.10.4"
  },
  "orig_nbformat": 4
 },
 "nbformat": 4,
 "nbformat_minor": 2
}
